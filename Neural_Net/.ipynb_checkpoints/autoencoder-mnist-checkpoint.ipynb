{
 "cells": [
  {
   "cell_type": "code",
   "execution_count": 14,
   "metadata": {
    "collapsed": true
   },
   "outputs": [],
   "source": [
    "import tensorflow as tf\n",
    "import pandas as pd\n",
    "import numpy as np\n",
    "import time\n",
    "from sklearn.feature_extraction.text import TfidfTransformer\n",
    "from sklearn.feature_extraction.text import TfidfVectorizer\n",
    "from sklearn.linear_model import LogisticRegression\n",
    "from sklearn.metrics import pairwise_distances\n",
    "import matplotlib.pyplot as plt\n",
    "from __future__ import division, print_function, absolute_import\n",
    "from tensorflow.examples.tutorials.mnist import input_data\n",
    "%matplotlib inline"
   ]
  },
  {
   "cell_type": "code",
   "execution_count": 53,
   "metadata": {
    "collapsed": true
   },
   "outputs": [],
   "source": [
    "from sklearn import linear_model\n",
    "from sklearn.metrics import accuracy_score\n",
    "from collections import Counter\n",
    "from sklearn.datasets import fetch_20newsgroups"
   ]
  },
  {
   "cell_type": "markdown",
   "metadata": {},
   "source": [
    "# 2A"
   ]
  },
  {
   "cell_type": "code",
   "execution_count": 4,
   "metadata": {},
   "outputs": [
    {
     "name": "stdout",
     "output_type": "stream",
     "text": [
      "Successfully downloaded train-images-idx3-ubyte.gz 9912422 bytes.\n",
      "Extracting MNIST_data/train-images-idx3-ubyte.gz\n",
      "Successfully downloaded train-labels-idx1-ubyte.gz 28881 bytes.\n",
      "Extracting MNIST_data/train-labels-idx1-ubyte.gz\n",
      "Successfully downloaded t10k-images-idx3-ubyte.gz 1648877 bytes.\n",
      "Extracting MNIST_data/t10k-images-idx3-ubyte.gz\n",
      "Successfully downloaded t10k-labels-idx1-ubyte.gz 4542 bytes.\n",
      "Extracting MNIST_data/t10k-labels-idx1-ubyte.gz\n"
     ]
    }
   ],
   "source": [
    "from tensorflow.examples.tutorials.mnist import input_data\n",
    "mnist = input_data.read_data_sets(\"MNIST_data/\", one_hot=True)"
   ]
  },
  {
   "cell_type": "code",
   "execution_count": 5,
   "metadata": {},
   "outputs": [
    {
     "data": {
      "text/plain": [
       "tensorflow.contrib.learn.python.learn.datasets.base.Datasets"
      ]
     },
     "execution_count": 5,
     "metadata": {},
     "output_type": "execute_result"
    }
   ],
   "source": [
    "type(mnist)"
   ]
  },
  {
   "cell_type": "markdown",
   "metadata": {
    "collapsed": true
   },
   "source": [
    "reference: [tensorflow](https://www.tensorflow.org/)"
   ]
  },
  {
   "cell_type": "markdown",
   "metadata": {
    "collapsed": true
   },
   "source": [
    "# 3"
   ]
  },
  {
   "cell_type": "code",
   "execution_count": 4,
   "metadata": {},
   "outputs": [
    {
     "name": "stdout",
     "output_type": "stream",
     "text": [
      "Successfully downloaded train-images-idx3-ubyte.gz 9912422 bytes.\n",
      "Extracting /tmp/data/train-images-idx3-ubyte.gz\n",
      "Successfully downloaded train-labels-idx1-ubyte.gz 28881 bytes.\n",
      "Extracting /tmp/data/train-labels-idx1-ubyte.gz\n",
      "Successfully downloaded t10k-images-idx3-ubyte.gz 1648877 bytes.\n",
      "Extracting /tmp/data/t10k-images-idx3-ubyte.gz\n",
      "Successfully downloaded t10k-labels-idx1-ubyte.gz 4542 bytes.\n",
      "Extracting /tmp/data/t10k-labels-idx1-ubyte.gz\n"
     ]
    }
   ],
   "source": [
    "mnist = input_data.read_data_sets(\"/tmp/data/\", one_hot=True)\n",
    "\n",
    "learning_rate = 0.01\n",
    "num_steps = 30000\n",
    "batch_size = 256\n",
    "\n",
    "display_step = 1000\n",
    "examples_to_show = 10"
   ]
  },
  {
   "cell_type": "code",
   "execution_count": 22,
   "metadata": {},
   "outputs": [
    {
     "name": "stdout",
     "output_type": "stream",
     "text": [
      "Extracting MNIST_data/train-images-idx3-ubyte.gz\n",
      "Extracting MNIST_data/train-labels-idx1-ubyte.gz\n",
      "Extracting MNIST_data/t10k-images-idx3-ubyte.gz\n",
      "Extracting MNIST_data/t10k-labels-idx1-ubyte.gz\n"
     ]
    }
   ],
   "source": [
    "mnist = input_data.read_data_sets(\"MNIST_data\", one_hot=False)"
   ]
  },
  {
   "cell_type": "code",
   "execution_count": 25,
   "metadata": {
    "collapsed": true
   },
   "outputs": [],
   "source": [
    "class autoencoder:\n",
    "    def __init__(self, input_dim, hidden_dim, epoch, batch_size, learning_rate=0.001):\n",
    "        self.epoch = epoch\n",
    "        self.learning_rate = learning_rate\n",
    "        self.batch_size = batch_size\n",
    "        \n",
    "        x = tf.placeholder(dtype=tf.float32, shape=[None, input_dim])\n",
    "        \n",
    "        with tf.name_scope('encode'):\n",
    "            weights = tf.Variable(tf.random_normal([input_dim, hidden_dim], dtype=tf.float32), name='weights')\n",
    "            biases = tf.Variable(tf.zeros([hidden_dim]), name='biases')\n",
    "            encoded = tf.nn.sigmoid(tf.matmul(x, weights) + biases)\n",
    "            \n",
    "        with tf.name_scope('decode'):\n",
    "            weights = tf.Variable(tf.random_normal([hidden_dim, input_dim], dtype=tf.float32), name='weights')\n",
    "            biases = tf.Variable(tf.zeros([input_dim]), name='biases')\n",
    "            decoded = tf.nn.sigmoid(tf.matmul(encoded, weights) + biases)\n",
    "            \n",
    "        self.x = x\n",
    "        self.encoded = encoded\n",
    "        self.decoded = decoded\n",
    "        self.loss = tf.sqrt(tf.reduce_mean(tf.square(tf.subtract(self.x, self.decoded))))\n",
    "        \n",
    "        self.train_op = tf.train.AdamOptimizer(self.learning_rate).minimize(self.loss)\n",
    "        self.saver = tf.train.Saver()\n",
    "\n",
    "    def get_batch(self, X, size):\n",
    "        a = np.random.choice(len(X), size, replace=False)\n",
    "        return X[a]\n",
    "\n",
    "    def train(self, data):\n",
    "        with tf.Session() as sess:\n",
    "            sess.run(tf.global_variables_initializer())\n",
    "            for i in range(self.epoch):\n",
    "                for j in range(np.shape(data)[0] // self.batch_size):\n",
    "                    batch_data = self.get_batch(data, self.batch_size)\n",
    "                    l, _ = sess.run([self.loss, self.train_op], feed_dict={self.x:batch_data})\n",
    "                print('epoch {0}: loss = {1}'.format(i+1, l))\n",
    "                self.saver.save(sess, './autoencoder.ckpt')\n",
    "            self.saver.save(sess, './autoencoder.ckpt')\n",
    "            \n",
    "    def test(self, data):\n",
    "        with tf.Session() as sess:\n",
    "            self.saver.restore(sess, \"./autoencoder.ckpt\")\n",
    "            hidden, reconstructed = sess.run([self.encoded, self.decoded], feed_dict={self.x:data})\n",
    "            return hidden, reconstructed\n",
    "        \n",
    "    def output(self, data):\n",
    "        hidden, reconstructed = self.test(data)\n",
    "        f, a = plt.subplots(2, 10, figsize=(10, 2))\n",
    "        for i in range(data.shape[0]):\n",
    "            a[0][i].imshow(np.reshape(data[i], (28, 28)))\n",
    "            a[1][i].imshow(np.reshape(reconstructed[i], (28, 28)))\n",
    "        f.show()\n",
    "        plt.draw()\n",
    "        plt.show()\n",
    "        \n",
    "def randomizer(r, data, n):\n",
    "    randomize = np.arange(len(data))\n",
    "    np.random.shuffle(randomize)\n",
    "    original_data = data[randomize]\n",
    "    recon_data= r[randomize]\n",
    "    original_sample=original_data[:n]\n",
    "    recon_sample=recon_data[:n]\n",
    "    return (recon_sample,original_sample)"
   ]
  },
  {
   "cell_type": "code",
   "execution_count": 24,
   "metadata": {},
   "outputs": [
    {
     "name": "stdout",
     "output_type": "stream",
     "text": [
      "(55000, 784)\n",
      "784\n",
      "epoch 1: loss = 0.32654520869255066\n",
      "epoch 2: loss = 0.28507745265960693\n",
      "epoch 3: loss = 0.2661462128162384\n",
      "epoch 4: loss = 0.26042288541793823\n",
      "epoch 5: loss = 0.2495718151330948\n",
      "epoch 6: loss = 0.24368911981582642\n",
      "epoch 7: loss = 0.2400023192167282\n",
      "epoch 8: loss = 0.22707922756671906\n",
      "epoch 9: loss = 0.22686852514743805\n",
      "epoch 10: loss = 0.22444507479667664\n",
      "Rebuilding the images from output layer\n",
      "INFO:tensorflow:Restoring parameters from ./Autoencoder.ckpt\n"
     ]
    },
    {
     "name": "stderr",
     "output_type": "stream",
     "text": [
      "/opt/anaconda/anaconda/lib/python3.5/site-packages/matplotlib/figure.py:403: UserWarning: matplotlib is currently using a non-GUI backend, so cannot show the figure\n",
      "  \"matplotlib is currently using a non-GUI backend, \"\n"
     ]
    },
    {
     "data": {
      "image/png": "[encoded data removed]",
      "text/plain": [
       "<matplotlib.figure.Figure at 0x123860d30>"
      ]
     },
     "metadata": {},
     "output_type": "display_data"
    },
    {
     "name": "stdout",
     "output_type": "stream",
     "text": [
      "[7 2 1 0 4 1 4 9 5 9]\n",
      "INFO:tensorflow:Restoring parameters from ./Autoencoder.ckpt\n",
      "INFO:tensorflow:Restoring parameters from ./Autoencoder.ckpt\n"
     ]
    }
   ],
   "source": [
    "hidden_dim = 200\n",
    "data = mnist.train.images\n",
    "\n",
    "print(data.shape)\n",
    "input_dim = len(data[0])\n",
    "print(input_dim)\n",
    "\n",
    "auto_en = autoencoder(input_dim = input_dim, hidden_dim = hidden_dim, epoch = 10, batch_size = 100)\n",
    "auto_en.train(data)\n",
    "\n",
    "print(\"Rebuilding images from output layer\")\n",
    "new = auto_en.output(mnist.test.images[:10])\n",
    "print(mnist.test.labels[:10])\n",
    "\n",
    "test_data = mnist.test.images\n",
    "\n",
    "hidden, new = ae.test(data)\n",
    "hidden2, new2 = ae.test(test_data)"
   ]
  },
  {
   "cell_type": "code",
   "execution_count": 77,
   "metadata": {},
   "outputs": [
    {
     "name": "stdout",
     "output_type": "stream",
     "text": [
      "Logistic Regression for MNIST\n",
      "The training accuracy is  0.9025090909090909\n",
      "The testing accuracy is  0.7721\n",
      "Examining the pairwise distances\n",
      "The pairwises distance for original dataset are [[0.         0.8030011  0.6587802  ... 0.6835693  0.71691525 0.8116621 ]\n",
      " [0.8030011  0.         0.7783221  ... 0.66677725 0.7071019  0.6137248 ]\n",
      " [0.6587802  0.7783221  0.         ... 0.47420633 0.51162565 0.6481463 ]\n",
      " ...\n",
      " [0.6835693  0.66677725 0.47420633 ... 0.         0.46332145 0.6004058 ]\n",
      " [0.71691525 0.7071019  0.51162565 ... 0.46332145 0.         0.5067235 ]\n",
      " [0.8116621  0.6137248  0.6481463  ... 0.6004058  0.5067235  0.        ]]\n",
      "The pairwises distance for original dataset are [[0.         0.5045148  0.40642488 ... 0.46711284 0.5238561  0.64096224]\n",
      " [0.5045148  0.         0.5505357  ... 0.4706902  0.52607167 0.46271622]\n",
      " [0.40642488 0.5505357  0.         ... 0.4193946  0.4115901  0.52281547]\n",
      " ...\n",
      " [0.46711284 0.4706902  0.4193946  ... 0.         0.33287442 0.44738603]\n",
      " [0.5238561  0.52607167 0.4115901  ... 0.33287442 0.         0.39941865]\n",
      " [0.64096224 0.46271622 0.52281547 ... 0.44738603 0.39941865 0.        ]]\n"
     ]
    }
   ],
   "source": [
    "print(\"Logistic Regression for MNIST\")\n",
    "\n",
    "logReg = LogisticRegression(penalty='l2', solver = 'lbfgs', multi_class='multinomial')\n",
    "logReg.fit(new, mnist.train.labels)\n",
    "pred = logReg.predict(mnist.test.images)\n",
    "\n",
    "score = logReg.score(new, mnist.train.labels)\n",
    "print(\"The training accuracy is \",score)\n",
    "\n",
    "score = logReg.score(mnist.test.images, mnist.test.labels)\n",
    "print(\"The testing accuracy is \", score)\n",
    "\n",
    "print(\"Examining the pairwise distances\")\n",
    "data = mnist.train.images\n",
    "reconstructed, original = randomizer(new, data, 100)\n",
    "\n",
    "pairwise_old = pairwise_distances(original, metric=\"cosine\")\n",
    "pairwise_new =  pairwise_distances(reconstructed, metric=\"cosine\")\n",
    "print(\"The pairwises distance for original dataset are\", pairwise_old)\n",
    "print(\"The pairwises distance for original dataset are\", pairwise_new)"
   ]
  },
  {
   "cell_type": "markdown",
   "metadata": {},
   "source": [
    "### Fashion data"
   ]
  },
  {
   "cell_type": "code",
   "execution_count": 21,
   "metadata": {
    "scrolled": true
   },
   "outputs": [
    {
     "name": "stdout",
     "output_type": "stream",
     "text": [
      "Successfully downloaded train-images-idx3-ubyte.gz 26421880 bytes.\n",
      "Extracting data/fashion/train-images-idx3-ubyte.gz\n",
      "Successfully downloaded train-labels-idx1-ubyte.gz 29515 bytes.\n",
      "Extracting data/fashion/train-labels-idx1-ubyte.gz\n",
      "Successfully downloaded t10k-images-idx3-ubyte.gz 4422102 bytes.\n",
      "Extracting data/fashion/t10k-images-idx3-ubyte.gz\n",
      "Successfully downloaded t10k-labels-idx1-ubyte.gz 5148 bytes.\n",
      "Extracting data/fashion/t10k-labels-idx1-ubyte.gz\n",
      "(55000, 784)\n",
      "784\n",
      "epoch 1: loss = 0.35843634605407715\n",
      "epoch 2: loss = 0.3304761052131653\n",
      "epoch 3: loss = 0.3096383213996887\n",
      "epoch 4: loss = 0.30214035511016846\n",
      "epoch 5: loss = 0.3044756352901459\n",
      "epoch 6: loss = 0.2956421971321106\n",
      "epoch 7: loss = 0.2894335389137268\n",
      "epoch 8: loss = 0.2840223014354706\n",
      "epoch 9: loss = 0.28180497884750366\n",
      "epoch 10: loss = 0.2892477214336395\n",
      "Rebuilding the images from output layer\n",
      "INFO:tensorflow:Restoring parameters from ./Autoencoder.ckpt\n"
     ]
    },
    {
     "name": "stderr",
     "output_type": "stream",
     "text": [
      "/opt/anaconda/anaconda/lib/python3.5/site-packages/matplotlib/figure.py:403: UserWarning: matplotlib is currently using a non-GUI backend, so cannot show the figure\n",
      "  \"matplotlib is currently using a non-GUI backend, \"\n"
     ]
    },
    {
     "data": {
      "image/png": "[encoded data removed]",
      "text/plain": [
       "<matplotlib.figure.Figure at 0x13913a160>"
      ]
     },
     "metadata": {},
     "output_type": "display_data"
    },
    {
     "name": "stdout",
     "output_type": "stream",
     "text": [
      "[9 2 1 1 6 1 4 6 5 7]\n",
      "INFO:tensorflow:Restoring parameters from ./Autoencoder.ckpt\n",
      "INFO:tensorflow:Restoring parameters from ./Autoencoder.ckpt\n",
      "Logistic Regression\n",
      "The training accuracy is  0.7164727272727273\n",
      "The testing accuracy is  0.6335\n",
      "Examining the pairwise distances\n",
      "The pairwises distance for original dataset are [[0.         0.3061043  0.52474475 ... 0.18777078 0.8362476  0.56487924]\n",
      " [0.3061043  0.         0.35030138 ... 0.17197013 0.5657319  0.38030672]\n",
      " [0.52474475 0.35030138 0.         ... 0.32729423 0.6609673  0.4416269 ]\n",
      " ...\n",
      " [0.18777078 0.17197013 0.32729423 ... 0.         0.59523475 0.4014383 ]\n",
      " [0.8362476  0.5657319  0.6609673  ... 0.59523475 0.         0.42028558]\n",
      " [0.56487924 0.38030672 0.4416269  ... 0.4014383  0.42028558 0.        ]]\n",
      "The pairwises distance for original dataset are [[0.         0.12244916 0.22607458 ... 0.06509161 0.44837117 0.34294355]\n",
      " [0.12244916 0.         0.15471184 ... 0.03252584 0.3339606  0.24272859]\n",
      " [0.22607458 0.15471184 0.         ... 0.15495539 0.32678956 0.22729087]\n",
      " ...\n",
      " [0.06509161 0.03252584 0.15495539 ... 0.         0.3910787  0.26710236]\n",
      " [0.44837117 0.3339606  0.32678956 ... 0.3910787  0.         0.18501258]\n",
      " [0.34294355 0.24272859 0.22729087 ... 0.26710236 0.18501258 0.        ]]\n"
     ]
    }
   ],
   "source": [
    "mnist = input_data.read_data_sets('data/fashion',source_url='http://fashion-mnist.s3-website.eu-central-1.amazonaws.com/', one_hot=False)\n",
    "       \n",
    "hidden_dim = 200\n",
    "data = mnist.train.images\n",
    "print(data.shape)\n",
    "input_dim = len(data[0])\n",
    "print(input_dim)\n",
    "auto_en = autoencoder(input_dim = input_dim, hidden_dim = hidden_dim, epoch = 10, batch_size = 100)\n",
    "\n",
    "auto_en.train(data)\n",
    "mnist.test.images[:10].shape\n",
    "print(\"Rebuilding the images from output layer\")\n",
    "rec = auto_en.show_result(mnist.test.images[:10])\n",
    "print(mnist.test.labels[:10])\n",
    "\n",
    "test_data = mnist.test.images\n",
    "\n",
    "hidden, new = auto_en.test(data)\n",
    "hidden2, new2 = auto_en.test(test_data)\n",
    "\n",
    "print(\"Logistic Regression for Fashion MNIST\")\n",
    "\n",
    "logReg = LogisticRegression(penalty='l2', solver = 'lbfgs', multi_class='multinomial')\n",
    "logReg.fit(new, mnist.train.labels)\n",
    "pred = logReg.predict(mnist.test.images)\n",
    "\n",
    "score = logReg.score(new, mnist.train.labels)\n",
    "print(\"The training accuracy is \",score)\n",
    "\n",
    "score = logReg.score(mnist.test.images, mnist.test.labels)\n",
    "print(\"The testing accuracy is \",score)\n",
    "\n",
    "print(\"Pairwise distances\")\n",
    "data = mnist.train.images\n",
    "reconstructed, original = randomizer(new, data, 100)"
   ]
  },
  {
   "cell_type": "code",
   "execution_count": 76,
   "metadata": {},
   "outputs": [
    {
     "name": "stdout",
     "output_type": "stream",
     "text": [
      "pairwise distance for original dataset are [[0.         0.3061043  0.52474475 ... 0.18777078 0.8362476  0.56487924]\n",
      " [0.3061043  0.         0.35030138 ... 0.17197013 0.5657319  0.38030672]\n",
      " [0.52474475 0.35030138 0.         ... 0.32729423 0.6609673  0.4416269 ]\n",
      " ...\n",
      " [0.18777078 0.17197013 0.32729423 ... 0.         0.59523475 0.4014383 ]\n",
      " [0.8362476  0.5657319  0.6609673  ... 0.59523475 0.         0.42028558]\n",
      " [0.56487924 0.38030672 0.4416269  ... 0.4014383  0.42028558 0.        ]]\n",
      "pairwise distance for original dataset are [[0.         0.12244916 0.22607458 ... 0.06509161 0.44837117 0.34294355]\n",
      " [0.12244916 0.         0.15471184 ... 0.03252584 0.3339606  0.24272859]\n",
      " [0.22607458 0.15471184 0.         ... 0.15495539 0.32678956 0.22729087]\n",
      " ...\n",
      " [0.06509161 0.03252584 0.15495539 ... 0.         0.3910787  0.26710236]\n",
      " [0.44837117 0.3339606  0.32678956 ... 0.3910787  0.         0.18501258]\n",
      " [0.34294355 0.24272859 0.22729087 ... 0.26710236 0.18501258 0.        ]]\n"
     ]
    }
   ],
   "source": [
    "pairwise_old = pairwise_distances(original, metric=\"cosine\")\n",
    "pairwise_new =  pairwise_distances(reconstructed, metric=\"cosine\")\n",
    "print(\"pairwise distance for original dataset are\", pairwise_old)\n",
    "print(\"pairwise distance for original dataset are\", pairwise_new)"
   ]
  }
 ],
 "metadata": {
  "anaconda-cloud": {},
  "kernelspec": {
   "display_name": "Python 3",
   "language": "python",
   "name": "python3"
  },
  "language_info": {
   "codemirror_mode": {
    "name": "ipython",
    "version": 3
   },
   "file_extension": ".py",
   "mimetype": "text/x-python",
   "name": "python",
   "nbconvert_exporter": "python",
   "pygments_lexer": "ipython3",
   "version": "3.6.4"
  }
 },
 "nbformat": 4,
 "nbformat_minor": 2
}
