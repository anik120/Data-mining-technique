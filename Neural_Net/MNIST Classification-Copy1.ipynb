{
 "cells": [
  {
   "cell_type": "code",
   "execution_count": 28,
   "metadata": {},
   "outputs": [],
   "source": [
    "import tensorflow as tf\n",
    "from tensorflow.examples.tutorials.mnist import input_data\n",
    "import mnist_reader\n",
    "from sklearn.preprocessing import OneHotEncoder\n",
    "import numpy as np"
   ]
  },
  {
   "cell_type": "code",
   "execution_count": 32,
   "metadata": {},
   "outputs": [
    {
     "data": {
      "text/plain": [
       "'1.4.1'"
      ]
     },
     "execution_count": 32,
     "metadata": {},
     "output_type": "execute_result"
    }
   ],
   "source": [
    "tf.__version__"
   ]
  },
  {
   "cell_type": "code",
   "execution_count": 4,
   "metadata": {},
   "outputs": [],
   "source": [
    "batch_size = 100\n",
    "training_images, training_labels = mnist_reader.load_mnist('MNIST-data', kind='train')\n",
    "test_images, test_labels = mnist_reader.load_mnist('MNIST-data', kind='t10k')\n",
    "encoder = OneHotEncoder()\n",
    "labels = np.array(list(training_labels) + list(test_labels)).reshape(-1, 1)\n",
    "labels = encoder.fit_transform(labels).todense()\n",
    "training_labels = labels[:60000]\n",
    "test_labels = labels[60000:]"
   ]
  },
  {
   "cell_type": "code",
   "execution_count": 5,
   "metadata": {},
   "outputs": [
    {
     "name": "stdout",
     "output_type": "stream",
     "text": [
      "60000\n",
      "60000\n",
      "10000\n",
      "10000\n"
     ]
    }
   ],
   "source": [
    "print(len(training_images))\n",
    "print(len(training_labels))\n",
    "print(len(test_images))\n",
    "print(len(test_labels))"
   ]
  },
  {
   "cell_type": "code",
   "execution_count": 6,
   "metadata": {},
   "outputs": [],
   "source": [
    "session = tf.InteractiveSession()\n",
    "x = tf.placeholder(tf.float32, shape=[None, 784])\n",
    "y = tf.placeholder(tf.float32, shape=[None, 10])\n",
    "\n",
    "w = tf.Variable(tf.zeros(shape=[784,10]))\n",
    "b = tf.Variable(tf.zeros(shape=[10]))\n",
    "\n",
    "session.run(tf.global_variables_initializer())  "
   ]
  },
  {
   "cell_type": "code",
   "execution_count": 7,
   "metadata": {},
   "outputs": [],
   "source": [
    "y_ = tf.matmul(x,w) + b\n",
    "\n",
    "cross_entropy = tf.reduce_mean(tf.nn.softmax_cross_entropy_with_logits(labels=y, logits=y_))\n",
    "\n",
    "train_step = tf.train.GradientDescentOptimizer(0.5).minimize(cross_entropy)\n"
   ]
  },
  {
   "cell_type": "code",
   "execution_count": 8,
   "metadata": {},
   "outputs": [
    {
     "data": {
      "text/plain": [
       "(100, 10)"
      ]
     },
     "execution_count": 8,
     "metadata": {},
     "output_type": "execute_result"
    }
   ],
   "source": [
    "training_labels[0:100].shape"
   ]
  },
  {
   "cell_type": "code",
   "execution_count": 9,
   "metadata": {},
   "outputs": [
    {
     "data": {
      "text/plain": [
       "10000"
      ]
     },
     "execution_count": 9,
     "metadata": {},
     "output_type": "execute_result"
    }
   ],
   "source": [
    "len(test_images)"
   ]
  },
  {
   "cell_type": "code",
   "execution_count": 25,
   "metadata": {},
   "outputs": [
    {
     "name": "stdout",
     "output_type": "stream",
     "text": [
      "./out/results.txt\n"
     ]
    }
   ],
   "source": [
    "outputdir = \"/out\"\n",
    "output_file = \".\" + outputdir + \"/results.txt\"\n",
    "file = open(output_file, 'w')\n",
    "print(output_file)"
   ]
  },
  {
   "cell_type": "code",
   "execution_count": 26,
   "metadata": {},
   "outputs": [
    {
     "name": "stdout",
     "output_type": "stream",
     "text": [
      "3919.5625\n",
      "5516.127\n",
      "12495.666\n",
      "3778.7793\n",
      "6344.5825\n",
      "5719.592\n",
      "3524.1003\n",
      "5260.721\n",
      "13643.831\n",
      "4230.1094\n"
     ]
    }
   ],
   "source": [
    "for index in range(1000):\n",
    "    start_index = (index * batch_size) % len(training_images)\n",
    "    end_index = ((index + 1) * batch_size) % len(training_images)\n",
    "    batch_x = training_images[start_index: end_index]\n",
    "#     train_step.run(feed_dict={x:batch_x, y:training_labels[start_index:end_index]})\n",
    "    _, l = session.run([train_step, cross_entropy], feed_dict={x:batch_x, y:training_labels[start_index:end_index]})\n",
    "    if index % 100 == 0:\n",
    "        file.write(str(l) + \"\\n\")\n",
    "        print(l)\n",
    "file.close()"
   ]
  },
  {
   "cell_type": "code",
   "execution_count": 15,
   "metadata": {},
   "outputs": [
    {
     "name": "stdout",
     "output_type": "stream",
     "text": [
      "0.8689\n"
     ]
    }
   ],
   "source": [
    "correct_prediction = tf.equal(tf.argmax(y_, 1), tf.arg_max(y, 1))\n",
    "accuracy = tf.reduce_mean(tf.cast(correct_prediction, tf.float32))\n",
    "print(accuracy.eval(feed_dict={x:test_images, y:test_labels}))\n"
   ]
  },
  {
   "cell_type": "code",
   "execution_count": 27,
   "metadata": {},
   "outputs": [
    {
     "name": "stdout",
     "output_type": "stream",
     "text": [
      "Step: 100 Minibatch cross entropy: \n"
     ]
    }
   ],
   "source": [
    "line = \"Step: \" +  str(100) + \" Minibatch cross entropy: \"\n",
    "print(line)\n"
   ]
  },
  {
   "cell_type": "code",
   "execution_count": null,
   "metadata": {},
   "outputs": [],
   "source": []
  }
 ],
 "metadata": {
  "kernelspec": {
   "display_name": "Python 3",
   "language": "python",
   "name": "python3"
  },
  "language_info": {
   "codemirror_mode": {
    "name": "ipython",
    "version": 3
   },
   "file_extension": ".py",
   "mimetype": "text/x-python",
   "name": "python",
   "nbconvert_exporter": "python",
   "pygments_lexer": "ipython3",
   "version": "3.6.4"
  }
 },
 "nbformat": 4,
 "nbformat_minor": 2
}
