{
 "cells": [
  {
   "cell_type": "code",
   "execution_count": 1,
   "metadata": {},
   "outputs": [
    {
     "name": "stderr",
     "output_type": "stream",
     "text": [
      "/usr/local/Cellar/python3/3.6.4_2/Frameworks/Python.framework/Versions/3.6/lib/python3.6/importlib/_bootstrap.py:219: RuntimeWarning: compiletime version 3.5 of module 'tensorflow.python.framework.fast_tensor_util' does not match runtime version 3.6\n",
      "  return f(*args, **kwds)\n"
     ]
    }
   ],
   "source": [
    "import tensorflow as tf\n",
    "from tensorflow.examples.tutorials.mnist import input_data\n",
    "import numpy as np\n",
    "import matplotlib.pyplot as plt\n",
    "import mnist_reader\n",
    "from sklearn.preprocessing import normalize"
   ]
  },
  {
   "cell_type": "code",
   "execution_count": 2,
   "metadata": {},
   "outputs": [],
   "source": [
    "training_images, training_labels = mnist_reader.load_mnist('data/fashion', kind='train')\n",
    "test_images, test_labels = mnist_reader.load_mnist('data/fashion', kind='t10k')\n",
    "images = np.array(list(training_images) + list(test_images))\n",
    "images = images / np.linalg.norm(images)\n",
    "# session = tf.InteractiveSession()"
   ]
  },
  {
   "cell_type": "code",
   "execution_count": null,
   "metadata": {},
   "outputs": [],
   "source": [
    "training_labels[1]"
   ]
  },
  {
   "cell_type": "code",
   "execution_count": 3,
   "metadata": {},
   "outputs": [
    {
     "data": {
      "text/plain": [
       "<matplotlib.image.AxesImage at 0x12144aa20>"
      ]
     },
     "execution_count": 3,
     "metadata": {},
     "output_type": "execute_result"
    },
    {
     "data": {
      "image/png": "[encoded data removed]",
      "text/plain": [
       "<matplotlib.figure.Figure at 0x11df984e0>"
      ]
     },
     "metadata": {},
     "output_type": "display_data"
    }
   ],
   "source": [
    "plt.imshow(images[0].reshape(28, 28), cmap='gray')"
   ]
  },
  {
   "cell_type": "code",
   "execution_count": 6,
   "metadata": {},
   "outputs": [],
   "source": [
    "# Training Parameters\n",
    "learning_rate = 0.0005\n",
    "num_epochs = 16\n",
    "num_steps = 10000\n",
    "batch_size = 100\n",
    "\n",
    "display_step = 5000\n",
    "\n",
    "num_hidden_1 = 256 \n",
    "num_hidden_2 = 256 \n",
    "num_input = 784 \n",
    "\n",
    "\n",
    "X = tf.placeholder(\"float\", [None, num_input])\n",
    "\n",
    "weights = {\n",
    "    'encoder_h1': tf.Variable(tf.zeros([num_input, num_hidden_1])),\n",
    "    'encoder_h2': tf.Variable(tf.zeros([num_hidden_1, num_hidden_2])),\n",
    "    'decoder_h1': tf.Variable(tf.zeros([num_hidden_2, num_hidden_1])),\n",
    "    'decoder_h2': tf.Variable(tf.zeros([num_hidden_1, num_input])),\n",
    "}\n",
    "biases = {\n",
    "    'encoder_b1': tf.Variable(tf.zeros([num_hidden_1])),\n",
    "    'encoder_b2': tf.Variable(tf.zeros([num_hidden_2])),\n",
    "    'decoder_b1': tf.Variable(tf.zeros([num_hidden_1])),\n",
    "    'decoder_b2': tf.Variable(tf.zeros([num_input])),\n",
    "}"
   ]
  },
  {
   "cell_type": "code",
   "execution_count": 7,
   "metadata": {},
   "outputs": [],
   "source": [
    "def encoder(x):\n",
    "    layer_1 = tf.nn.sigmoid(tf.add(tf.matmul(x, weights['encoder_h1']),\n",
    "                                   biases['encoder_b1']))\n",
    "    layer_2 = tf.nn.sigmoid(tf.add(tf.matmul(layer_1, weights['encoder_h2']),\n",
    "                                   biases['encoder_b2']))\n",
    "    return layer_2\n",
    "\n",
    "\n",
    "def decoder(x):\n",
    "    layer_1 = tf.nn.sigmoid(tf.add(tf.matmul(x, weights['decoder_h1']),\n",
    "                                   biases['decoder_b1']))\n",
    "    layer_2 = tf.nn.sigmoid(tf.add(tf.matmul(layer_1, weights['decoder_h2']),\n",
    "                                   biases['decoder_b2']))\n",
    "    return layer_2"
   ]
  },
  {
   "cell_type": "code",
   "execution_count": 8,
   "metadata": {},
   "outputs": [],
   "source": [
    "\n",
    "encoder_op = encoder(X)\n",
    "decoder_op = decoder(encoder_op)\n",
    "# Prediction\n",
    "y_pred = decoder_op\n",
    "# Targets (Labels) are the input data.\n",
    "y_true = X\n",
    "\n",
    "\n",
    "loss = tf.reduce_mean(tf.pow(y_true - y_pred, 2))\n",
    "optimizer = tf.train.AdamOptimizer(learning_rate).minimize(loss)\n",
    "\n",
    "\n",
    "init = tf.global_variables_initializer()"
   ]
  },
  {
   "cell_type": "code",
   "execution_count": 10,
   "metadata": {},
   "outputs": [
    {
     "name": "stdout",
     "output_type": "stream",
     "text": [
      "Epoch: 0\n",
      "Step 0: Minibatch Loss: 13383.419922\n",
      "Step 1: Minibatch Loss: 13368.373047\n",
      "Step 5000: Minibatch Loss: 13326.765625\n",
      "\n",
      "=======================================\n",
      "\n",
      "Epoch: 1\n",
      "Step 0: Minibatch Loss: 13310.948242\n",
      "Step 1: Minibatch Loss: 13298.150391\n",
      "Step 5000: Minibatch Loss: 13326.678711\n",
      "\n",
      "=======================================\n",
      "\n",
      "Epoch: 2\n",
      "Step 0: Minibatch Loss: 13310.938477\n",
      "Step 1: Minibatch Loss: 13298.141602\n",
      "Step 5000: Minibatch Loss: 13326.682617\n",
      "\n",
      "=======================================\n",
      "\n",
      "Epoch: 3\n",
      "Step 0: Minibatch Loss: 13310.937500\n",
      "Step 1: Minibatch Loss: 13298.140625\n",
      "Step 5000: Minibatch Loss: 13326.682617\n",
      "\n",
      "=======================================\n",
      "\n",
      "Epoch: 4\n",
      "Step 0: Minibatch Loss: 13310.937500\n",
      "Step 1: Minibatch Loss: 13298.141602\n",
      "Step 5000: Minibatch Loss: 13326.683594\n",
      "\n",
      "=======================================\n",
      "\n",
      "Epoch: 5\n",
      "Step 0: Minibatch Loss: 13310.937500\n",
      "Step 1: Minibatch Loss: 13298.140625\n",
      "Step 5000: Minibatch Loss: 13326.685547\n",
      "\n",
      "=======================================\n",
      "\n",
      "Epoch: 6\n",
      "Step 0: Minibatch Loss: 13310.937500\n",
      "Step 1: Minibatch Loss: 13298.140625\n",
      "Step 5000: Minibatch Loss: 13326.685547\n",
      "\n",
      "=======================================\n",
      "\n",
      "Epoch: 7\n",
      "Step 0: Minibatch Loss: 13310.937500\n",
      "Step 1: Minibatch Loss: 13298.140625\n",
      "Step 5000: Minibatch Loss: 13326.685547\n",
      "\n",
      "=======================================\n",
      "\n",
      "Epoch: 8\n",
      "Step 0: Minibatch Loss: 13310.937500\n",
      "Step 1: Minibatch Loss: 13298.140625\n",
      "Step 5000: Minibatch Loss: 13326.685547\n",
      "\n",
      "=======================================\n",
      "\n",
      "Epoch: 9\n",
      "Step 0: Minibatch Loss: 13310.937500\n",
      "Step 1: Minibatch Loss: 13298.140625\n",
      "Step 5000: Minibatch Loss: 13326.686523\n",
      "\n",
      "=======================================\n",
      "\n",
      "Epoch: 10\n",
      "Step 0: Minibatch Loss: 13310.938477\n",
      "Step 1: Minibatch Loss: 13298.140625\n",
      "Step 5000: Minibatch Loss: 13326.686523\n",
      "\n",
      "=======================================\n",
      "\n",
      "Epoch: 11\n",
      "Step 0: Minibatch Loss: 13310.938477\n",
      "Step 1: Minibatch Loss: 13298.140625\n",
      "Step 5000: Minibatch Loss: 13326.685547\n",
      "\n",
      "=======================================\n",
      "\n",
      "Epoch: 12\n",
      "Step 0: Minibatch Loss: 13310.938477\n",
      "Step 1: Minibatch Loss: 13298.140625\n",
      "Step 5000: Minibatch Loss: 13326.683594\n",
      "\n",
      "=======================================\n",
      "\n",
      "Epoch: 13\n",
      "Step 0: Minibatch Loss: 13310.938477\n",
      "Step 1: Minibatch Loss: 13298.140625\n",
      "Step 5000: Minibatch Loss: 13326.683594\n",
      "\n",
      "=======================================\n",
      "\n",
      "Epoch: 14\n",
      "Step 0: Minibatch Loss: 13310.938477\n",
      "Step 1: Minibatch Loss: 13298.141602\n",
      "Step 5000: Minibatch Loss: 13326.683594\n",
      "\n",
      "=======================================\n",
      "\n",
      "Epoch: 15\n",
      "Step 0: Minibatch Loss: 13310.938477\n",
      "Step 1: Minibatch Loss: 13298.141602\n",
      "Step 5000: Minibatch Loss: 13326.683594\n",
      "\n",
      "=======================================\n",
      "\n"
     ]
    }
   ],
   "source": [
    "sess = tf.Session()\n",
    "sess.run(init)\n",
    "\n",
    "\n",
    "# Training\n",
    "for epoch in range(num_epochs):\n",
    "    print(\"Epoch: \" + str(epoch))\n",
    "    for index in range(num_steps):\n",
    "        start_index = (index * batch_size) % len(training_images)\n",
    "        end_index = ((index + 1) * batch_size) % len(training_images)\n",
    "        batch_x = training_images[start_index: end_index]\n",
    "        _, l = sess.run([optimizer, loss], feed_dict={X: batch_x})\n",
    "        if index % display_step == 0 or index == 1:\n",
    "            print('Step %i: Minibatch Loss: %f' % (index, l))\n",
    "    print(\"\\n=======================================\\n\")\n",
    "\n",
    "    "
   ]
  },
  {
   "cell_type": "code",
   "execution_count": null,
   "metadata": {},
   "outputs": [],
   "source": [
    "reconstructed_images = []\n",
    "g = sess.run(decoder_op, feed_dict={X:images})\n",
    "reconstructed_images = list(g)"
   ]
  },
  {
   "cell_type": "code",
   "execution_count": null,
   "metadata": {},
   "outputs": [],
   "source": [
    "np.array(reconstructed_images).shape"
   ]
  },
  {
   "cell_type": "code",
   "execution_count": null,
   "metadata": {},
   "outputs": [],
   "source": [
    "from sklearn import linear_model\n",
    "from sklearn.metrics import accuracy_score\n",
    "log_reg = linear_model.LogisticRegression()\n",
    "log_reg.fit(reconstructed_images[:60000], training_labels)\n",
    "predicted_labels = log_reg.predict(reconstructed_images[60000:])\n",
    "score = accuracy_score(test_labels,predicted_labels)\n",
    "print(\"Accuracy of predictions: \" ,score * 100, \"%\")"
   ]
  },
  {
   "cell_type": "code",
   "execution_count": null,
   "metadata": {},
   "outputs": [],
   "source": [
    "from sklearn import linear_model\n",
    "from sklearn.metrics import accuracy_score\n",
    "log_reg = linear_model.LogisticRegression()\n",
    "log_reg.fit(images[:60000], training_labels)\n",
    "predicted_labels = log_reg.predict(images[60000:])\n",
    "score = accuracy_score(test_labels,predicted_labels)\n",
    "print(\"Accuracy of predictions: \" ,score * 100, \"%\")"
   ]
  },
  {
   "cell_type": "code",
   "execution_count": null,
   "metadata": {},
   "outputs": [],
   "source": [
    "plt.imshow(training_images[67].reshape(28,28), cmap='gray')"
   ]
  },
  {
   "cell_type": "code",
   "execution_count": null,
   "metadata": {},
   "outputs": [],
   "source": [
    "plt.imshow(reconstructed_images[67].reshape(28,28), cmap='gray')"
   ]
  },
  {
   "cell_type": "code",
   "execution_count": null,
   "metadata": {},
   "outputs": [],
   "source": [
    "reconstructed_images_reduced_dim = []\n",
    "g = sess.run(encoder_op, feed_dict={X:images})\n",
    "reconstructed_images_reduced_dim = list(g)"
   ]
  },
  {
   "cell_type": "code",
   "execution_count": null,
   "metadata": {},
   "outputs": [],
   "source": [
    "np.array(reconstructed_images_reduced_dim).shape"
   ]
  },
  {
   "cell_type": "code",
   "execution_count": null,
   "metadata": {},
   "outputs": [],
   "source": [
    "from sklearn import linear_model\n",
    "from sklearn.metrics import accuracy_score\n",
    "log_reg = linear_model.LogisticRegression()\n",
    "log_reg.fit(reconstructed_images_reduced_dim[:60000], training_labels)\n",
    "predicted_labels = log_reg.predict(reconstructed_images_reduced_dim[60000:])\n",
    "score = accuracy_score(test_labels,predicted_labels)\n",
    "print(\"Accuracy of predictions: \" ,score * 100, \"%\")"
   ]
  },
  {
   "cell_type": "code",
   "execution_count": null,
   "metadata": {},
   "outputs": [],
   "source": [
    "plt.imshow(reconstructed_images_reduced_dim[0].reshape(30,20), cmap='gray')"
   ]
  },
  {
   "cell_type": "code",
   "execution_count": null,
   "metadata": {},
   "outputs": [],
   "source": [
    "plt.imshow(reconstructed_images_reduced_dim[0].reshape(16,16), cmap='gray')"
   ]
  }
 ],
 "metadata": {
  "kernelspec": {
   "display_name": "Python 3",
   "language": "python",
   "name": "python3"
  },
  "language_info": {
   "codemirror_mode": {
    "name": "ipython",
    "version": 3
   },
   "file_extension": ".py",
   "mimetype": "text/x-python",
   "name": "python",
   "nbconvert_exporter": "python",
   "pygments_lexer": "ipython3",
   "version": "3.6.4"
  }
 },
 "nbformat": 4,
 "nbformat_minor": 2
}
