{
 "cells": [
  {
   "cell_type": "code",
   "execution_count": 1,
   "metadata": {},
   "outputs": [],
   "source": [
    "import pandas as pd\n",
    "from sklearn import tree\n",
    "from sklearn.metrics import accuracy_score"
   ]
  },
  {
   "cell_type": "code",
   "execution_count": 2,
   "metadata": {},
   "outputs": [],
   "source": [
    "data = pd.read_csv('spambase.data.txt', header=None)\n",
    "data.rename(columns={57:'is_spam'}, inplace=True)\n",
    "X = []\n",
    "Y = []\n",
    "with open(\"spambase.data.txt\") as f:\n",
    "    for i,line in enumerate(f):\n",
    "        line= line.strip()\n",
    "        line = line.split(',')\n",
    "        line2 = [float(i) for i in line]\n",
    "        X.append(line2[:len(line2)-1])\n",
    "        Y.append(line2[len(line2)-1:][0])"
   ]
  },
  {
   "cell_type": "code",
   "execution_count": 3,
   "metadata": {},
   "outputs": [],
   "source": [
    "X_test = X[int(0.9*len(X)):]\n",
    "Y_test = Y[int(0.9*len(Y)):]\n",
    "X_train = X[:int(0.9*len(X))]\n",
    "Y_train = Y[:int(0.9*len(Y))]"
   ]
  },
  {
   "cell_type": "code",
   "execution_count": 4,
   "metadata": {},
   "outputs": [],
   "source": [
    "classifier = tree.DecisionTreeClassifier()\n",
    "classifier = classifier.fit(X_train, Y_train)"
   ]
  },
  {
   "cell_type": "code",
   "execution_count": 5,
   "metadata": {},
   "outputs": [],
   "source": [
    "predicted_labels = classifier.predict(X_test)"
   ]
  },
  {
   "cell_type": "code",
   "execution_count": 6,
   "metadata": {},
   "outputs": [
    {
     "name": "stdout",
     "output_type": "stream",
     "text": [
      "Accuracy of predictions:  66.5943600867679 %\n"
     ]
    }
   ],
   "source": [
    "score = accuracy_score(Y_test,predicted_labels)\n",
    "print(\"Accuracy of predictions: \" ,score * 100, \"%\")"
   ]
  },
  {
   "cell_type": "code",
   "execution_count": 7,
   "metadata": {},
   "outputs": [
    {
     "name": "stdout",
     "output_type": "stream",
     "text": [
      "Top 30 features:\n"
     ]
    },
    {
     "data": {
      "text/plain": [
       "array([51, 24,  6, 56, 23, 26, 15, 55, 54, 18, 52, 49, 45, 11, 20,  7,  9,\n",
       "       41,  4, 21, 27,  5, 10, 25, 47, 16, 32, 17, 44,  0])"
      ]
     },
     "execution_count": 7,
     "metadata": {},
     "output_type": "execute_result"
    }
   ],
   "source": [
    "importances = classifier.feature_importances_\n",
    "idx = importances.argsort()[::-1]   \n",
    "print(\"Top 30 features:\")\n",
    "idx[:30]"
   ]
  }
 ],
 "metadata": {
  "kernelspec": {
   "display_name": "Python 3",
   "language": "python",
   "name": "python3"
  },
  "language_info": {
   "codemirror_mode": {
    "name": "ipython",
    "version": 3
   },
   "file_extension": ".py",
   "mimetype": "text/x-python",
   "name": "python",
   "nbconvert_exporter": "python",
   "pygments_lexer": "ipython3",
   "version": "3.6.4"
  }
 },
 "nbformat": 4,
 "nbformat_minor": 2
}
