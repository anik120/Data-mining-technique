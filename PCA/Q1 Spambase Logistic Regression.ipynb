{
 "cells": [
  {
   "cell_type": "code",
   "execution_count": 8,
   "metadata": {},
   "outputs": [],
   "source": [
    "import pandas as pd\n",
    "from sklearn import tree\n",
    "from sklearn import linear_model\n",
    "from sklearn.metrics import accuracy_score"
   ]
  },
  {
   "cell_type": "code",
   "execution_count": 2,
   "metadata": {},
   "outputs": [],
   "source": [
    "data = pd.read_csv('spambase.data.txt', header=None)\n",
    "data.rename(columns={57:'is_spam'}, inplace=True)\n",
    "X = []\n",
    "Y = []\n",
    "with open(\"spambase.data.txt\") as f:\n",
    "    for i,line in enumerate(f):\n",
    "        line= line.strip()\n",
    "        line = line.split(',')\n",
    "        line2 = [float(i) for i in line]\n",
    "        X.append(line2[:len(line2)-1])\n",
    "        Y.append(line2[len(line2)-1:][0])"
   ]
  },
  {
   "cell_type": "code",
   "execution_count": 3,
   "metadata": {},
   "outputs": [],
   "source": [
    "X_test = X[int(0.9*len(X)):]\n",
    "Y_test = Y[int(0.9*len(Y)):]\n",
    "X_train = X[:int(0.9*len(X))]\n",
    "Y_train = Y[:int(0.9*len(Y))]"
   ]
  },
  {
   "cell_type": "code",
   "execution_count": 4,
   "metadata": {},
   "outputs": [],
   "source": [
    "log_reg = linear_model.LogisticRegression()"
   ]
  },
  {
   "cell_type": "code",
   "execution_count": 5,
   "metadata": {},
   "outputs": [
    {
     "data": {
      "text/plain": [
       "LogisticRegression(C=1.0, class_weight=None, dual=False, fit_intercept=True,\n",
       "          intercept_scaling=1, max_iter=100, multi_class='ovr', n_jobs=1,\n",
       "          penalty='l2', random_state=None, solver='liblinear', tol=0.0001,\n",
       "          verbose=0, warm_start=False)"
      ]
     },
     "execution_count": 5,
     "metadata": {},
     "output_type": "execute_result"
    }
   ],
   "source": [
    "log_reg.fit(X_train, Y_train)"
   ]
  },
  {
   "cell_type": "code",
   "execution_count": 6,
   "metadata": {},
   "outputs": [],
   "source": [
    "predicted_labels = log_reg.predict(X_test)"
   ]
  },
  {
   "cell_type": "code",
   "execution_count": 9,
   "metadata": {},
   "outputs": [
    {
     "name": "stdout",
     "output_type": "stream",
     "text": [
      "Accuracy of predictions:  81.77874186550976 %\n"
     ]
    }
   ],
   "source": [
    "score = accuracy_score(Y_test,predicted_labels)\n",
    "print(\"Accuracy of predictions: \" ,score * 100, \"%\")"
   ]
  },
  {
   "cell_type": "code",
   "execution_count": 14,
   "metadata": {},
   "outputs": [
    {
     "name": "stdout",
     "output_type": "stream",
     "text": [
      "Top 30 features:\n"
     ]
    },
    {
     "data": {
      "text/plain": [
       "array([52, 23, 22,  6, 51, 21, 53, 15, 35, 19,  5, 16,  7, 14,  3,  4,  8,\n",
       "       27, 17, 20, 18, 48,  2, 13,  9, 12, 55, 56, 54, 49])"
      ]
     },
     "execution_count": 14,
     "metadata": {},
     "output_type": "execute_result"
    }
   ],
   "source": [
    "importances = log_reg.coef_\n",
    "idx = importances[0].argsort()[::-1]   \n",
    "print(\"Top 30 features:\")\n",
    "idx[:30]"
   ]
  },
  {
   "cell_type": "code",
   "execution_count": null,
   "metadata": {},
   "outputs": [],
   "source": []
  }
 ],
 "metadata": {
  "kernelspec": {
   "display_name": "Python 3",
   "language": "python",
   "name": "python3"
  },
  "language_info": {
   "codemirror_mode": {
    "name": "ipython",
    "version": 3
   },
   "file_extension": ".py",
   "mimetype": "text/x-python",
   "name": "python",
   "nbconvert_exporter": "python",
   "pygments_lexer": "ipython3",
   "version": "3.6.4"
  }
 },
 "nbformat": 4,
 "nbformat_minor": 2
}
