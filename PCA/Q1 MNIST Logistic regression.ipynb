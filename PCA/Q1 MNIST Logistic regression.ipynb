{
 "cells": [
  {
   "cell_type": "code",
   "execution_count": 1,
   "metadata": {},
   "outputs": [
    {
     "name": "stderr",
     "output_type": "stream",
     "text": [
      "/usr/local/Cellar/python3/3.6.4_2/Frameworks/Python.framework/Versions/3.6/lib/python3.6/importlib/_bootstrap.py:219: RuntimeWarning: compiletime version 3.5 of module 'tensorflow.python.framework.fast_tensor_util' does not match runtime version 3.6\n",
      "  return f(*args, **kwds)\n"
     ]
    }
   ],
   "source": [
    "from tensorflow.examples.tutorials.mnist import input_data\n",
    "from sklearn import linear_model\n",
    "from sklearn.metrics import accuracy_score"
   ]
  },
  {
   "cell_type": "code",
   "execution_count": 2,
   "metadata": {},
   "outputs": [
    {
     "name": "stdout",
     "output_type": "stream",
     "text": [
      "Extracting MNIST_data/train-images-idx3-ubyte.gz\n",
      "Extracting MNIST_data/train-labels-idx1-ubyte.gz\n",
      "Extracting MNIST_data/t10k-images-idx3-ubyte.gz\n",
      "Extracting MNIST_data/t10k-labels-idx1-ubyte.gz\n"
     ]
    }
   ],
   "source": [
    "mnist = input_data.read_data_sets(\"MNIST_data/\")\n",
    "\n",
    "training_images, test_images = mnist.train.images, mnist.test.images\n",
    "training_labels, test_labels = mnist.train.labels, mnist.test.labels"
   ]
  },
  {
   "cell_type": "code",
   "execution_count": 3,
   "metadata": {},
   "outputs": [],
   "source": [
    "log_reg = linear_model.LogisticRegression()"
   ]
  },
  {
   "cell_type": "code",
   "execution_count": 4,
   "metadata": {},
   "outputs": [
    {
     "data": {
      "text/plain": [
       "LogisticRegression(C=1.0, class_weight=None, dual=False, fit_intercept=True,\n",
       "          intercept_scaling=1, max_iter=100, multi_class='ovr', n_jobs=1,\n",
       "          penalty='l2', random_state=None, solver='liblinear', tol=0.0001,\n",
       "          verbose=0, warm_start=False)"
      ]
     },
     "execution_count": 4,
     "metadata": {},
     "output_type": "execute_result"
    }
   ],
   "source": [
    "log_reg.fit(training_images, training_labels)"
   ]
  },
  {
   "cell_type": "code",
   "execution_count": 5,
   "metadata": {},
   "outputs": [],
   "source": [
    "predicted_labels = log_reg.predict(test_images)"
   ]
  },
  {
   "cell_type": "code",
   "execution_count": 6,
   "metadata": {},
   "outputs": [
    {
     "name": "stdout",
     "output_type": "stream",
     "text": [
      "Accuracy of predictions:  91.97 %\n"
     ]
    }
   ],
   "source": [
    "score = accuracy_score(test_labels,predicted_labels)\n",
    "print(\"Accuracy of predictions: \" ,score * 100, \"%\")"
   ]
  },
  {
   "cell_type": "code",
   "execution_count": 22,
   "metadata": {},
   "outputs": [
    {
     "name": "stdout",
     "output_type": "stream",
     "text": [
      "Class  1 :\n",
      "Top 30 features:\n",
      "[629 302 240 430 360  44 444 397 498 370 298 399 368 427 150 236 404 265\n",
      " 213 303 271 262 374 544 482 189 571 297 207 453]\n",
      "===================================================================================\n",
      "Class  2 :\n",
      "Top 30 features:\n",
      "[621 350 634  69 323 636 295 145 490 579 609 593 661 406 381 489 612 162\n",
      " 259 436 539 598 294 606  71 528 407 267 608 321]\n",
      "===================================================================================\n",
      "Class  3 :\n",
      "Top 30 features:\n",
      "[474 390 418 446 389 501 425 696 391 557 528 584 286 509 257 473 665 118\n",
      " 454 611 451 444 565 567  93 502 362 388 121 202]\n",
      "===================================================================================\n",
      "Class  4 :\n",
      "Top 30 features:\n",
      "[104 507 535 117 171  98 678 440 649  89 443 201 311 563 450 526 708 404\n",
      " 479 676 499 256 493 712 274 662 520 350 395 130]\n",
      "===================================================================================\n",
      "Class  5 :\n",
      "Top 30 features:\n",
      "[348 637 396 136 596 375 535 593 442 201 229 494 219 468 517 399 191 446\n",
      " 373 424 374 436 513 443 611 478 409 135 346 635]\n",
      "===================================================================================\n",
      "Class  6 :\n",
      "Top 30 features:\n",
      "[333 304 332 362 305 276 221 723 306 192 482 334 444 249 248 724 303 649\n",
      " 582 722 274 136 369 415 273 681 613 556 314 609]\n",
      "===================================================================================\n",
      "Class  7 :\n",
      "Top 30 features:\n",
      "[387 108  77 370 313 574  79 459  66  68 600 148 107  76 516  69  78 544\n",
      " 484 486 602 414 403 220 605  90  91 434 347  72]\n",
      "===================================================================================\n",
      "Class  8 :\n",
      "Top 30 features:\n",
      "[310 338 411 677 282 536 231 366 339 264 296 442 171 293 678 769 199 269\n",
      " 651 773 621 455 367 302 256 266 176 394 174 279]\n",
      "===================================================================================\n",
      "Class  9 :\n",
      "Top 30 features:\n",
      "[691 278 284 332 500 360 107 303 657 341 471 485 403 417 688 397 317 379\n",
      " 301 667 637 610 526 434 165 433 228 377 137 488]\n",
      "===================================================================================\n",
      "Class  10 :\n",
      "Top 30 features:\n",
      "[666 359 746 720 721 695 742 748 585 734 705 565 368 470 744 740 212 667\n",
      " 732 211 369 316 184 612 182 735 358 328 668 613]\n",
      "===================================================================================\n"
     ]
    }
   ],
   "source": [
    "importances = log_reg.coef_\n",
    "feature = 1\n",
    "for coefs in importances:\n",
    "    print(\"Class \",feature, \":\")\n",
    "    idx = coefs.argsort()[::-1]   \n",
    "    print(\"Top 30 features:\")\n",
    "    print(idx[:30])\n",
    "    print(\"===================================================================================\")\n",
    "    feature += 1"
   ]
  }
 ],
 "metadata": {
  "kernelspec": {
   "display_name": "Python 3",
   "language": "python",
   "name": "python3"
  },
  "language_info": {
   "codemirror_mode": {
    "name": "ipython",
    "version": 3
   },
   "file_extension": ".py",
   "mimetype": "text/x-python",
   "name": "python",
   "nbconvert_exporter": "python",
   "pygments_lexer": "ipython3",
   "version": "3.6.4"
  }
 },
 "nbformat": 4,
 "nbformat_minor": 2
}
