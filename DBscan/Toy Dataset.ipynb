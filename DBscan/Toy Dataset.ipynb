{
 "cells": [
  {
   "cell_type": "code",
   "execution_count": 11,
   "metadata": {},
   "outputs": [],
   "source": [
    "import pandas as pd\n",
    "import math\n",
    "import matplotlib.pyplot as plt\n",
    "import matplotlib.pyplot as plt2\n",
    "import numpy as np"
   ]
  },
  {
   "cell_type": "code",
   "execution_count": 12,
   "metadata": {},
   "outputs": [],
   "source": [
    "EPS = 7.5\n",
    "MIN_POINTS = 3"
   ]
  },
  {
   "cell_type": "code",
   "execution_count": 13,
   "metadata": {},
   "outputs": [],
   "source": [
    "dataframe = pd.read_csv(\"dbscan.csv\")"
   ]
  },
  {
   "cell_type": "code",
   "execution_count": 14,
   "metadata": {},
   "outputs": [
    {
     "data": {
      "text/html": [
       "<div>\n",
       "<style scoped>\n",
       "    .dataframe tbody tr th:only-of-type {\n",
       "        vertical-align: middle;\n",
       "    }\n",
       "\n",
       "    .dataframe tbody tr th {\n",
       "        vertical-align: top;\n",
       "    }\n",
       "\n",
       "    .dataframe thead th {\n",
       "        text-align: right;\n",
       "    }\n",
       "</style>\n",
       "<table border=\"1\" class=\"dataframe\">\n",
       "  <thead>\n",
       "    <tr style=\"text-align: right;\">\n",
       "      <th></th>\n",
       "      <th>cluster</th>\n",
       "      <th>pt</th>\n",
       "      <th>x</th>\n",
       "      <th>y</th>\n",
       "      <th>num_neighbors</th>\n",
       "      <th>neighbors</th>\n",
       "    </tr>\n",
       "  </thead>\n",
       "  <tbody>\n",
       "    <tr>\n",
       "      <th>0</th>\n",
       "      <td>NaN</td>\n",
       "      <td>0</td>\n",
       "      <td>51.418089</td>\n",
       "      <td>13.593610</td>\n",
       "      <td>2</td>\n",
       "      <td>0,27</td>\n",
       "    </tr>\n",
       "    <tr>\n",
       "      <th>1</th>\n",
       "      <td>NaN</td>\n",
       "      <td>1</td>\n",
       "      <td>39.132318</td>\n",
       "      <td>-4.419204</td>\n",
       "      <td>3</td>\n",
       "      <td>1,40,75</td>\n",
       "    </tr>\n",
       "    <tr>\n",
       "      <th>2</th>\n",
       "      <td>NaN</td>\n",
       "      <td>2</td>\n",
       "      <td>47.807515</td>\n",
       "      <td>-25.822561</td>\n",
       "      <td>1</td>\n",
       "      <td>2</td>\n",
       "    </tr>\n",
       "    <tr>\n",
       "      <th>3</th>\n",
       "      <td>NaN</td>\n",
       "      <td>3</td>\n",
       "      <td>27.699703</td>\n",
       "      <td>53.434193</td>\n",
       "      <td>1</td>\n",
       "      <td>3</td>\n",
       "    </tr>\n",
       "    <tr>\n",
       "      <th>4</th>\n",
       "      <td>NaN</td>\n",
       "      <td>4</td>\n",
       "      <td>39.860995</td>\n",
       "      <td>5.676871</td>\n",
       "      <td>3</td>\n",
       "      <td>4,56,75</td>\n",
       "    </tr>\n",
       "  </tbody>\n",
       "</table>\n",
       "</div>"
      ],
      "text/plain": [
       "   cluster  pt          x          y  num_neighbors neighbors\n",
       "0      NaN   0  51.418089  13.593610              2      0,27\n",
       "1      NaN   1  39.132318  -4.419204              3   1,40,75\n",
       "2      NaN   2  47.807515 -25.822561              1         2\n",
       "3      NaN   3  27.699703  53.434193              1         3\n",
       "4      NaN   4  39.860995   5.676871              3   4,56,75"
      ]
     },
     "execution_count": 14,
     "metadata": {},
     "output_type": "execute_result"
    }
   ],
   "source": [
    "dataframe.head()"
   ]
  },
  {
   "cell_type": "code",
   "execution_count": 15,
   "metadata": {},
   "outputs": [],
   "source": [
    "visited = []\n",
    "clusters = {}\n",
    "noise = []\n",
    "def dbscan(dataframe, minPoints):\n",
    "    cluster = 0\n",
    "    for index, row in dataframe.iterrows():\n",
    "        neighbors = row.neighbors.split(\",\")\n",
    "        if len(neighbors) < minPoints: \n",
    "            noise.append(index)\n",
    "        else:\n",
    "            clusters[cluster] = []\n",
    "            expandCluster(index, neighbors, cluster)\n",
    "            cluster += 1"
   ]
  },
  {
   "cell_type": "code",
   "execution_count": 16,
   "metadata": {},
   "outputs": [],
   "source": [
    "def expandCluster(index, neighbors, cluster):\n",
    "    while(len(neighbors) != 0):\n",
    "        point = int(neighbors.pop(0))\n",
    "        if point not in visited:\n",
    "            visited.append(point)\n",
    "            clusters[cluster].append(point)\n",
    "            potential_cluster_points = (dataframe[dataframe['pt'] == point]['neighbors'].to_string().split()[1].split(\",\"))\n",
    "            neighbors.extend(potential_cluster_points)"
   ]
  },
  {
   "cell_type": "code",
   "execution_count": 17,
   "metadata": {},
   "outputs": [],
   "source": [
    "dbscan(dataframe, MIN_POINTS)"
   ]
  },
  {
   "cell_type": "code",
   "execution_count": 18,
   "metadata": {},
   "outputs": [],
   "source": [
    "x = list(dataframe['x'])\n",
    "y = list(dataframe['y'])"
   ]
  },
  {
   "cell_type": "code",
   "execution_count": 20,
   "metadata": {},
   "outputs": [
    {
     "data": {
      "text/plain": [
       "<matplotlib.collections.PathCollection at 0x108357470>"
      ]
     },
     "execution_count": 20,
     "metadata": {},
     "output_type": "execute_result"
    },
    {
     "data": {
      "image/png": "[encoded data removed]",
      "text/plain": [
       "<matplotlib.figure.Figure at 0x1080d89e8>"
      ]
     },
     "metadata": {},
     "output_type": "display_data"
    }
   ],
   "source": [
    "plt2.scatter(x,y)"
   ]
  },
  {
   "cell_type": "code",
   "execution_count": 29,
   "metadata": {},
   "outputs": [
    {
     "data": {
      "image/png": "[encoded data removed]",
      "text/plain": [
       "<matplotlib.figure.Figure at 0x108803978>"
      ]
     },
     "metadata": {},
     "output_type": "display_data"
    }
   ],
   "source": [
    "for cluster in clusters:\n",
    "    temp_x = []\n",
    "    temp_y = []\n",
    "    for j in clusters[cluster]:\n",
    "        temp_x.append(x[j])\n",
    "        temp_y.append(y[j])\n",
    "    if len(clusters[cluster]) > 0: \n",
    "        plt.scatter(temp_x, temp_y)"
   ]
  }
 ],
 "metadata": {
  "kernelspec": {
   "display_name": "Python 3",
   "language": "python",
   "name": "python3"
  },
  "language_info": {
   "codemirror_mode": {
    "name": "ipython",
    "version": 3
   },
   "file_extension": ".py",
   "mimetype": "text/x-python",
   "name": "python",
   "nbconvert_exporter": "python",
   "pygments_lexer": "ipython3",
   "version": "3.6.4"
  }
 },
 "nbformat": 4,
 "nbformat_minor": 2
}
