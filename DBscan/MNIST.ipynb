{
 "cells": [
  {
   "cell_type": "code",
   "execution_count": 1,
   "metadata": {},
   "outputs": [],
   "source": [
    "import mnist_reader\n",
    "from scipy.spatial import distance\n",
    "import numpy as np\n",
    "from sklearn.metrics.pairwise import euclidean_distances"
   ]
  },
  {
   "cell_type": "code",
   "execution_count": 117,
   "metadata": {},
   "outputs": [],
   "source": [
    "eps = 5\n",
    "minPoints = 5"
   ]
  },
  {
   "cell_type": "code",
   "execution_count": 3,
   "metadata": {},
   "outputs": [],
   "source": [
    "training_images, training_labels = mnist_reader.load_mnist('data/fashion', kind='train')\n",
    "test_images, test_labels = mnist_reader.load_mnist('data/fashion', kind='t10k')\n",
    "images = np.concatenate((training_images, test_images), axis = 0)\n",
    "labels = np.concatenate((training_labels, test_labels), axis = 0)"
   ]
  },
  {
   "cell_type": "code",
   "execution_count": 4,
   "metadata": {},
   "outputs": [],
   "source": [
    "numbers = [0 for x in range(10)]\n",
    "new_images = np.empty((0, 784), int)\n",
    "new_labels = np.empty((0,), int)\n",
    "i = 0\n",
    "while(i < len(images)):\n",
    "    numbers[labels[i]] += 1\n",
    "    if numbers[labels[i]] <= 2000:\n",
    "        new_images = np.append(new_images, np.array([images[i]]), axis=0)\n",
    "        new_labels = np.append(new_labels, np.array([labels[i]]), axis=0)\n",
    "    i += 1\n",
    "\n",
    "images = new_images\n",
    "labels = new_labels"
   ]
  },
  {
   "cell_type": "code",
   "execution_count": 5,
   "metadata": {},
   "outputs": [],
   "source": [
    "distances = euclidean_distances(images)"
   ]
  },
  {
   "cell_type": "code",
   "execution_count": 83,
   "metadata": {},
   "outputs": [],
   "source": [
    "neighbors_dict = {}\n",
    "def create_neighbors():\n",
    "    for i in range(len(images)):\n",
    "        neighbors_dict[i] = []\n",
    "        for j in range(len(images)):\n",
    "            if((distances[i][j] / 256) <= eps):\n",
    "                neighbors_dict[i].append(j)"
   ]
  },
  {
   "cell_type": "code",
   "execution_count": 84,
   "metadata": {},
   "outputs": [],
   "source": [
    "create_neighbors()"
   ]
  },
  {
   "cell_type": "code",
   "execution_count": 91,
   "metadata": {},
   "outputs": [
    {
     "name": "stdout",
     "output_type": "stream",
     "text": [
      "Mean: 8910.839376323818\n",
      "Median: 8963.0\n",
      "Min: 0\n",
      "Max: 19999\n"
     ]
    }
   ],
   "source": [
    "total_list = []\n",
    "for value in neighbors_dict.values():\n",
    "    total_list.extend(value)\n",
    "print(\"Mean: \" + str(np.mean(total_list)))\n",
    "print(\"Median: \" + str(np.median(total_list)))\n",
    "print(\"Min: \" + str(np.min(total_list)))\n",
    "print(\"Max: \" + str(np.max(total_list)))"
   ]
  },
  {
   "cell_type": "code",
   "execution_count": 115,
   "metadata": {},
   "outputs": [],
   "source": [
    "visited = []\n",
    "clusters = {}\n",
    "noise = []\n",
    "def dbscan():\n",
    "    cluster = 0\n",
    "    for index in range(len(images)):\n",
    "        neighbors = list(set(neighbors_dict[index]))\n",
    "        if len(neighbors) < minPoints: \n",
    "            noise.append(index)\n",
    "        elif neighbors[0] not in visited:\n",
    "            clusters[cluster] = []\n",
    "            print(str(cluster), end = \": \")\n",
    "            expandCluster(index, neighbors, cluster)\n",
    "            print(len(clusters[cluster]))\n",
    "            print(\"================================\")\n",
    "            cluster += 1"
   ]
  },
  {
   "cell_type": "code",
   "execution_count": 116,
   "metadata": {},
   "outputs": [],
   "source": [
    "def expandCluster(index, neighbors, cluster):\n",
    "    while(len(neighbors) != 0):\n",
    "        point = neighbors.pop(0)\n",
    "        point = int(point)\n",
    "        if point not in visited:\n",
    "            visited.append(point)\n",
    "            clusters[cluster].append(point)\n",
    "            potential_cluster_points = neighbors_dict[point]\n",
    "            neighbors.extend(potential_cluster_points)\n",
    "            neighbors = list(set(neighbors))\n",
    "            "
   ]
  },
  {
   "cell_type": "code",
   "execution_count": null,
   "metadata": {},
   "outputs": [],
   "source": [
    "def calculate_purity_of_clusters(clusters):\n",
    "    total_purity = 0\n",
    "    for i in range(0, len(clusters)):\n",
    "        purity = purity_of_cluster(clusters[i])\n",
    "        total_purity += purity\n",
    "    total_purity = total_purity / len(images)\n",
    "    return total_purity"
   ]
  },
  {
   "cell_type": "code",
   "execution_count": null,
   "metadata": {},
   "outputs": [],
   "source": [
    "def purity_of_cluster(cluster):\n",
    "    label_occurance = {}\n",
    "    for image_index in cluster:\n",
    "        label = labels[image_index]\n",
    "        if label in label_occurance:\n",
    "            label_occurance[label] += 1\n",
    "        else:\n",
    "            label_occurance[label] = 1\n",
    "    majority_label = \"\"\n",
    "    max_occurance = 0\n",
    "    for label in label_occurance.keys():\n",
    "        if label_occurance[label] > max_occurance:\n",
    "            max_occurance = label_occurance[label]\n",
    "            majority_label = label\n",
    "    \n",
    "    majority_count = 0\n",
    "    for image_index in cluster:\n",
    "        if labels[image_index] == majority_label:\n",
    "            majority_count += 1\n",
    "    \n",
    "    return majority_count "
   ]
  },
  {
   "cell_type": "code",
   "execution_count": 109,
   "metadata": {},
   "outputs": [
    {
     "name": "stdout",
     "output_type": "stream",
     "text": [
      "0: 11653\n",
      "================================\n"
     ]
    }
   ],
   "source": [
    "# minPoints = 50\n",
    "dbscan()"
   ]
  },
  {
   "cell_type": "code",
   "execution_count": 103,
   "metadata": {},
   "outputs": [
    {
     "name": "stdout",
     "output_type": "stream",
     "text": [
      "0: 11653\n",
      "================================\n",
      "1: 27\n",
      "================================\n"
     ]
    }
   ],
   "source": [
    "# minPoints = 7\n",
    "#eps = 5\n",
    "dbscan()"
   ]
  },
  {
   "cell_type": "code",
   "execution_count": 113,
   "metadata": {},
   "outputs": [
    {
     "name": "stdout",
     "output_type": "stream",
     "text": [
      "0: 11653\n",
      "================================\n"
     ]
    }
   ],
   "source": [
    "# minPoints = 20\n",
    "#eps = 5\n",
    "dbscan()"
   ]
  },
  {
   "cell_type": "code",
   "execution_count": 118,
   "metadata": {},
   "outputs": [
    {
     "name": "stdout",
     "output_type": "stream",
     "text": [
      "0: 11653\n",
      "================================\n",
      "1: 9\n",
      "================================\n",
      "2: 8\n",
      "================================\n",
      "3: 6\n",
      "================================\n",
      "4: 11\n",
      "================================\n",
      "5: 8\n",
      "================================\n",
      "6: 16\n",
      "================================\n",
      "7: 14\n",
      "================================\n",
      "8: 5\n",
      "================================\n",
      "9: 27\n",
      "================================\n",
      "10: 14\n",
      "================================\n",
      "11: 11\n",
      "================================\n",
      "12: 8\n",
      "================================\n",
      "13: 9\n",
      "================================\n",
      "14: 5\n",
      "================================\n",
      "15: 10\n",
      "================================\n",
      "16: 5\n",
      "================================\n",
      "17: 8\n",
      "================================\n",
      "18: 8\n",
      "================================\n"
     ]
    }
   ],
   "source": [
    "# minPoints = 5\n",
    "#eps = 5\n",
    "dbscan()"
   ]
  },
  {
   "cell_type": "code",
   "execution_count": 128,
   "metadata": {},
   "outputs": [
    {
     "name": "stdout",
     "output_type": "stream",
     "text": [
      "0.10785\n"
     ]
    }
   ],
   "source": [
    "# minPoints = 5\n",
    "#eps = 5\n",
    "print(calculate_purity_of_clusters(clusters))"
   ]
  }
 ],
 "metadata": {
  "kernelspec": {
   "display_name": "Python 3",
   "language": "python",
   "name": "python3"
  },
  "language_info": {
   "codemirror_mode": {
    "name": "ipython",
    "version": 3
   },
   "file_extension": ".py",
   "mimetype": "text/x-python",
   "name": "python",
   "nbconvert_exporter": "python",
   "pygments_lexer": "ipython3",
   "version": "3.6.4"
  }
 },
 "nbformat": 4,
 "nbformat_minor": 2
}
