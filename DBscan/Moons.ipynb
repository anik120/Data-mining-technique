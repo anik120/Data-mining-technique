{
 "cells": [
  {
   "cell_type": "code",
   "execution_count": 2,
   "metadata": {},
   "outputs": [],
   "source": [
    "import pandas as pd\n",
    "from scipy.spatial import distance\n",
    "import matplotlib.pyplot as plt"
   ]
  },
  {
   "cell_type": "code",
   "execution_count": 3,
   "metadata": {},
   "outputs": [],
   "source": [
    "EPS = 0.3\n",
    "MIN_POINTS = 5 "
   ]
  },
  {
   "cell_type": "code",
   "execution_count": 4,
   "metadata": {},
   "outputs": [],
   "source": [
    "dataframe = pd.read_csv(\"moons.csv\")"
   ]
  },
  {
   "cell_type": "code",
   "execution_count": 7,
   "metadata": {},
   "outputs": [
    {
     "data": {
      "text/html": [
       "<div>\n",
       "<style scoped>\n",
       "    .dataframe tbody tr th:only-of-type {\n",
       "        vertical-align: middle;\n",
       "    }\n",
       "\n",
       "    .dataframe tbody tr th {\n",
       "        vertical-align: top;\n",
       "    }\n",
       "\n",
       "    .dataframe thead th {\n",
       "        text-align: right;\n",
       "    }\n",
       "</style>\n",
       "<table border=\"1\" class=\"dataframe\">\n",
       "  <thead>\n",
       "    <tr style=\"text-align: right;\">\n",
       "      <th></th>\n",
       "      <th>Xmoons_X1</th>\n",
       "      <th>Xmoons_X2</th>\n",
       "      <th>neighbors</th>\n",
       "      <th>pt</th>\n",
       "    </tr>\n",
       "  </thead>\n",
       "  <tbody>\n",
       "    <tr>\n",
       "      <th>0</th>\n",
       "      <td>-0.378142</td>\n",
       "      <td>0.940750</td>\n",
       "      <td></td>\n",
       "      <td>0</td>\n",
       "    </tr>\n",
       "    <tr>\n",
       "      <th>1</th>\n",
       "      <td>0.933566</td>\n",
       "      <td>0.153805</td>\n",
       "      <td></td>\n",
       "      <td>1</td>\n",
       "    </tr>\n",
       "    <tr>\n",
       "      <th>2</th>\n",
       "      <td>2.048309</td>\n",
       "      <td>0.498172</td>\n",
       "      <td></td>\n",
       "      <td>2</td>\n",
       "    </tr>\n",
       "    <tr>\n",
       "      <th>3</th>\n",
       "      <td>0.947891</td>\n",
       "      <td>0.162473</td>\n",
       "      <td></td>\n",
       "      <td>3</td>\n",
       "    </tr>\n",
       "    <tr>\n",
       "      <th>4</th>\n",
       "      <td>2.000739</td>\n",
       "      <td>0.183700</td>\n",
       "      <td></td>\n",
       "      <td>4</td>\n",
       "    </tr>\n",
       "  </tbody>\n",
       "</table>\n",
       "</div>"
      ],
      "text/plain": [
       "   Xmoons_X1  Xmoons_X2 neighbors  pt\n",
       "0  -0.378142   0.940750             0\n",
       "1   0.933566   0.153805             1\n",
       "2   2.048309   0.498172             2\n",
       "3   0.947891   0.162473             3\n",
       "4   2.000739   0.183700             4"
      ]
     },
     "execution_count": 7,
     "metadata": {},
     "output_type": "execute_result"
    }
   ],
   "source": [
    "dataframe.head()"
   ]
  },
  {
   "cell_type": "code",
   "execution_count": 6,
   "metadata": {},
   "outputs": [],
   "source": [
    "neighbors = [\"\" for i in range(dataframe.shape[0])]\n",
    "pt = [i for i in range(dataframe.shape[0])]\n",
    "dataframe['neighbors'] = neighbors\n",
    "dataframe['pt'] = pt"
   ]
  },
  {
   "cell_type": "code",
   "execution_count": 8,
   "metadata": {},
   "outputs": [],
   "source": [
    "neighbors_dict = {}\n",
    "def create_neighbors(dataframe, eps):\n",
    "    x = list(dataframe['Xmoons_X1'])\n",
    "    y = list(dataframe['Xmoons_X2'])\n",
    "    for i in range(len(x)):\n",
    "        point_X = (x[i], y[i])\n",
    "        for j in range(len(y)):\n",
    "            point_Y = (x[j], y[j])\n",
    "            if(distance.euclidean(point_X,point_Y) <= eps):\n",
    "                if(i in neighbors_dict):\n",
    "                    neighbors_dict[i].append(j)\n",
    "                else:\n",
    "                    neighbors_dict[i] = [j]"
   ]
  },
  {
   "cell_type": "code",
   "execution_count": 9,
   "metadata": {},
   "outputs": [],
   "source": [
    "create_neighbors(dataframe, EPS)"
   ]
  },
  {
   "cell_type": "code",
   "execution_count": 10,
   "metadata": {},
   "outputs": [],
   "source": [
    "for point in neighbors_dict.keys():\n",
    "    neighs = \",\".join(str(x) for x in neighbors_dict[point])\n",
    "    dataframe.loc[dataframe['pt'] == point, 'neighbors'] = neighs"
   ]
  },
  {
   "cell_type": "code",
   "execution_count": 11,
   "metadata": {},
   "outputs": [
    {
     "data": {
      "text/plain": [
       "<matplotlib.collections.PathCollection at 0x111515d30>"
      ]
     },
     "execution_count": 11,
     "metadata": {},
     "output_type": "execute_result"
    },
    {
     "data": {
      "image/png": "[encoded data removed]",
      "text/plain": [
       "<matplotlib.figure.Figure at 0x1114acba8>"
      ]
     },
     "metadata": {},
     "output_type": "display_data"
    }
   ],
   "source": [
    "x = list(dataframe['Xmoons_X1'])\n",
    "y = list(dataframe['Xmoons_X2'])\n",
    "plt.scatter(x,y)"
   ]
  },
  {
   "cell_type": "code",
   "execution_count": 12,
   "metadata": {},
   "outputs": [],
   "source": [
    "visited = []\n",
    "clusters = {}\n",
    "noise = []\n",
    "def dbscan(dataframe, minPoints):\n",
    "    cluster = 0\n",
    "    for index, row in dataframe.iterrows():\n",
    "        neighbors = list(set(neighbors_dict[row.pt]))\n",
    "        if len(neighbors) < minPoints: \n",
    "            noise.append(index)\n",
    "        elif neighbors[0] not in visited:\n",
    "            clusters[cluster] = []\n",
    "            print(str(cluster), end= \": \")\n",
    "            expandCluster(index, neighbors, cluster)\n",
    "            print(len(clusters[cluster]))\n",
    "            cluster += 1"
   ]
  },
  {
   "cell_type": "code",
   "execution_count": 13,
   "metadata": {},
   "outputs": [],
   "source": [
    "def expandCluster(index, neighbors, cluster):\n",
    "    while(len(neighbors) != 0):\n",
    "        point = neighbors.pop(0)\n",
    "        point = int(point)\n",
    "        if point not in visited:\n",
    "            visited.append(point)\n",
    "            clusters[cluster].append(point)\n",
    "            potential_cluster_points = neighbors_dict[point]\n",
    "            neighbors.extend(potential_cluster_points)\n",
    "            neighbors = list(set(neighbors))"
   ]
  },
  {
   "cell_type": "code",
   "execution_count": 14,
   "metadata": {},
   "outputs": [
    {
     "name": "stdout",
     "output_type": "stream",
     "text": [
      "0: 750\n",
      "1: 750\n"
     ]
    }
   ],
   "source": [
    "dbscan(dataframe, MIN_POINTS)"
   ]
  },
  {
   "cell_type": "code",
   "execution_count": 15,
   "metadata": {},
   "outputs": [
    {
     "data": {
      "image/png": "[encoded data removed]",
      "text/plain": [
       "<matplotlib.figure.Figure at 0x111578748>"
      ]
     },
     "metadata": {},
     "output_type": "display_data"
    }
   ],
   "source": [
    "for cluster in clusters:\n",
    "    temp_x = []\n",
    "    temp_y = []\n",
    "    for j in clusters[cluster]:\n",
    "        temp_x.append(x[j])\n",
    "        temp_y.append(y[j])\n",
    "    if len(clusters[cluster]) > 0: \n",
    "        plt.scatter(temp_x, temp_y)"
   ]
  }
 ],
 "metadata": {
  "kernelspec": {
   "display_name": "Python 3",
   "language": "python",
   "name": "python3"
  },
  "language_info": {
   "codemirror_mode": {
    "name": "ipython",
    "version": 3
   },
   "file_extension": ".py",
   "mimetype": "text/x-python",
   "name": "python",
   "nbconvert_exporter": "python",
   "pygments_lexer": "ipython3",
   "version": "3.6.4"
  }
 },
 "nbformat": 4,
 "nbformat_minor": 2
}
