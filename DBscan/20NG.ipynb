{
 "cells": [
  {
   "cell_type": "code",
   "execution_count": 9,
   "metadata": {},
   "outputs": [],
   "source": [
    "from sklearn.feature_extraction.text import TfidfVectorizer\n",
    "from sklearn.datasets import fetch_20newsgroups\n",
    "from sklearn.metrics import pairwise_distances\n",
    "from sklearn.metrics.pairwise import euclidean_distances\n",
    "from sklearn.metrics.pairwise import cosine_similarity"
   ]
  },
  {
   "cell_type": "code",
   "execution_count": 69,
   "metadata": {},
   "outputs": [],
   "source": [
    "EPS = 1.3\n",
    "MIN_POINTS = 100"
   ]
  },
  {
   "cell_type": "code",
   "execution_count": 11,
   "metadata": {},
   "outputs": [
    {
     "name": "stdout",
     "output_type": "stream",
     "text": [
      "Fecthing data..................................\n",
      "Data fetched successfully\n",
      "Turning data into Tf-IDF format................\n",
      "Successfully created bag of words.\n"
     ]
    }
   ],
   "source": [
    "print(\"Fecthing data..................................\")\n",
    "newsgroups_train = fetch_20newsgroups(subset='train')\n",
    "newsgroups_test = fetch_20newsgroups(subset='test')\n",
    "newsgroups_data = newsgroups_train.data + newsgroups_test.data\n",
    "\n",
    "print(\"Data fetched successfully\")\n",
    "print(\"Turning data into Tf-IDF format................\")\n",
    "vectorizer = TfidfVectorizer()\n",
    "vectors = vectorizer.fit_transform(newsgroups_data)\n",
    "\n",
    "print(\"Successfully created bag of words.\")"
   ]
  },
  {
   "cell_type": "code",
   "execution_count": 12,
   "metadata": {},
   "outputs": [],
   "source": [
    "distances = euclidean_distances(vectors)"
   ]
  },
  {
   "cell_type": "code",
   "execution_count": 14,
   "metadata": {},
   "outputs": [
    {
     "data": {
      "text/plain": [
       "1.3695758828850957"
      ]
     },
     "execution_count": 14,
     "metadata": {},
     "output_type": "execute_result"
    }
   ],
   "source": [
    "distances[1][2]"
   ]
  },
  {
   "cell_type": "code",
   "execution_count": 15,
   "metadata": {},
   "outputs": [],
   "source": [
    "neighbors_dict = {}\n",
    "def create_neighbors():\n",
    "    for i in range(vectors.shape[0]):\n",
    "        for j in range(vectors.shape[0]):\n",
    "            if(distances[i][j] <= EPS):\n",
    "                if(i in neighbors_dict):\n",
    "                    neighbors_dict[i].append(j)\n",
    "                else:\n",
    "                    neighbors_dict[i] = [j]"
   ]
  },
  {
   "cell_type": "code",
   "execution_count": 17,
   "metadata": {},
   "outputs": [
    {
     "name": "stdout",
     "output_type": "stream",
     "text": [
      "Mean: 9401.79062458959\n",
      "Median: 9396.0\n",
      "Min: 0\n",
      "Max: 18845\n"
     ]
    }
   ],
   "source": [
    "import numpy as np\n",
    "total_list = []\n",
    "for value in neighbors_dict.values():\n",
    "    total_list.extend(value)\n",
    "print(\"Mean: \" + str(np.mean(total_list)))\n",
    "print(\"Median: \" + str(np.median(total_list)))\n",
    "print(\"Min: \" + str(np.min(total_list)))\n",
    "print(\"Max: \" + str(np.max(total_list)))"
   ]
  },
  {
   "cell_type": "code",
   "execution_count": 16,
   "metadata": {},
   "outputs": [],
   "source": [
    "create_neighbors()"
   ]
  },
  {
   "cell_type": "code",
   "execution_count": 70,
   "metadata": {},
   "outputs": [],
   "source": [
    "visited = []\n",
    "clusters = {}\n",
    "noise = []\n",
    "def dbscan():\n",
    "    cluster = 0\n",
    "    for index in range(vectors.shape[0]):\n",
    "        neighbors = list(set(neighbors_dict[index]))\n",
    "        if len(neighbors) < MIN_POINTS: \n",
    "            noise.append(index)\n",
    "        elif neighbors[0] not in visited:\n",
    "            clusters[cluster] = []\n",
    "            print(str(cluster), end = \": \")\n",
    "            expandCluster(index, neighbors, cluster)\n",
    "            print(len(clusters[cluster]))\n",
    "            print(\"================================\")\n",
    "            cluster += 1"
   ]
  },
  {
   "cell_type": "code",
   "execution_count": 71,
   "metadata": {},
   "outputs": [],
   "source": [
    "def expandCluster(index, neighbors, cluster):\n",
    "    while(len(neighbors) != 0):\n",
    "        point = neighbors.pop(0)\n",
    "        point = int(point)\n",
    "        if point not in visited:\n",
    "            visited.append(point)\n",
    "            clusters[cluster].append(point)\n",
    "            potential_cluster_points = neighbors_dict[point]\n",
    "            neighbors.extend(potential_cluster_points)\n",
    "            neighbors = list(set(neighbors))"
   ]
  },
  {
   "cell_type": "code",
   "execution_count": 68,
   "metadata": {},
   "outputs": [
    {
     "name": "stdout",
     "output_type": "stream",
     "text": [
      "0: 18634\n",
      "================================\n"
     ]
    }
   ],
   "source": [
    "# MIN_POINTS = 50\n",
    "dbscan()"
   ]
  },
  {
   "cell_type": "code",
   "execution_count": null,
   "metadata": {},
   "outputs": [
    {
     "name": "stdout",
     "output_type": "stream",
     "text": [
      "0: "
     ]
    }
   ],
   "source": [
    "# MIN_POINTS = 100\n",
    "dbscan()"
   ]
  },
  {
   "cell_type": "code",
   "execution_count": null,
   "metadata": {},
   "outputs": [],
   "source": []
  }
 ],
 "metadata": {
  "kernelspec": {
   "display_name": "Python 3",
   "language": "python",
   "name": "python3"
  },
  "language_info": {
   "codemirror_mode": {
    "name": "ipython",
    "version": 3
   },
   "file_extension": ".py",
   "mimetype": "text/x-python",
   "name": "python",
   "nbconvert_exporter": "python",
   "pygments_lexer": "ipython3",
   "version": "3.6.4"
  }
 },
 "nbformat": 4,
 "nbformat_minor": 2
}
