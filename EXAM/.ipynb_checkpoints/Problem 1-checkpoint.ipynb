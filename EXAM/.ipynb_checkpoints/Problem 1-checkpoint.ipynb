{
 "cells": [
  {
   "cell_type": "code",
   "execution_count": 1,
   "metadata": {},
   "outputs": [],
   "source": [
    "from scipy.spatial import distance\n",
    "import numpy as np\n",
    "import math\n",
    "import matplotlib.pyplot as plt\n",
    "from sklearn.decomposition import IncrementalPCA"
   ]
  },
  {
   "cell_type": "code",
   "execution_count": 2,
   "metadata": {},
   "outputs": [],
   "source": [
    "# preprocess data \n",
    "\n",
    "file = open(\"mnist_noisy_SAMPLE5000_K20_F31.txt\", 'r')\n",
    "images = []\n",
    "labels = []\n",
    "for line in file:\n",
    "    labels.append(np.int32(line[0]))\n",
    "    line = line[1:]\n",
    "    image = []\n",
    "    for i in line.split():\n",
    "        image.append(np.float32(i))\n",
    "    images.append(image)\n",
    "file.close()\n",
    "images = np.array(images)\n",
    "labels = np.array(labels)"
   ]
  },
  {
   "cell_type": "code",
   "execution_count": 3,
   "metadata": {},
   "outputs": [],
   "source": [
    "pca = IncrementalPCA(n_components=30)\n",
    "images = pca.fit_transform(images)"
   ]
  },
  {
   "cell_type": "code",
   "execution_count": 25,
   "metadata": {},
   "outputs": [
    {
     "ename": "ValueError",
     "evalue": "cannot reshape array of size 30 into shape (28,28)",
     "output_type": "error",
     "traceback": [
      "\u001b[0;31m---------------------------------------------------------------------------\u001b[0m",
      "\u001b[0;31mValueError\u001b[0m                                Traceback (most recent call last)",
      "\u001b[0;32m<ipython-input-25-8f541a311a40>\u001b[0m in \u001b[0;36m<module>\u001b[0;34m()\u001b[0m\n\u001b[0;32m----> 1\u001b[0;31m \u001b[0mplt\u001b[0m\u001b[0;34m.\u001b[0m\u001b[0mimshow\u001b[0m\u001b[0;34m(\u001b[0m\u001b[0mimages\u001b[0m\u001b[0;34m[\u001b[0m\u001b[0;36m0\u001b[0m\u001b[0;34m]\u001b[0m\u001b[0;34m.\u001b[0m\u001b[0mreshape\u001b[0m\u001b[0;34m(\u001b[0m\u001b[0;36m28\u001b[0m\u001b[0;34m,\u001b[0m\u001b[0;36m28\u001b[0m\u001b[0;34m)\u001b[0m\u001b[0;34m)\u001b[0m\u001b[0;34m\u001b[0m\u001b[0m\n\u001b[0m",
      "\u001b[0;31mValueError\u001b[0m: cannot reshape array of size 30 into shape (28,28)"
     ]
    }
   ],
   "source": [
    "plt.imshow(images[0].reshape(28,28))"
   ]
  },
  {
   "cell_type": "code",
   "execution_count": 24,
   "metadata": {},
   "outputs": [],
   "source": [
    "def get_distance(a,b):\n",
    "    return distance.cosine(a,b)"
   ]
  },
  {
   "cell_type": "code",
   "execution_count": 6,
   "metadata": {},
   "outputs": [],
   "source": [
    "def make_clusters(images, centroids, k):\n",
    "    number_of_images = images.shape[0]\n",
    "    clusters = [[] for i in range(0, k)]\n",
    "\n",
    "    for i in range(0, number_of_images - 1):\n",
    "        distances = []\n",
    "        for j in range(0, k):\n",
    "            distance = get_distance(images[i], centroids[j])\n",
    "            distances.append((distance, j))\n",
    "\n",
    "        distances = sorted(distances)\n",
    "        cluster_number = distances[0][1]\n",
    "        clusters[cluster_number].append(i)\n",
    "\n",
    "\n",
    "    return clusters"
   ]
  },
  {
   "cell_type": "code",
   "execution_count": 7,
   "metadata": {},
   "outputs": [],
   "source": [
    "def recalculate_centroids(centroids, clusters):\n",
    "    for i in range (0, len(clusters)):\n",
    "        image_list = []\n",
    "        for image_index in clusters[i]:\n",
    "            image_list.append(images[image_index])\n",
    "        np_array = np.array(image_list)\n",
    "        centroids[i] = np_array.mean(axis = 0)\n",
    "\n",
    "    return centroids"
   ]
  },
  {
   "cell_type": "code",
   "execution_count": 8,
   "metadata": {},
   "outputs": [],
   "source": [
    "def remake_cluster(clusters, centroids):\n",
    "    \n",
    "    total_images_reclustered = 0\n",
    "    for i in range(0, len(clusters)):\n",
    "        cluster = clusters[i]\n",
    "        number_of_images_reclustered = 0\n",
    "        for image_index in cluster:\n",
    "            distances_to_each_centroid = {}\n",
    "            for j in range(0 , len(centroids)):\n",
    "                distance = get_distance(images[image_index], centroids[j])\n",
    "                distances_to_each_centroid[j] = distance\n",
    "\n",
    "            min_distance = distances_to_each_centroid[0]\n",
    "            min_distance_index = 0\n",
    "            for cluster_no in distances_to_each_centroid.keys():\n",
    "                if distances_to_each_centroid[cluster_no] < min_distance:\n",
    "                    min_distance = distances_to_each_centroid[cluster_no]\n",
    "                    min_distance_index = cluster_no\n",
    "            if min_distance_index != i:\n",
    "                clusters[i].remove(image_index)\n",
    "                clusters[min_distance_index].append(image_index)\n",
    "                change_occured = True\n",
    "                number_of_images_reclustered += 1\n",
    "        total_images_reclustered += number_of_images_reclustered\n",
    "    return clusters, total_images_reclustered"
   ]
  },
  {
   "cell_type": "code",
   "execution_count": 9,
   "metadata": {},
   "outputs": [],
   "source": [
    "def calculate_purity_of_clusters(clusters, k):\n",
    "    total_purity = 0\n",
    "    for i in range(0, len(clusters)):\n",
    "        purity = purity_of_cluster(clusters[i])\n",
    "#         print(\"Purity: \" + str(purity))\n",
    "        total_purity += purity\n",
    "    total_purity = total_purity / len(images)\n",
    "    return total_purity"
   ]
  },
  {
   "cell_type": "code",
   "execution_count": 10,
   "metadata": {},
   "outputs": [],
   "source": [
    "def purity_of_cluster(cluster):\n",
    "    label_occurance = {}\n",
    "    for image_index in cluster:\n",
    "        label = labels[image_index]\n",
    "        if label in label_occurance:\n",
    "            label_occurance[label] += 1\n",
    "        else:\n",
    "            label_occurance[label] = 1\n",
    "    majority_label = \"\"\n",
    "    max_occurance = 0\n",
    "    for label in label_occurance.keys():\n",
    "        if label_occurance[label] > max_occurance:\n",
    "            max_occurance = label_occurance[label]\n",
    "            majority_label = label\n",
    "    \n",
    "    majority_count = 0\n",
    "    for image_index in cluster:\n",
    "        if labels[image_index] == majority_label:\n",
    "            majority_count += 1\n",
    "    \n",
    "    return majority_count "
   ]
  },
  {
   "cell_type": "code",
   "execution_count": 19,
   "metadata": {},
   "outputs": [],
   "source": [
    "def calculate_purity_of_labels(clusters):\n",
    "    total = 0\n",
    "    for label in set(labels):\n",
    "        labels_count = get_label_distribution_count(label, clusters)\n",
    "        total += labels_count[np.argmax(labels_count)] / len(clusters[np.argmax(labels_count)])\n",
    "    return total / 10"
   ]
  },
  {
   "cell_type": "code",
   "execution_count": 12,
   "metadata": {},
   "outputs": [],
   "source": [
    "def get_label_distribution_count(test_label, clusters):\n",
    "    label_cluster_counts = []\n",
    "    for cluster in clusters:\n",
    "        count = 0\n",
    "        for image_index in cluster:\n",
    "            if labels[image_index] == test_label:\n",
    "                count += 1\n",
    "        label_cluster_counts.append(count)\n",
    "    return label_cluster_counts\n"
   ]
  },
  {
   "cell_type": "code",
   "execution_count": 13,
   "metadata": {},
   "outputs": [],
   "source": [
    "def calculate_gini_index(clusters):\n",
    "    gini_total = 0\n",
    "    for cluster in clusters:\n",
    "        cluster_gini = 1\n",
    "        image_index_count = create_image_index_count_dict(cluster)\n",
    "        for label in image_index_count.keys():\n",
    "            cluster_gini = cluster_gini - math.pow((image_index_count[label] / len(cluster)) , 2)\n",
    "        gini_total += cluster_gini * len(cluster)\n",
    "    \n",
    "    return gini_total / len(images)\n",
    "        "
   ]
  },
  {
   "cell_type": "code",
   "execution_count": 14,
   "metadata": {},
   "outputs": [],
   "source": [
    "def create_image_index_count_dict(cluster):\n",
    "    image_index_count = {}\n",
    "    for image_index in cluster:\n",
    "        label = labels[image_index]\n",
    "        if label in image_index_count:\n",
    "            image_index_count[label] += 1\n",
    "        else:\n",
    "            image_index_count[label] = 1\n",
    "    return image_index_count"
   ]
  },
  {
   "cell_type": "code",
   "execution_count": 27,
   "metadata": {},
   "outputs": [],
   "source": [
    "def KMeans(k):\n",
    "    temp_total = 0\n",
    "    print(\"Working with images with shape: \" + str(images.shape))\n",
    "    number_of_images = images.shape[0]\n",
    "\n",
    "    centroid_indexs = np.linspace(0, number_of_images-1, k)\n",
    "    centroid_indexs = list(map(int, centroid_indexs))\n",
    "\n",
    "    centroids = []\n",
    "    for i in range(0, len(centroid_indexs)):\n",
    "        centroids.append(images[centroid_indexs[i]])\n",
    "    # initial clusters\n",
    "    clusters = make_clusters(images, centroids, k)\n",
    "\n",
    "    iterate = True\n",
    "    while(iterate):\n",
    "        centroids = recalculate_centroids(centroids, clusters)\n",
    "        clusters, total_images_reclustered = remake_cluster(clusters, centroids)\n",
    "        purity_of_clusters = calculate_purity_of_clusters(clusters, k)\n",
    "        gini_index = calculate_gini_index(clusters)\n",
    "        print(\"Purity of cluster (labels, cluster): \" + str(purity_of_clusters))\n",
    "        print(\"Gini index: \" + str(gini_index))\n",
    "        print(\"Total images reclustered: \" + str(total_images_reclustered))\n",
    "        print()\n",
    "        \n",
    "        if total_images_reclustered == 0:\n",
    "            iterate = False\n",
    "        if total_images_reclustered <= 6:\n",
    "            temp_total += 1\n",
    "        if temp_total == 10:\n",
    "            iterate = False\n",
    "    return clusters"
   ]
  },
  {
   "cell_type": "code",
   "execution_count": 28,
   "metadata": {},
   "outputs": [
    {
     "name": "stdout",
     "output_type": "stream",
     "text": [
      "Starting KMeans.........\n",
      "\n",
      "Working with images with shape: (5000, 30)\n",
      "Purity of cluster (labels, cluster): 0.2628\n",
      "Gini index: 0.831269638269363\n",
      "Total images reclustered: 781\n",
      "\n",
      "Purity of cluster (labels, cluster): 0.2648\n",
      "Gini index: 0.8291104081637335\n",
      "Total images reclustered: 485\n",
      "\n",
      "Purity of cluster (labels, cluster): 0.2652\n",
      "Gini index: 0.827630953459862\n",
      "Total images reclustered: 340\n",
      "\n",
      "Purity of cluster (labels, cluster): 0.2694\n",
      "Gini index: 0.8247963403222539\n",
      "Total images reclustered: 242\n",
      "\n",
      "Purity of cluster (labels, cluster): 0.269\n",
      "Gini index: 0.8229942842523513\n",
      "Total images reclustered: 225\n",
      "\n",
      "Purity of cluster (labels, cluster): 0.2714\n",
      "Gini index: 0.8195449825830208\n",
      "Total images reclustered: 182\n",
      "\n",
      "Purity of cluster (labels, cluster): 0.2736\n",
      "Gini index: 0.8147885245942924\n",
      "Total images reclustered: 173\n",
      "\n",
      "Purity of cluster (labels, cluster): 0.2764\n",
      "Gini index: 0.8093660344060901\n",
      "Total images reclustered: 141\n",
      "\n",
      "Purity of cluster (labels, cluster): 0.2818\n",
      "Gini index: 0.8028589700261534\n",
      "Total images reclustered: 145\n",
      "\n",
      "Purity of cluster (labels, cluster): 0.2826\n",
      "Gini index: 0.8009451655300887\n",
      "Total images reclustered: 117\n",
      "\n",
      "Purity of cluster (labels, cluster): 0.286\n",
      "Gini index: 0.7980755665035656\n",
      "Total images reclustered: 99\n",
      "\n",
      "Purity of cluster (labels, cluster): 0.2882\n",
      "Gini index: 0.7954444064953243\n",
      "Total images reclustered: 91\n",
      "\n",
      "Purity of cluster (labels, cluster): 0.2878\n",
      "Gini index: 0.7957687258673073\n",
      "Total images reclustered: 75\n",
      "\n",
      "Purity of cluster (labels, cluster): 0.2866\n",
      "Gini index: 0.7955888946855214\n",
      "Total images reclustered: 69\n",
      "\n",
      "Purity of cluster (labels, cluster): 0.2868\n",
      "Gini index: 0.7947528956618287\n",
      "Total images reclustered: 59\n",
      "\n",
      "Purity of cluster (labels, cluster): 0.2882\n",
      "Gini index: 0.7943472528935313\n",
      "Total images reclustered: 54\n",
      "\n",
      "Purity of cluster (labels, cluster): 0.2892\n",
      "Gini index: 0.7939685884918765\n",
      "Total images reclustered: 61\n",
      "\n",
      "Purity of cluster (labels, cluster): 0.2896\n",
      "Gini index: 0.7940519354532142\n",
      "Total images reclustered: 80\n",
      "\n",
      "Purity of cluster (labels, cluster): 0.2898\n",
      "Gini index: 0.7939350874789661\n",
      "Total images reclustered: 81\n",
      "\n",
      "Purity of cluster (labels, cluster): 0.2904\n",
      "Gini index: 0.7944317055247588\n",
      "Total images reclustered: 80\n",
      "\n",
      "Purity of cluster (labels, cluster): 0.2894\n",
      "Gini index: 0.795143349546445\n",
      "Total images reclustered: 76\n",
      "\n",
      "Purity of cluster (labels, cluster): 0.2882\n",
      "Gini index: 0.7958810731713466\n",
      "Total images reclustered: 66\n",
      "\n",
      "Purity of cluster (labels, cluster): 0.2894\n",
      "Gini index: 0.7953991674599497\n",
      "Total images reclustered: 64\n",
      "\n",
      "Purity of cluster (labels, cluster): 0.291\n",
      "Gini index: 0.7946557475572447\n",
      "Total images reclustered: 56\n",
      "\n",
      "Purity of cluster (labels, cluster): 0.292\n",
      "Gini index: 0.7944861399932127\n",
      "Total images reclustered: 51\n",
      "\n",
      "Purity of cluster (labels, cluster): 0.2912\n",
      "Gini index: 0.7946773484517332\n",
      "Total images reclustered: 41\n",
      "\n",
      "Purity of cluster (labels, cluster): 0.291\n",
      "Gini index: 0.7948433131232806\n",
      "Total images reclustered: 36\n",
      "\n",
      "Purity of cluster (labels, cluster): 0.2922\n",
      "Gini index: 0.7945511109477811\n",
      "Total images reclustered: 33\n",
      "\n",
      "Purity of cluster (labels, cluster): 0.2922\n",
      "Gini index: 0.7948006016891936\n",
      "Total images reclustered: 30\n",
      "\n",
      "Purity of cluster (labels, cluster): 0.292\n",
      "Gini index: 0.7952279147981811\n",
      "Total images reclustered: 25\n",
      "\n",
      "Purity of cluster (labels, cluster): 0.2918\n",
      "Gini index: 0.7954601549736854\n",
      "Total images reclustered: 29\n",
      "\n",
      "Purity of cluster (labels, cluster): 0.2914\n",
      "Gini index: 0.7955990558843555\n",
      "Total images reclustered: 35\n",
      "\n",
      "Purity of cluster (labels, cluster): 0.2914\n",
      "Gini index: 0.7957416552552994\n",
      "Total images reclustered: 34\n",
      "\n",
      "Purity of cluster (labels, cluster): 0.292\n",
      "Gini index: 0.7953493511915732\n",
      "Total images reclustered: 27\n",
      "\n",
      "Purity of cluster (labels, cluster): 0.2924\n",
      "Gini index: 0.7951360679639643\n",
      "Total images reclustered: 16\n",
      "\n",
      "Purity of cluster (labels, cluster): 0.2922\n",
      "Gini index: 0.7951831958151402\n",
      "Total images reclustered: 11\n",
      "\n",
      "Purity of cluster (labels, cluster): 0.2928\n",
      "Gini index: 0.7949788921744821\n",
      "Total images reclustered: 12\n",
      "\n",
      "Purity of cluster (labels, cluster): 0.2924\n",
      "Gini index: 0.7950857070593678\n",
      "Total images reclustered: 21\n",
      "\n",
      "Purity of cluster (labels, cluster): 0.2922\n",
      "Gini index: 0.795244011027824\n",
      "Total images reclustered: 11\n",
      "\n",
      "Purity of cluster (labels, cluster): 0.292\n",
      "Gini index: 0.795157345583871\n",
      "Total images reclustered: 8\n",
      "\n",
      "Purity of cluster (labels, cluster): 0.292\n",
      "Gini index: 0.7951434123710691\n",
      "Total images reclustered: 7\n",
      "\n",
      "Purity of cluster (labels, cluster): 0.2918\n",
      "Gini index: 0.795214856843951\n",
      "Total images reclustered: 3\n",
      "\n",
      "Purity of cluster (labels, cluster): 0.2918\n",
      "Gini index: 0.7953666725066251\n",
      "Total images reclustered: 5\n",
      "\n",
      "Purity of cluster (labels, cluster): 0.292\n",
      "Gini index: 0.7952287154038533\n",
      "Total images reclustered: 3\n",
      "\n",
      "Purity of cluster (labels, cluster): 0.2922\n",
      "Gini index: 0.7952619126289898\n",
      "Total images reclustered: 8\n",
      "\n",
      "Purity of cluster (labels, cluster): 0.292\n",
      "Gini index: 0.7954919659956042\n",
      "Total images reclustered: 4\n",
      "\n",
      "Purity of cluster (labels, cluster): 0.2918\n",
      "Gini index: 0.7955627127403917\n",
      "Total images reclustered: 3\n",
      "\n",
      "Purity of cluster (labels, cluster): 0.2918\n",
      "Gini index: 0.7955160945497011\n",
      "Total images reclustered: 2\n",
      "\n",
      "Purity of cluster (labels, cluster): 0.292\n",
      "Gini index: 0.795533103857257\n",
      "Total images reclustered: 3\n",
      "\n",
      "Purity of cluster (labels, cluster): 0.2928\n",
      "Gini index: 0.7953656157232529\n",
      "Total images reclustered: 7\n",
      "\n",
      "Purity of cluster (labels, cluster): 0.2934\n",
      "Gini index: 0.7953145545043326\n",
      "Total images reclustered: 6\n",
      "\n",
      "Purity of cluster (labels, cluster): 0.2942\n",
      "Gini index: 0.7950399310501091\n",
      "Total images reclustered: 8\n",
      "\n",
      "Purity of cluster (labels, cluster): 0.2944\n",
      "Gini index: 0.7948187243731994\n",
      "Total images reclustered: 12\n",
      "\n",
      "Purity of cluster (labels, cluster): 0.295\n",
      "Gini index: 0.7946328107356954\n",
      "Total images reclustered: 7\n",
      "\n",
      "Purity of cluster (labels, cluster): 0.295\n",
      "Gini index: 0.7946653683732499\n",
      "Total images reclustered: 4\n",
      "\n",
      "Purity of cluster (labels, cluster): 0.295\n",
      "Gini index: 0.7948159271138571\n",
      "Total images reclustered: 6\n",
      "\n",
      "\n",
      " Purity of labels: 0.30949703043031607\n",
      "Done\n"
     ]
    }
   ],
   "source": [
    "print(\"Starting KMeans.........\\n\")\n",
    "clusters = KMeans(20)\n",
    "print(\"\\n Purity of labels: \" + str(calculate_purity_of_labels(clusters)))\n",
    "print(\"Done\")"
   ]
  },
  {
   "cell_type": "code",
   "execution_count": 29,
   "metadata": {},
   "outputs": [],
   "source": [
    "a = calculate_purity_of_clusters(clusters, 20)"
   ]
  },
  {
   "cell_type": "code",
   "execution_count": 30,
   "metadata": {},
   "outputs": [],
   "source": [
    "b = calculate_purity_of_labels(clusters)"
   ]
  },
  {
   "cell_type": "code",
   "execution_count": 31,
   "metadata": {},
   "outputs": [
    {
     "data": {
      "text/plain": [
       "0.295"
      ]
     },
     "execution_count": 31,
     "metadata": {},
     "output_type": "execute_result"
    }
   ],
   "source": [
    "a"
   ]
  },
  {
   "cell_type": "code",
   "execution_count": 32,
   "metadata": {},
   "outputs": [
    {
     "data": {
      "text/plain": [
       "0.30949703043031607"
      ]
     },
     "execution_count": 32,
     "metadata": {},
     "output_type": "execute_result"
    }
   ],
   "source": [
    "b"
   ]
  },
  {
   "cell_type": "code",
   "execution_count": 33,
   "metadata": {},
   "outputs": [
    {
     "data": {
      "text/plain": [
       "0.3020746815313532"
      ]
     },
     "execution_count": 33,
     "metadata": {},
     "output_type": "execute_result"
    }
   ],
   "source": [
    "2 * a * b / (a+b)"
   ]
  },
  {
   "cell_type": "code",
   "execution_count": 116,
   "metadata": {},
   "outputs": [],
   "source": [
    "purity_of_each_cluster = []\n",
    "for cluster in clusters:\n",
    "    purity_of_each_cluster.append(purity_of_cluster(cluster) / len(cluster))"
   ]
  },
  {
   "cell_type": "code",
   "execution_count": 117,
   "metadata": {},
   "outputs": [
    {
     "data": {
      "text/plain": [
       "[0.7590361445783133,\n",
       " 0.27014218009478674,\n",
       " 0.15339233038348082,\n",
       " 0.24152542372881355,\n",
       " 0.17391304347826086,\n",
       " 0.4326241134751773,\n",
       " 0.1904,\n",
       " 0.21768707482993196,\n",
       " 0.7105263157894737,\n",
       " 0.12658227848101267,\n",
       " 0.3956043956043956,\n",
       " 0.68,\n",
       " 0.2129032258064516,\n",
       " 0.17866004962779156,\n",
       " 0.3333333333333333,\n",
       " 0.14814814814814814,\n",
       " 0.21481481481481482,\n",
       " 0.8905472636815921,\n",
       " 0.16173120728929385,\n",
       " 0.47342995169082125]"
      ]
     },
     "execution_count": 117,
     "metadata": {},
     "output_type": "execute_result"
    }
   ],
   "source": [
    "purity_of_each_cluster"
   ]
  },
  {
   "cell_type": "code",
   "execution_count": 57,
   "metadata": {},
   "outputs": [],
   "source": [
    "def majority_count_label(cluster):\n",
    "    label_occurance = {}\n",
    "    for image_index in cluster:\n",
    "        label = labels[image_index]\n",
    "        if label in label_occurance:\n",
    "            label_occurance[label] += 1\n",
    "        else:\n",
    "            label_occurance[label] = 1\n",
    "    majority_label = \"\"\n",
    "    max_occurance = 0\n",
    "    for label in label_occurance.keys():\n",
    "        if label_occurance[label] > max_occurance:\n",
    "            max_occurance = label_occurance[label]\n",
    "            majority_label = label\n",
    "    \n",
    "    return majority_label "
   ]
  },
  {
   "cell_type": "code",
   "execution_count": 61,
   "metadata": {},
   "outputs": [
    {
     "data": {
      "text/plain": [
       "1"
      ]
     },
     "execution_count": 61,
     "metadata": {},
     "output_type": "execute_result"
    }
   ],
   "source": [
    "majority_count_label(clusters[9])"
   ]
  },
  {
   "cell_type": "code",
   "execution_count": 74,
   "metadata": {},
   "outputs": [
    {
     "data": {
      "text/plain": [
       "8"
      ]
     },
     "execution_count": 74,
     "metadata": {},
     "output_type": "execute_result"
    }
   ],
   "source": [
    "majority_count_label(clusters[4])"
   ]
  },
  {
   "cell_type": "code",
   "execution_count": 75,
   "metadata": {},
   "outputs": [
    {
     "data": {
      "text/plain": [
       "8"
      ]
     },
     "execution_count": 75,
     "metadata": {},
     "output_type": "execute_result"
    }
   ],
   "source": [
    "majority_count_label(clusters[16])"
   ]
  },
  {
   "cell_type": "code",
   "execution_count": 65,
   "metadata": {},
   "outputs": [
    {
     "name": "stdout",
     "output_type": "stream",
     "text": [
      "4 6 4 5 2 3 9 5 8 7 4 0 5 7 7 5 0 4 0 1 6 8 2 0 4 5 0 6 3 9 9 7 5 6 4 5 0 0 5 6 6 7 4 0 8 2 3 5 9 9 6 9 6 3 1 4 6 5 1 8 3 9 9 4 6 3 3 1 7 3 3 9 0 1 1 3 7 3 7 4 2 5 2 4 2 9 7 9 3 1 6 1 2 5 3 6 6 4 7 9 9 0 6 6 4 3 3 2 3 2 7 7 2 7 4 8 3 1 7 6 3 8 6 2 2 1 7 9 8 2 2 1 0 8 6 1 1 9 2 9 1 9 5 3 1 1 7 1 7 8 2 2 8 1 6 9 1 1 "
     ]
    }
   ],
   "source": [
    "for image_index in clusters[9]:\n",
    "    print(labels[image_index], end = \" \")"
   ]
  },
  {
   "cell_type": "code",
   "execution_count": 72,
   "metadata": {},
   "outputs": [
    {
     "name": "stdout",
     "output_type": "stream",
     "text": [
      "8 2 5 5 5 1 3 1 1 2 8 9 7 1 1 7 1 2 1 1 9 4 8 2 2 2 4 1 9 3 9 4 4 8 3 7 1 1 5 1 8 0 3 1 1 1 4 1 8 7 1 2 1 9 3 1 9 1 1 5 8 6 5 8 9 8 4 2 8 8 4 8 9 6 9 5 8 5 8 8 2 5 4 2 4 6 3 8 9 7 9 2 2 9 3 3 9 9 9 8 4 5 3 3 3 8 3 7 9 0 4 3 4 3 3 8 7 2 3 3 5 7 3 3 9 3 0 7 1 3 4 4 9 5 9 4 3 8 8 6 6 9 8 5 3 4 6 2 8 8 2 6 8 4 8 6 4 8 3 2 3 7 6 8 3 8 2 2 4 4 4 8 2 8 9 3 7 3 7 4 9 4 4 8 "
     ]
    }
   ],
   "source": [
    "for image_index in clusters[4]:\n",
    "    print(labels[image_index], end = \" \")"
   ]
  },
  {
   "cell_type": "code",
   "execution_count": 73,
   "metadata": {},
   "outputs": [
    {
     "name": "stdout",
     "output_type": "stream",
     "text": [
      "2 5 1 6 5 1 6 9 2 1 2 2 6 1 2 1 5 2 5 2 4 2 2 3 2 8 5 2 9 8 8 8 8 8 5 8 6 4 7 3 2 2 2 2 8 8 9 8 8 5 8 8 8 3 2 4 8 3 8 3 8 1 8 7 3 8 8 6 2 8 9 3 1 1 4 3 5 5 4 0 5 0 9 8 7 1 3 8 7 1 5 4 5 8 8 0 4 8 7 8 6 2 7 9 9 7 3 5 2 7 4 8 1 6 5 7 8 2 1 9 1 9 1 4 5 9 5 4 1 1 9 2 1 2 1 "
     ]
    }
   ],
   "source": [
    "for image_index in clusters[16]:\n",
    "    print(labels[image_index], end = \" \")"
   ]
  },
  {
   "cell_type": "code",
   "execution_count": 66,
   "metadata": {},
   "outputs": [
    {
     "data": {
      "text/plain": [
       "158"
      ]
     },
     "execution_count": 66,
     "metadata": {},
     "output_type": "execute_result"
    }
   ],
   "source": [
    "len(clusters[9])"
   ]
  },
  {
   "cell_type": "code",
   "execution_count": 67,
   "metadata": {},
   "outputs": [
    {
     "data": {
      "text/plain": [
       "184"
      ]
     },
     "execution_count": 67,
     "metadata": {},
     "output_type": "execute_result"
    }
   ],
   "source": [
    "len(clusters[4])"
   ]
  },
  {
   "cell_type": "code",
   "execution_count": 70,
   "metadata": {},
   "outputs": [
    {
     "data": {
      "text/plain": [
       "135"
      ]
     },
     "execution_count": 70,
     "metadata": {},
     "output_type": "execute_result"
    }
   ],
   "source": [
    "len(clusters[16])"
   ]
  },
  {
   "cell_type": "code",
   "execution_count": 86,
   "metadata": {},
   "outputs": [],
   "source": [
    "temp_cluster1 = [] # 1\n",
    "temp_cluster2 = [] # 8\n",
    "temp_cluster3 = [] # rest\n",
    "for image_index in clusters[9]:\n",
    "    if labels[image_index] == 1:\n",
    "        temp_cluster1.append(image_index)\n",
    "    elif labels[image_index] == 8:\n",
    "        temp_cluster2.append(image_index)\n",
    "    else:\n",
    "        temp_cluster3.append(image_index)\n",
    "for image_index in clusters[4]:\n",
    "    if labels[image_index] == 1:\n",
    "        temp_cluster1.append(image_index)\n",
    "    elif labels[image_index] == 8:\n",
    "        temp_cluster2.append(image_index)\n",
    "    else:\n",
    "        temp_cluster3.append(image_index)\n",
    "for image_index in clusters[16]:\n",
    "    if labels[image_index] == 1:\n",
    "        temp_cluster1.append(image_index)\n",
    "    elif labels[image_index] == 8:\n",
    "        temp_cluster2.append(image_index)\n",
    "    else:\n",
    "        temp_cluster3.append(image_index)"
   ]
  },
  {
   "cell_type": "code",
   "execution_count": 87,
   "metadata": {},
   "outputs": [
    {
     "name": "stdout",
     "output_type": "stream",
     "text": [
      "1 1 1 1 1 1 1 1 1 1 1 1 1 1 1 1 1 1 1 1 1 1 1 1 1 1 1 1 1 1 1 1 1 1 1 1 1 1 1 1 1 1 1 1 1 1 1 1 1 1 1 1 1 1 1 1 1 1 1 1 "
     ]
    }
   ],
   "source": [
    "for image_index in temp_cluster1:\n",
    "    print(labels[image_index], end = \" \")"
   ]
  },
  {
   "cell_type": "code",
   "execution_count": 88,
   "metadata": {},
   "outputs": [
    {
     "name": "stdout",
     "output_type": "stream",
     "text": [
      "8 8 8 8 8 8 8 8 8 8 8 8 8 8 8 8 8 8 8 8 8 8 8 8 8 8 8 8 8 8 8 8 8 8 8 8 8 8 8 8 8 8 8 8 8 8 8 8 8 8 8 8 8 8 8 8 8 8 8 8 8 8 8 8 8 8 8 8 8 8 8 "
     ]
    }
   ],
   "source": [
    "for image_index in temp_cluster2:\n",
    "    print(labels[image_index], end = \" \")"
   ]
  },
  {
   "cell_type": "code",
   "execution_count": 89,
   "metadata": {},
   "outputs": [
    {
     "name": "stdout",
     "output_type": "stream",
     "text": [
      "4 6 4 5 2 3 9 5 7 4 0 5 7 7 5 0 4 0 6 2 0 4 5 0 6 3 9 9 7 5 6 4 5 0 0 5 6 6 7 4 0 2 3 5 9 9 6 9 6 3 4 6 5 3 9 9 4 6 3 3 7 3 3 9 0 3 7 3 7 4 2 5 2 4 2 9 7 9 3 6 2 5 3 6 6 4 7 9 9 0 6 6 4 3 3 2 3 2 7 7 2 7 4 3 7 6 3 6 2 2 7 9 2 2 0 6 9 2 9 9 5 3 7 7 2 2 6 9 2 5 5 5 3 2 9 7 7 2 9 4 2 2 2 4 9 3 9 4 4 3 7 5 0 3 4 7 2 9 3 9 5 6 5 9 4 2 4 9 6 9 5 5 2 5 4 2 4 6 3 9 7 9 2 2 9 3 3 9 9 9 4 5 3 3 3 3 7 9 0 4 3 4 3 3 7 2 3 3 5 7 3 3 9 3 0 7 3 4 4 9 5 9 4 3 6 6 9 5 3 4 6 2 2 6 4 6 4 3 2 3 7 6 3 2 2 4 4 4 2 9 3 7 3 7 4 9 4 4 2 5 6 5 6 9 2 2 2 6 2 5 2 5 2 4 2 2 3 2 5 2 9 5 6 4 7 3 2 2 2 2 9 5 3 2 4 3 3 7 3 6 2 9 3 4 3 5 5 4 0 5 0 9 7 3 7 5 4 5 0 4 7 6 2 7 9 9 7 3 5 2 7 4 6 5 7 2 9 9 4 5 9 5 4 9 2 2 "
     ]
    }
   ],
   "source": [
    "for image_index in temp_cluster3:\n",
    "    print(labels[image_index], end = \" \")"
   ]
  },
  {
   "cell_type": "code",
   "execution_count": 95,
   "metadata": {},
   "outputs": [],
   "source": [
    "test_clusters = []\n",
    "for i in range(0, len(clusters)):\n",
    "    if i == 4: \n",
    "        test_clusters.append(temp_cluster1)\n",
    "    elif i == 9:\n",
    "        test_clusters.append(temp_cluster2)\n",
    "    elif i == 16:\n",
    "        test_clusters.append(temp_cluster3)\n",
    "    else:\n",
    "        test_clusters.append(clusters[i])"
   ]
  },
  {
   "cell_type": "code",
   "execution_count": 118,
   "metadata": {},
   "outputs": [],
   "source": [
    "purity_of_each_cluster = []\n",
    "for cluster in test_clusters:\n",
    "    purity_of_each_cluster.append(purity_of_cluster(cluster) / len(cluster))"
   ]
  },
  {
   "cell_type": "code",
   "execution_count": 120,
   "metadata": {},
   "outputs": [],
   "source": [
    "total_purity = 0\n",
    "for purity in purity_of_each_cluster:\n",
    "    total_purity += purity"
   ]
  },
  {
   "cell_type": "code",
   "execution_count": 126,
   "metadata": {},
   "outputs": [],
   "source": [
    "avg_purity = total_purity / 20"
   ]
  },
  {
   "cell_type": "code",
   "execution_count": 127,
   "metadata": {},
   "outputs": [
    {
     "data": {
      "text/plain": [
       "0.4308660607932636"
      ]
     },
     "execution_count": 127,
     "metadata": {},
     "output_type": "execute_result"
    }
   ],
   "source": [
    "avg_purity "
   ]
  },
  {
   "cell_type": "code",
   "execution_count": 99,
   "metadata": {},
   "outputs": [],
   "source": [
    "b = calculate_purity_of_labels(test_clusters)"
   ]
  },
  {
   "cell_type": "code",
   "execution_count": 98,
   "metadata": {},
   "outputs": [
    {
     "data": {
      "text/plain": [
       "0.3166"
      ]
     },
     "execution_count": 98,
     "metadata": {},
     "output_type": "execute_result"
    }
   ],
   "source": [
    "b"
   ]
  },
  {
   "cell_type": "code",
   "execution_count": 128,
   "metadata": {},
   "outputs": [],
   "source": [
    "a = 0.4308660607932636"
   ]
  },
  {
   "cell_type": "code",
   "execution_count": 133,
   "metadata": {},
   "outputs": [
    {
     "data": {
      "text/plain": [
       "0.3649990334072882"
      ]
     },
     "execution_count": 133,
     "metadata": {},
     "output_type": "execute_result"
    }
   ],
   "source": [
    "2 * a * b / (a+b)"
   ]
  }
 ],
 "metadata": {
  "kernelspec": {
   "display_name": "Python 3",
   "language": "python",
   "name": "python3"
  },
  "language_info": {
   "codemirror_mode": {
    "name": "ipython",
    "version": 3
   },
   "file_extension": ".py",
   "mimetype": "text/x-python",
   "name": "python",
   "nbconvert_exporter": "python",
   "pygments_lexer": "ipython3",
   "version": "3.6.4"
  }
 },
 "nbformat": 4,
 "nbformat_minor": 2
}
