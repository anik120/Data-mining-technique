{
 "cells": [
  {
   "cell_type": "code",
   "execution_count": 1,
   "metadata": {},
   "outputs": [],
   "source": [
    "graph = {}\n",
    "graph['A'] = ['B', 'E']\n",
    "graph['B'] = ['A', 'F', 'G']\n",
    "graph['D'] = ['F', 'G']\n",
    "graph['E'] = ['A', 'F']\n",
    "graph['F'] = ['B', 'D', 'E']\n",
    "graph['G'] = ['B', 'D']"
   ]
  },
  {
   "cell_type": "code",
   "execution_count": 12,
   "metadata": {},
   "outputs": [],
   "source": [
    "def create_reverse_graph(graph):\n",
    "    reverse_graph = {}\n",
    "    for node in graph.keys():\n",
    "        vertices = graph[node]\n",
    "        for vertex in vertices:\n",
    "            if vertex in reverse_graph:\n",
    "                reverse_graph[vertex].append(node)\n",
    "            else:\n",
    "                reverse_graph[vertex] = [node]\n",
    "    return reverse_graph"
   ]
  },
  {
   "cell_type": "code",
   "execution_count": 30,
   "metadata": {},
   "outputs": [
    {
     "data": {
      "text/plain": [
       "{'A': ['B', 'E'],\n",
       " 'B': ['A', 'F', 'G'],\n",
       " 'D': ['F', 'G'],\n",
       " 'E': ['A', 'F'],\n",
       " 'F': ['B', 'D', 'E'],\n",
       " 'G': ['B', 'D']}"
      ]
     },
     "execution_count": 30,
     "metadata": {},
     "output_type": "execute_result"
    }
   ],
   "source": [
    "graph"
   ]
  },
  {
   "cell_type": "code",
   "execution_count": 43,
   "metadata": {},
   "outputs": [],
   "source": [
    "from queue import *\n",
    "import queue\n",
    "def bfs(graph, node):\n",
    "    tree_edges = []\n",
    "    visited = {}\n",
    "    level_nodes = []\n",
    "    for vertex in graph.keys():\n",
    "        visited[vertex] = False\n",
    "    visited[node] = True\n",
    "    q = queue.Queue()\n",
    "    q.put(node)\n",
    "    level_nodes.append([node])\n",
    "    while(not q.empty()):\n",
    "        current_vertex = q.get()\n",
    "        vertices_to_visit = graph[current_vertex]\n",
    "        next_level_vertices = []\n",
    "        for vertex in vertices_to_visit:\n",
    "            if(visited[vertex] == False):\n",
    "                visited[vertex] = True\n",
    "                next_level_vertices.append(vertex)\n",
    "                tree_edges.append(current_vertex + vertex)\n",
    "                q.put(vertex)\n",
    "        if len(next_level_vertices) != 0:\n",
    "            level_nodes.append(next_level_vertices)\n",
    "    return tree_edges, level_nodes"
   ]
  },
  {
   "cell_type": "code",
   "execution_count": 44,
   "metadata": {},
   "outputs": [],
   "source": [
    "tree_edges, level_nodes = bfs(graph, 'A')"
   ]
  },
  {
   "cell_type": "code",
   "execution_count": 50,
   "metadata": {},
   "outputs": [],
   "source": [
    "reverse_graph = create_reverse_graph(graph)"
   ]
  },
  {
   "cell_type": "code",
   "execution_count": 54,
   "metadata": {},
   "outputs": [],
   "source": [
    "def get_no_of_shortest_paths(graph, level_nodes):\n",
    "    no_of_shortest_paths = {}\n",
    "    for node in graph.keys():\n",
    "        no_of_shortest_paths[node] = 0\n",
    "    no_of_shortest_paths['A'] = 1\n",
    "    for i in range(1, len(level_nodes)):\n",
    "        for vertex in level_nodes[i]:\n",
    "            paths_from_prev_level = 0\n",
    "            for node in level_nodes[i-1]:\n",
    "                if node in reverse_graph[vertex]:\n",
    "                    paths_from_prev_level += no_of_shortest_paths[node]\n",
    "            no_of_shortest_paths[vertex] = paths_from_prev_level \n",
    "    return no_of_shortest_paths"
   ]
  },
  {
   "cell_type": "code",
   "execution_count": 56,
   "metadata": {},
   "outputs": [
    {
     "data": {
      "text/plain": [
       "{'A': 1, 'B': 1, 'D': 3, 'E': 1, 'F': 2, 'G': 1}"
      ]
     },
     "execution_count": 56,
     "metadata": {},
     "output_type": "execute_result"
    }
   ],
   "source": [
    "no_of_shortest_paths = get_no_of_shortest_paths(graph, level_nodes)"
   ]
  },
  {
   "cell_type": "code",
   "execution_count": 74,
   "metadata": {},
   "outputs": [],
   "source": [
    "flow_on_edges = {}\n",
    "flow_to_nodes = {}\n",
    "for node in graph.keys():\n",
    "    flow_to_nodes[node] = 1\n",
    "for i in range(len(level_nodes)-1, 0, -1):\n",
    "    nodes = level_nodes[i]\n",
    "    for j in range(len(nodes)):\n",
    "        prev_nodes = level_nodes[i-1]\n",
    "        for k in range(len(prev_nodes)):\n",
    "            if prev_nodes[k] in reverse_graph[nodes[j]]:\n",
    "                edge = nodes[j] + prev_nodes[k]\n",
    "                flow_on_edges[edge] = (no_of_shortest_paths[prev_nodes[k]]/no_of_shortest_paths[nodes[j]]) * flow_to_nodes[nodes[j]]\n",
    "                flow_to_nodes[prev_nodes[k]] = flow_to_nodes[prev_nodes[k]] + flow_on_edges[edge]"
   ]
  },
  {
   "cell_type": "code",
   "execution_count": 85,
   "metadata": {},
   "outputs": [],
   "source": [
    "def get_flow(flow_on_edges, flow_to_nodes, level_nodes, no_of_shortest_paths):\n",
    "    for node in graph.keys():\n",
    "        flow_to_nodes[node] = 1\n",
    "    for i in range(len(level_nodes)-1, 0, -1):\n",
    "        nodes = level_nodes[i]\n",
    "        for j in range(len(nodes)):\n",
    "            prev_nodes = level_nodes[i-1]\n",
    "            for k in range(len(prev_nodes)):\n",
    "                if prev_nodes[k] in reverse_graph[nodes[j]]:\n",
    "                    edge = nodes[j] + prev_nodes[k]\n",
    "                    flow_on_edges[edge] = (no_of_shortest_paths[prev_nodes[k]]/no_of_shortest_paths[nodes[j]]) * flow_to_nodes[nodes[j]]\n",
    "                    flow_to_nodes[prev_nodes[k]] = flow_to_nodes[prev_nodes[k]] + flow_on_edges[edge]\n",
    "    return flow_on_edges, flow_to_nodes"
   ]
  },
  {
   "cell_type": "code",
   "execution_count": 86,
   "metadata": {},
   "outputs": [],
   "source": [
    "flow_on_edges, flow_to_nodes = get_flow({}, {}, level_nodes, no_of_shortest_paths)"
   ]
  },
  {
   "cell_type": "code",
   "execution_count": 87,
   "metadata": {},
   "outputs": [
    {
     "data": {
      "text/plain": [
       "{'BA': 3.1666666666666665,\n",
       " 'DF': 0.6666666666666666,\n",
       " 'DG': 0.3333333333333333,\n",
       " 'EA': 1.8333333333333333,\n",
       " 'FB': 0.8333333333333333,\n",
       " 'FE': 0.8333333333333333,\n",
       " 'GB': 1.3333333333333333}"
      ]
     },
     "execution_count": 87,
     "metadata": {},
     "output_type": "execute_result"
    }
   ],
   "source": [
    "flow_on_edges"
   ]
  },
  {
   "cell_type": "code",
   "execution_count": 76,
   "metadata": {},
   "outputs": [
    {
     "data": {
      "text/plain": [
       "{'A': 5.999999999999999,\n",
       " 'B': 3.1666666666666665,\n",
       " 'D': 1,\n",
       " 'E': 1.8333333333333333,\n",
       " 'F': 1.6666666666666665,\n",
       " 'G': 1.3333333333333333}"
      ]
     },
     "execution_count": 76,
     "metadata": {},
     "output_type": "execute_result"
    }
   ],
   "source": [
    "flow_to_nodes"
   ]
  },
  {
   "cell_type": "code",
   "execution_count": 111,
   "metadata": {},
   "outputs": [],
   "source": [
    "import networkx as nx\n",
    "G = nx.Graph(graph)"
   ]
  },
  {
   "cell_type": "code",
   "execution_count": 112,
   "metadata": {},
   "outputs": [
    {
     "name": "stdout",
     "output_type": "stream",
     "text": [
      "{'F', 'D', 'A', 'G', 'B', 'E'}\n"
     ]
    }
   ],
   "source": [
    "for component in nx.connected_components(G):\n",
    "    print(component)"
   ]
  },
  {
   "cell_type": "code",
   "execution_count": 113,
   "metadata": {},
   "outputs": [
    {
     "data": {
      "text/plain": [
       "1"
      ]
     },
     "execution_count": 113,
     "metadata": {},
     "output_type": "execute_result"
    }
   ],
   "source": [
    "nx.number_connected_components(G)"
   ]
  },
  {
   "cell_type": "code",
   "execution_count": 89,
   "metadata": {},
   "outputs": [],
   "source": [
    "tree_edges, level_nodes = bfs(graph, 'B')\n"
   ]
  },
  {
   "cell_type": "code",
   "execution_count": 92,
   "metadata": {},
   "outputs": [
    {
     "data": {
      "text/plain": [
       "[['B'], ['A', 'F', 'G'], ['E'], ['D']]"
      ]
     },
     "execution_count": 92,
     "metadata": {},
     "output_type": "execute_result"
    }
   ],
   "source": [
    "level_nodes"
   ]
  },
  {
   "cell_type": "code",
   "execution_count": 90,
   "metadata": {},
   "outputs": [],
   "source": [
    "no_of_shortest_paths = get_no_of_shortest_paths(graph, level_nodes)\n"
   ]
  },
  {
   "cell_type": "code",
   "execution_count": 91,
   "metadata": {},
   "outputs": [
    {
     "data": {
      "text/plain": [
       "{'A': 0, 'B': 0, 'D': 0, 'E': 0, 'F': 0, 'G': 0}"
      ]
     },
     "execution_count": 91,
     "metadata": {},
     "output_type": "execute_result"
    }
   ],
   "source": [
    "no_of_shortest_paths"
   ]
  },
  {
   "cell_type": "code",
   "execution_count": 114,
   "metadata": {},
   "outputs": [],
   "source": [
    "bfs = nx.bfs_edges(G, 'A')"
   ]
  },
  {
   "cell_type": "code",
   "execution_count": 115,
   "metadata": {},
   "outputs": [
    {
     "name": "stdout",
     "output_type": "stream",
     "text": [
      "('A', 'B')\n",
      "('A', 'E')\n",
      "('B', 'F')\n",
      "('B', 'G')\n",
      "('F', 'D')\n"
     ]
    }
   ],
   "source": [
    "for edge in bfs:\n",
    "    print(edge)"
   ]
  },
  {
   "cell_type": "code",
   "execution_count": 122,
   "metadata": {},
   "outputs": [],
   "source": [
    "bfs = nx.bfs_edges(G, 'B')"
   ]
  },
  {
   "cell_type": "code",
   "execution_count": 124,
   "metadata": {},
   "outputs": [
    {
     "name": "stdout",
     "output_type": "stream",
     "text": [
      "<class 'tuple'>\n",
      "<class 'tuple'>\n",
      "<class 'tuple'>\n",
      "<class 'tuple'>\n",
      "<class 'tuple'>\n"
     ]
    }
   ],
   "source": [
    "for edge in bfs:\n",
    "    print(type(edge))"
   ]
  },
  {
   "cell_type": "code",
   "execution_count": null,
   "metadata": {},
   "outputs": [],
   "source": []
  }
 ],
 "metadata": {
  "kernelspec": {
   "display_name": "Python 3",
   "language": "python",
   "name": "python3"
  },
  "language_info": {
   "codemirror_mode": {
    "name": "ipython",
    "version": 3
   },
   "file_extension": ".py",
   "mimetype": "text/x-python",
   "name": "python",
   "nbconvert_exporter": "python",
   "pygments_lexer": "ipython3",
   "version": "3.6.4"
  }
 },
 "nbformat": 4,
 "nbformat_minor": 2
}
