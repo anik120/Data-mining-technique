{
 "cells": [
  {
   "cell_type": "markdown",
   "metadata": {},
   "source": [
    "A. Compute the number of distinct authors, publication venues, publications, and citations/references"
   ]
  },
  {
   "cell_type": "code",
   "execution_count": 5,
   "metadata": {},
   "outputs": [
    {
     "name": "stdout",
     "output_type": "stream",
     "text": [
      "Number of unique authors: 1292550\n",
      "Number of publication venus: 238233\n",
      "Number of publications: 1677473\n",
      "Number of citations: 5953001\n"
     ]
    }
   ],
   "source": [
    "def add_authors(line, authors):\n",
    "\tline = line [3:]\n",
    "\tbook_authors = line.split(\";\")\n",
    "\tfor author in book_authors:\n",
    "\t\tauthors.add(author.strip())\n",
    "\treturn authors\n",
    "\n",
    "authors = set()\n",
    "publication_venus = set()\n",
    "number_of_pulications = 0\n",
    "number_of_citations = 0\n",
    "\n",
    "file = open(\"AP_train.txt\", 'r')\n",
    "\t\n",
    "for line in file:\t\n",
    "\tif line.startswith(\"#@\"):\n",
    "\t\tauthors = add_authors(line, authors)\n",
    "\n",
    "\tif line.startswith(\"#c\"):\n",
    "\t\tpublication_venus.add(line[3:])\n",
    "\n",
    "\tif line.startswith(\"#index\"):\n",
    "\t\tnumber_of_pulications += 1\n",
    "\n",
    "\tif line.startswith(\"#%\"):\n",
    "\t\tnumber_of_citations += 1\n",
    "\n",
    "print(\"Number of unique authors: \" + str(len(authors)))\n",
    "print(\"Number of publication venus: \" + str(len(publication_venus)))\n",
    "print(\"Number of publications: \" + str(number_of_pulications))\n",
    "print(\"Number of citations: \" + str(number_of_citations))"
   ]
  },
  {
   "cell_type": "markdown",
   "metadata": {},
   "source": [
    "B. Are these numbers likely to be accurate? As an example look up all the publications venue names associated with the conference “Principles and Practice of Knowledge Discovery in Databases”13 – what do you notice?"
   ]
  },
  {
   "cell_type": "code",
   "execution_count": 6,
   "metadata": {},
   "outputs": [
    {
     "ename": "SyntaxError",
     "evalue": "unexpected EOF while parsing (<ipython-input-6-fd9634272456>, line 5)",
     "output_type": "error",
     "traceback": [
      "\u001b[0;36m  File \u001b[0;32m\"<ipython-input-6-fd9634272456>\"\u001b[0;36m, line \u001b[0;32m5\u001b[0m\n\u001b[0;31m    if line.startswith(\"#c\") and \"Principles and Practice of Knowledge Discovery in Databases\" in line:\u001b[0m\n\u001b[0m                                                                                                       ^\u001b[0m\n\u001b[0;31mSyntaxError\u001b[0m\u001b[0;31m:\u001b[0m unexpected EOF while parsing\n"
     ]
    }
   ],
   "source": [
    "file = open(\"AP_train.txt\", 'r')\n",
    "\n",
    "print(\"Venues associated with Principles and Practice of Knowledge Discovery in Databases:\")\n",
    "for line in file:\n",
    "    if line.startswith(\"#c\") and \"Principles and Practice of Knowledge Discovery in Databases\" in line:\n",
    "        print(line[3:])"
   ]
  },
  {
   "cell_type": "code",
   "execution_count": null,
   "metadata": {},
   "outputs": [],
   "source": []
  }
 ],
 "metadata": {
  "kernelspec": {
   "display_name": "Python 3",
   "language": "python",
   "name": "python3"
  },
  "language_info": {
   "codemirror_mode": {
    "name": "ipython",
    "version": 3
   },
   "file_extension": ".py",
   "mimetype": "text/x-python",
   "name": "python",
   "nbconvert_exporter": "python",
   "pygments_lexer": "ipython3",
   "version": "3.6.4"
  }
 },
 "nbformat": 4,
 "nbformat_minor": 2
}
