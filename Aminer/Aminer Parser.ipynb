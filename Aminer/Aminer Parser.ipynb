{
 "cells": [
  {
   "cell_type": "code",
   "execution_count": 4,
   "metadata": {},
   "outputs": [],
   "source": [
    "import matplotlib.pyplot as plt\n",
    "import numpy as np"
   ]
  },
  {
   "cell_type": "markdown",
   "metadata": {},
   "source": [
    " A. Compute the number of distinct authors, publication venues, publications, and citations/references"
   ]
  },
  {
   "cell_type": "code",
   "execution_count": 1,
   "metadata": {},
   "outputs": [
    {
     "name": "stdout",
     "output_type": "stream",
     "text": [
      "Number of unique authors: 1478734\n",
      "Number of publication venus: 255686\n",
      "Number of publications: 1976815\n",
      "Number of citations: 7250326\n"
     ]
    }
   ],
   "source": [
    "def add_authors(line, authors):\n",
    "    line = line [3:]\n",
    "    book_authors = line.split(\";\")\n",
    "    for author in book_authors:\n",
    "        authors.add(author.strip())\n",
    "    return authors\n",
    "\n",
    "authors = set()\n",
    "publication_venus = set()\n",
    "number_of_pulications = 0\n",
    "number_of_citations = 0\n",
    "\n",
    "file = open(\"AP_train.txt\", 'r')\n",
    "\n",
    "for line in file:\n",
    "    if line.startswith(\"#@\"):\n",
    "        authors = add_authors(line, authors)\n",
    "\n",
    "    if line.startswith(\"#c\"):\n",
    "        publication_venus.add(line[3:])\n",
    "\n",
    "    if line.startswith(\"#index\"):\n",
    "        number_of_pulications += 1\n",
    "\n",
    "    if line.startswith(\"#%\"):\n",
    "        number_of_citations += 1\n",
    "\n",
    "print(\"Number of unique authors: \" + str(len(authors)))\n",
    "print(\"Number of publication venus: \" + str(len(publication_venus)))\n",
    "print(\"Number of publications: \" + str(number_of_pulications))\n",
    "print(\"Number of citations: \" + str(number_of_citations))"
   ]
  },
  {
   "cell_type": "markdown",
   "metadata": {},
   "source": [
    "B. Are these numbers likely to be accurate? As an example look up all the publications venue names associated with the conference “Principles and Practice of Knowledge Discovery in Databases”13 – what do you notice?"
   ]
  },
  {
   "cell_type": "code",
   "execution_count": 2,
   "metadata": {
    "scrolled": true
   },
   "outputs": [
    {
     "name": "stdout",
     "output_type": "stream",
     "text": [
      "Venues associated with Principles and Practice of Knowledge Discovery in Databases:\n",
      "\n",
      "Knowledge Discovery in Databases: PKDD 2006: 10th European Conference on Principles and Practice of Knowledge Discovery in Databases, Berlin, Germany, September ... (Lecture Notes in Computer Science)\n",
      "\n",
      "PKDD '04 Proceedings of the 8th European Conference on Principles and Practice of Knowledge Discovery in Databases\n",
      "\n",
      "PKDD 2007 Proceedings of the 11th European conference on Principles and Practice of Knowledge Discovery in Databases\n",
      "\n",
      "PKDD'05 Proceedings of the 9th European conference on Principles and Practice of Knowledge Discovery in Databases\n",
      "\n",
      "Knowledge Discovery in Databases: PKDD 2005: 9th European Conference on Principles and Practice of Knowledge Discovery in Databases, Porto, Portugal, October ... / Lecture Notes in Artificial Intelligence)\n",
      "\n"
     ]
    }
   ],
   "source": [
    "file = open(\"AP_train.txt\", 'r')\n",
    "\n",
    "venu_list = set()\n",
    "print(\"Venues associated with Principles and Practice of Knowledge Discovery in Databases:\\n\")\n",
    "for line in file:\n",
    "    if line.startswith(\"#c\") and \"Principles and Practice of Knowledge Discovery in Databases\" in line:\n",
    "        venu_list.add(line[3:])\n",
    "for venu in venu_list:\n",
    "    print(venu)"
   ]
  },
  {
   "cell_type": "markdown",
   "metadata": {},
   "source": [
    "C. For each author, construct the list of publications. Plot a histogram of the number of publications per author (use a logarithmic scale on the y axis)"
   ]
  },
  {
   "cell_type": "code",
   "execution_count": 19,
   "metadata": {},
   "outputs": [
    {
     "data": {
      "image/png": "[encoded data removed]",
      "text/plain": [
       "<matplotlib.figure.Figure at 0x14ccc5e80>"
      ]
     },
     "metadata": {},
     "output_type": "display_data"
    }
   ],
   "source": [
    "author_publication_list = {}\n",
    "\n",
    "file = open(\"AP_train.txt\", 'r')\n",
    "for line in file:\n",
    "    if line.startswith(\"#@\"):\n",
    "        authors = line[3:].split(\";\")\n",
    "        for author in authors:\n",
    "            if author.strip() in author_publication_list:\n",
    "                author_publication_list[author.strip()] += 1\n",
    "            else:\n",
    "                author_publication_list[author.strip()] = 1\n",
    "        \n",
    "del author_publication_list['']\n",
    "plt.xlabel('Authors')\n",
    "plt.ylabel('Publications')\n",
    "plt.title('Publications per author')\n",
    "plt.grid(True)\n",
    "plt.hist(list(author_publication_list.values()), bins = 50, log = True)\n",
    "plt.show()"
   ]
  },
  {
   "cell_type": "markdown",
   "metadata": {},
   "source": [
    "D. Calculate the mean and standard deviation of the number of publications per author. Also calculate the Q1 (1st quartile14), Q2 (2nd quartile, or median) and Q3 (3rd quartile) values. Compare the median to the mean and explain the difference between the two values based on the standard deviation and the 1st and 3rd quartiles."
   ]
  },
  {
   "cell_type": "code",
   "execution_count": 20,
   "metadata": {},
   "outputs": [
    {
     "name": "stdout",
     "output_type": "stream",
     "text": [
      "Mean number of publications: 3.291785602945224\n",
      "Standard deviation: 8.871889691039373\n",
      "Q1: : 1.0\n",
      "Q2: : 1.0\n",
      "Q3: : 2.0\n",
      "Max publication for an author: 1071\n",
      "Min publication for an author: 1\n"
     ]
    }
   ],
   "source": [
    "print(\"Mean number of publications\", end = ': ')\n",
    "mean = np.mean(list(author_publication_list.values()))\n",
    "print(str(mean))\n",
    "\n",
    "print(\"Standard deviation\", end = ': ')\n",
    "std = np.std(list(author_publication_list.values()))\n",
    "print(str(std))\n",
    "\n",
    "print(\"Q1: \", end = ': ')\n",
    "q1 = np.percentile(list(author_publication_list.values()), 25)\n",
    "print(str(q1))\n",
    "\n",
    "print(\"Q2: \", end = ': ')\n",
    "q2 = np.median(list(author_publication_list.values()))\n",
    "print(str(q2))\n",
    "\n",
    "print(\"Q3: \", end = ': ')\n",
    "q3 = np.percentile(list(author_publication_list.values()), 75)\n",
    "print(str(q3))\n",
    "\n",
    "print(\"Max publication for an author\", end = ': ')\n",
    "max_pub = np.max(list(author_publication_list.values()))\n",
    "print(str(max_pub))\n",
    "\n",
    "print(\"Min publication for an author\", end = ': ')\n",
    "min_pub = np.min(list(author_publication_list.values()))\n",
    "print(str(min_pub))\n",
    "\n"
   ]
  },
  {
   "cell_type": "markdown",
   "metadata": {},
   "source": [
    "> The above stats reveal that a large number of authors have only one publication, which is why the median and the first quartlie is 1.\n",
    "> There also are a few authors with large number of publications which shifts the mean to a value greater than 3 even though the medain and the first quartile is 1"
   ]
  },
  {
   "cell_type": "markdown",
   "metadata": {},
   "source": [
    "E. Now plot a histogram of the number of publications per venue, as well as calculate the mean, standard deviation, median, Q1, and Q3 values. What is the venue with the largest number of publications in the dataset?"
   ]
  },
  {
   "cell_type": "code",
   "execution_count": 7,
   "metadata": {},
   "outputs": [
    {
     "name": "stdout",
     "output_type": "stream",
     "text": [
      "Mean number of publications per venu: 7.731416659496413\n",
      "Standard deviation: 83.38105610357532\n",
      "Q1: 1.0\n",
      "Median: 1.0\n",
      "Q3: 1.0\n",
      "Venu with largest number of pulications:  IEEE Transactions on Information Theory\n",
      "\n",
      "Number of publications in above venu: 11227\n"
     ]
    },
    {
     "data": {
      "image/png": "[encoded data removed]",
      "text/plain": [
       "<matplotlib.figure.Figure at 0x13b3cf898>"
      ]
     },
     "metadata": {},
     "output_type": "display_data"
    }
   ],
   "source": [
    "file = open(\"AP_train.txt\", 'r')\n",
    "venu_list = {}\n",
    "\n",
    "for line in file:\n",
    "    line_parts = line.split()\n",
    "    if(line .startswith(\"#c\")):\n",
    "        venu = line[3:]\n",
    "        if venu in venu_list:\n",
    "            venu_list[venu] = venu_list[venu] + 1\n",
    "        else:\n",
    "            venu_list[venu] = 1\n",
    "\n",
    "number_of_pub_per_venu = list(venu_list.values())\n",
    "\n",
    "print(\"Mean number of publications per venu: \" + str(np.mean(number_of_pub_per_venu)))\n",
    "print(\"Standard deviation: \" + str(np.std(number_of_pub_per_venu)))\n",
    "print(\"Q1: \" + str(np.percentile(number_of_pub_per_venu, 25)))\n",
    "print(\"Median: \" + str(np.median(number_of_pub_per_venu)))\n",
    "print(\"Q3: \" + str(np.percentile(number_of_pub_per_venu, 75)))\n",
    "\n",
    "venu_with_largest_no_of_publication = ''\n",
    "largest_number_of_publication = 0\n",
    "\n",
    "for venu in venu_list:\n",
    "    number_of_pulications = venu_list[venu]\n",
    "    if number_of_pulications > largest_number_of_publication:\n",
    "        largest_number_of_publication = number_of_pulications\n",
    "        venu_with_largest_no_of_publication = venu\n",
    "\n",
    "print(\"Venu with largest number of pulications: \", end = \" \")\n",
    "print(venu_with_largest_no_of_publication)\n",
    "print(\"Number of publications in above venu:\", end = \" \") \n",
    "print(str(venu_list[venu_with_largest_no_of_publication]))\n",
    "\n",
    "plt.xlabel('Venus')\n",
    "plt.ylabel('Publications')\n",
    "plt.title('Publications per venu')\n",
    "plt.grid(True)\n",
    "plt.hist(number_of_pub_per_venu, bins = 50, log = True)\n",
    "plt.show()"
   ]
  },
  {
   "cell_type": "markdown",
   "metadata": {},
   "source": [
    "F. Plot a histogram of the number of references (number of publications a publication refers to) and citations (number of publications referring to a publication) per publication. What is the publication with the largest number of references? What is the publication with the largest number of citations? Do these make sense?"
   ]
  },
  {
   "cell_type": "code",
   "execution_count": 8,
   "metadata": {},
   "outputs": [
    {
     "name": "stdout",
     "output_type": "stream",
     "text": [
      "Total number of references: 7250326\n",
      "Total number of citations: 7250326\n",
      "Publication with largest number of references: 719353\n",
      "Publication with largest number of citations: 408396\n"
     ]
    },
    {
     "data": {
      "image/png": "[encoded data removed]",
      "text/plain": [
       "<matplotlib.figure.Figure at 0x102975400>"
      ]
     },
     "metadata": {},
     "output_type": "display_data"
    },
    {
     "data": {
      "image/png": "[encoded data removed]",
      "text/plain": [
       "<matplotlib.figure.Figure at 0x136434e48>"
      ]
     },
     "metadata": {},
     "output_type": "display_data"
    }
   ],
   "source": [
    "file = open(\"AP_train.txt\", 'r')\n",
    "reference_dict = {}\n",
    "citation_dict = {}\n",
    "total_references = 0\n",
    "total_citations = 0\n",
    "\n",
    "index = \"\"\n",
    "for line in file:\n",
    "    line_parts = line.split()\n",
    "    if line .startswith(\"#index\"):\n",
    "        index = line_parts[1]\n",
    "        reference_dict[index] = 0\n",
    "    if line .startswith(\"#%\"):\n",
    "        reference_dict[index] = reference_dict[index] + 1\n",
    "        if line_parts[1] in citation_dict:\n",
    "            citation_dict[line_parts[1]] = citation_dict[line_parts[1]] + 1\n",
    "        else:\n",
    "            citation_dict[line_parts[1]] = 1\n",
    "\n",
    "pub_with_largest_ref = \"\"\n",
    "largest_ref = 0\n",
    "for paper_index in reference_dict.keys():\n",
    "    total_references += reference_dict[paper_index]\n",
    "    if reference_dict[paper_index] > largest_ref:\n",
    "        largest_ref = reference_dict[paper_index]\n",
    "        pub_with_largest_ref = paper_index\n",
    "\n",
    "pub_with_largest_cit = \"\"\n",
    "largest_cit = 0\n",
    "for paper_index in citation_dict:\n",
    "    total_citations += citation_dict[paper_index]\n",
    "    if citation_dict[paper_index] > largest_cit:\n",
    "        largest_cit = citation_dict[paper_index]\n",
    "        pub_with_largest_cit = paper_index\n",
    "\n",
    "print(\"Total number of references: \" + str(total_references))\n",
    "print(\"Total number of citations: \" + str(total_citations))\n",
    "print(\"Publication with largest number of references: \" + pub_with_largest_ref)\n",
    "print(\"Publication with largest number of citations: \" + pub_with_largest_cit)\n",
    "\n",
    "plt.xlabel('Number of references')\n",
    "plt.ylabel('Number of papers')\n",
    "plt.title('References')\n",
    "plt.grid(True)\n",
    "plt.hist(list(reference_dict.values()), bins = 25, log = True)\n",
    "plt.show()\n",
    "\n",
    "plt.xlabel('Number of citations')\n",
    "plt.ylabel('Number of publications')\n",
    "plt.title('Citations')\n",
    "plt.grid(True)\n",
    "plt.hist(list(citation_dict.values()), bins = 25, log = True)\n",
    "plt.show()"
   ]
  },
  {
   "cell_type": "markdown",
   "metadata": {},
   "source": [
    "G. Calculate the so called “impact” factor for each venue. To do so, calculate the total number of citations for the publications in the venue, and then divide this number by the number of publications for the venue. Plot a histogram of the results"
   ]
  },
  {
   "cell_type": "code",
   "execution_count": 9,
   "metadata": {},
   "outputs": [
    {
     "data": {
      "image/png": "[encoded data removed]",
      "text/plain": [
       "<matplotlib.figure.Figure at 0x154e89e10>"
      ]
     },
     "metadata": {},
     "output_type": "display_data"
    }
   ],
   "source": [
    "def total_citation_per_venu(path):\n",
    "    path = \"AP_train.txt\"\n",
    "    index_venu_dict = create_index_venu_dict(path)\n",
    "    file = open(path, 'r')\n",
    "    citations_per_venu_dict = {}\n",
    "\n",
    "    for line in file:\n",
    "        if line.startswith(\"#%\"):\n",
    "            index = line.split()[1]\n",
    "            if index in index_venu_dict:\n",
    "                venu = index_venu_dict[index]\n",
    "                if venu in citations_per_venu_dict:\n",
    "                    citations_per_venu_dict[venu] += 1\n",
    "                else:\n",
    "                    citations_per_venu_dict[venu] = 1\n",
    "    return citations_per_venu_dict\n",
    "\n",
    "def create_venu_publication_dict(path):\n",
    "    file = open(path, 'r')\n",
    "    venu_no_of_pub_dict = {}\n",
    "    for line in file:\n",
    "        if line.startswith(\"#c\"):\n",
    "            venu = line[3:].replace('\\n', '')\n",
    "            if venu in venu_no_of_pub_dict:\n",
    "                venu_no_of_pub_dict[venu] += 1\n",
    "            else:\n",
    "                venu_no_of_pub_dict[venu] = 1\n",
    "\n",
    "    return venu_no_of_pub_dict\n",
    "\n",
    "def create_index_venu_dict(path):\n",
    "    file = open(path, 'r')\n",
    "    index_venu_dict = {}\n",
    "    for line in file:\n",
    "        line_parts = line.split()\n",
    "\n",
    "        if line != \"\\n\":\n",
    "            if line_parts[0] == \"#index\":\n",
    "                index = line_parts[1]\n",
    "            if line_parts[0] == \"#c\":\n",
    "                index_venu_dict[index] = line[3:]\n",
    "\n",
    "    return index_venu_dict\n",
    "\n",
    "path = \"AP_train.txt\"\n",
    "cite_per_venu_dict = total_citation_per_venu(path)\n",
    "venu_no_of_pub_dict = create_venu_publication_dict(path)\n",
    "impact_factor_dict = {}\n",
    "\n",
    "for venu in cite_per_venu_dict:\n",
    "    if venu.replace('\\n', '') in venu_no_of_pub_dict:\n",
    "        impact_factor_dict[venu.replace('\\n', '')] = cite_per_venu_dict[venu] / venu_no_of_pub_dict[venu.replace('\\n', '')]\n",
    "\n",
    "\n",
    "plt.xlabel('Venues')\n",
    "plt.ylabel('Impact factor')\n",
    "plt.title('Venue Impact')\n",
    "plt.grid(True)\n",
    "plt.hist(list(impact_factor_dict.values()), bins = 50, log = True)\n",
    "plt.show()"
   ]
  },
  {
   "cell_type": "markdown",
   "metadata": {},
   "source": [
    "H. What is the venue with the highest apparent impact factor? Do you believe this number?(http://mdanderson.libanswers.com/faq/26159)"
   ]
  },
  {
   "cell_type": "code",
   "execution_count": 10,
   "metadata": {},
   "outputs": [
    {
     "name": "stdout",
     "output_type": "stream",
     "text": [
      "Venu with highest impact factor: Computers and Intractability: A Guide to the Theory of NP-Completeness\n"
     ]
    }
   ],
   "source": [
    "max_citation_count = 0\n",
    "highest_impact_factor_venu = \"\"\n",
    "for venu in impact_factor_dict.keys():\n",
    "    if impact_factor_dict[venu] > max_citation_count:\n",
    "        max_citation_count = impact_factor_dict[venu]\n",
    "        highest_impact_factor_venu = venu\n",
    "\n",
    "print(\"Venu with highest impact factor: \" + highest_impact_factor_venu)\n"
   ]
  },
  {
   "cell_type": "markdown",
   "metadata": {},
   "source": [
    "> Since impact factor of a venu depends on the reliability of the data (i.e how the venu is recorded for each publication) the data cannot be trusted as certain venues are recorded differently for different publications:\n",
    "Eg. Communication of the ACM is also recorded as Communicatioins of the ACM (ACM) for certian records"
   ]
  },
  {
   "cell_type": "markdown",
   "metadata": {},
   "source": [
    "I. Now repeat the calculation from item b., but restrict the calculation to venues with at least 10 publications. How does your histogram change? List the citation counts for all publications from the venue with the highest impact factor. How does the impact factor (mean number of citations) compare to the median number of citations?"
   ]
  },
  {
   "cell_type": "code",
   "execution_count": 11,
   "metadata": {},
   "outputs": [
    {
     "data": {
      "image/png": "[encoded data removed]",
      "text/plain": [
       "<matplotlib.figure.Figure at 0x152f74ef0>"
      ]
     },
     "metadata": {},
     "output_type": "display_data"
    },
    {
     "name": "stdout",
     "output_type": "stream",
     "text": [
      "Venu with highest impact factor: Proceedings of the 2001 conference on Applications, technologies, architectures, and protocols for computer communications\n",
      "Impact factor of above venu: 214.82608695652175\n",
      "Median number of citation: 66544.0\n"
     ]
    }
   ],
   "source": [
    "impact_factor_dict = {}\n",
    "\n",
    "for venu in cite_per_venu_dict:\n",
    "    if venu.replace('\\n', '') in venu_no_of_pub_dict and venu_no_of_pub_dict[venu.replace('\\n', '')] > 10:\n",
    "        impact_factor_dict[venu.replace('\\n', '')] = cite_per_venu_dict[venu] / venu_no_of_pub_dict[venu.replace('\\n', '')]\n",
    "\n",
    "\n",
    "plt.xlabel('Venues')\n",
    "plt.ylabel('Impact factor')\n",
    "plt.title('Venue Impact')\n",
    "plt.grid(True)\n",
    "plt.hist(list(impact_factor_dict.values()), bins = 50, log = True)\n",
    "plt.show()\n",
    "\n",
    "max_citation_count = 0\n",
    "highest_impact_factor_venu = \"\"\n",
    "for venu in impact_factor_dict.keys():\n",
    "    if impact_factor_dict[venu] > max_citation_count:\n",
    "        max_citation_count = impact_factor_dict[venu]\n",
    "        highest_impact_factor_venu = venu\n",
    "\n",
    "print(\"Venu with highest impact factor: \" + highest_impact_factor_venu)\n",
    "print(\"Impact factor of above venu: \" + str(impact_factor_dict[highest_impact_factor_venu]))\n",
    "print(\"Median number of citation: \" + str(np.median(np.array(list(cite_per_venu_dict.values()))[0])))"
   ]
  },
  {
   "cell_type": "markdown",
   "metadata": {},
   "source": [
    "J. Finally, construct a list of publications for each publication year. Use this list to plot the average number of references and average number of citations per publication as a function of time. Explain the differences you see in the trends."
   ]
  },
  {
   "cell_type": "code",
   "execution_count": 41,
   "metadata": {
    "scrolled": true
   },
   "outputs": [
    {
     "data": {
      "image/png": "[encoded data removed]",
      "text/plain": [
       "<matplotlib.figure.Figure at 0x10fb177f0>"
      ]
     },
     "metadata": {},
     "output_type": "display_data"
    }
   ],
   "source": [
    "file = open(\"AP_train.txt\", 'r')\n",
    "\n",
    "year_pub_dict = {}\n",
    "year_ref_dict = {}\n",
    "year_cite_dict = {}\n",
    "\n",
    "for line in file:\n",
    "    if line.startswith(\"#index\"):\n",
    "        index = line.split()[1]\n",
    "        if index in citation_dict:\n",
    "            number_of_times_index_cited = citation_dict[index]\n",
    "    \n",
    "    if line.startswith(\"#t\"):\n",
    "        year = line[3:].replace('\\n', '')\n",
    "        if index in citation_dict:\n",
    "            if year in year_cite_dict:\n",
    "                year_cite_dict[year] += number_of_times_index_cited\n",
    "            else:\n",
    "                year_cite_dict[year] = number_of_times_index_cited\n",
    "            \n",
    "        if year in year_pub_dict:\n",
    "            year_pub_dict[year] += 1\n",
    "        else:\n",
    "            year_pub_dict[year] = 1\n",
    "    if line.startswith(\"#%\"):\n",
    "        if year in year_ref_dict:\n",
    "            year_ref_dict[year] += 1\n",
    "        else:\n",
    "            year_ref_dict[year] = 1\n",
    "\n",
    "avg_ref_per_year = {}\n",
    "for year in sorted(year_ref_dict.keys()):\n",
    "    avg_ref_per_year[year] = year_ref_dict[year] / year_pub_dict[year] \n",
    "\n",
    "avg_cite_per_year = {}\n",
    "for year in sorted(year_cite_dict.keys()):\n",
    "    avg_cite_per_year[year] = year_cite_dict[year] / year_pub_dict[year]\n",
    "\n",
    "x = sorted(list(year_pub_dict.keys()))\n",
    "x.pop(0)\n",
    "\n",
    "for year in x:\n",
    "    if year not in avg_ref_per_year:\n",
    "        avg_ref_per_year[year] = 0\n",
    "    if year not in avg_cite_per_year:\n",
    "        avg_cite_per_year[year] = 0\n",
    "        \n",
    "y1 = [avg_ref_per_year[i] for i in x]\n",
    "y2 = [avg_cite_per_year[i] for i in x]\n",
    "\n",
    "\n",
    "figure, ax = plt.subplots()\n",
    "ax.plot(x, y1, 'b' , label = 'Average no of references')\n",
    "ax.plot(x, y2, 'r' , label = 'Average no of citations')\n",
    "legend = ax.legend(loc = 'upper right')\n",
    "max_xticks = 8\n",
    "xloc = plt.MaxNLocator(max_xticks)\n",
    "ax.xaxis.set_major_locator(xloc)\n",
    "plt.show()"
   ]
  }
 ],
 "metadata": {
  "kernelspec": {
   "display_name": "Python 3",
   "language": "python",
   "name": "python3"
  },
  "language_info": {
   "codemirror_mode": {
    "name": "ipython",
    "version": 3
   },
   "file_extension": ".py",
   "mimetype": "text/x-python",
   "name": "python",
   "nbconvert_exporter": "python",
   "pygments_lexer": "ipython3",
   "version": "3.6.4"
  }
 },
 "nbformat": 4,
 "nbformat_minor": 2
}
