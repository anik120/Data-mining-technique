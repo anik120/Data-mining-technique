{
 "cells": [
  {
   "cell_type": "code",
   "execution_count": 29,
   "metadata": {},
   "outputs": [],
   "source": [
    "import numpy as np\n",
    "from sklearn import mixture\n",
    "from tensorflow.examples.tutorials.mnist import input_data\n",
    "import mnist_reader\n",
    "from collections import defaultdict"
   ]
  },
  {
   "cell_type": "code",
   "execution_count": 30,
   "metadata": {},
   "outputs": [],
   "source": [
    "training_images, training_labels = mnist_reader.load_mnist('data/fashion', kind='train')\n",
    "test_images, test_labels = mnist_reader.load_mnist('data/fashion', kind='t10k')\n",
    "images = np.concatenate((training_images, test_images), axis = 0)\n",
    "labels = np.concatenate((training_labels, test_labels), axis = 0)"
   ]
  },
  {
   "cell_type": "code",
   "execution_count": 31,
   "metadata": {},
   "outputs": [
    {
     "data": {
      "text/plain": [
       "GaussianMixture(covariance_type='full', init_params='kmeans', max_iter=100,\n",
       "        means_init=None, n_components=10, n_init=1, precisions_init=None,\n",
       "        random_state=None, reg_covar=1e-06, tol=0.001, verbose=0,\n",
       "        verbose_interval=10, warm_start=False, weights_init=None)"
      ]
     },
     "execution_count": 31,
     "metadata": {},
     "output_type": "execute_result"
    }
   ],
   "source": [
    "clf = mixture.GaussianMixture(n_components=10, covariance_type='full')\n",
    "clf.fit(images)"
   ]
  },
  {
   "cell_type": "code",
   "execution_count": 9,
   "metadata": {},
   "outputs": [],
   "source": [
    "cluster_labels = clf.predict(images)"
   ]
  },
  {
   "cell_type": "code",
   "execution_count": 32,
   "metadata": {},
   "outputs": [],
   "source": [
    "clusters = {}\n",
    "for i in range(10):\n",
    "    clusters[i] = []"
   ]
  },
  {
   "cell_type": "code",
   "execution_count": 33,
   "metadata": {},
   "outputs": [],
   "source": [
    "for i in range(len(cluster_labels)):\n",
    "    clusters[cluster_labels[i]].append(labels[i])\n",
    "   "
   ]
  },
  {
   "cell_type": "code",
   "execution_count": 36,
   "metadata": {},
   "outputs": [],
   "source": [
    "def get_max_occurences(cluster):\n",
    "    label_count_dict = {}\n",
    "    for label in set(cluster):\n",
    "        label_count_dict[label] = 0\n",
    "    for label in cluster:\n",
    "        label_count_dict[label] += 1\n",
    "    max_value = max(label_count_dict.values())\n",
    "    max_key = [key for key, values in label_count_dict.items() if values == max_value]\n",
    "    return max_key[0]"
   ]
  },
  {
   "cell_type": "code",
   "execution_count": 37,
   "metadata": {},
   "outputs": [
    {
     "name": "stdout",
     "output_type": "stream",
     "text": [
      "0.3351142857142857\n"
     ]
    }
   ],
   "source": [
    "purity_count = 0\n",
    "for i in clusters:\n",
    "    max_label = get_max_occurences(list(clusters[i]))\n",
    "    purity_count += list(clusters[i]).count(max_label)\n",
    "print(purity_count/len(images)) "
   ]
  }
 ],
 "metadata": {
  "kernelspec": {
   "display_name": "Python 3",
   "language": "python",
   "name": "python3"
  },
  "language_info": {
   "codemirror_mode": {
    "name": "ipython",
    "version": 3
   },
   "file_extension": ".py",
   "mimetype": "text/x-python",
   "name": "python",
   "nbconvert_exporter": "python",
   "pygments_lexer": "ipython3",
   "version": "3.6.4"
  }
 },
 "nbformat": 4,
 "nbformat_minor": 2
}
