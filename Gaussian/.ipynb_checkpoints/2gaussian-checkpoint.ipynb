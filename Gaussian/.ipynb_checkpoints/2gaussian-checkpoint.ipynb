{
 "cells": [
  {
   "cell_type": "code",
   "execution_count": 50,
   "metadata": {},
   "outputs": [],
   "source": [
    "from scipy.stats import multivariate_normal\n",
    "from random import randint"
   ]
  },
  {
   "cell_type": "code",
   "execution_count": 51,
   "metadata": {},
   "outputs": [],
   "source": [
    "x, y = [], []\n",
    "file = open(\"2gaussian.txt\", 'r')\n",
    "k = 2\n",
    "for line in file:\n",
    "    x.append(float(line.split()[0]))\n",
    "    y.append(float(line.split()[1]))"
   ]
  },
  {
   "cell_type": "code",
   "execution_count": 113,
   "metadata": {},
   "outputs": [],
   "source": [
    "u = [[2,2], [6,3]]\n",
    "cov_mat = [[[1,0],[0,2]], [1,0.9], [0.9,1]]\n",
    "weights = {0: 0.48733333333333334, 1: 0.5126666666666667}\n",
    "pi_0 = {}\n",
    "pi_1 = {}"
   ]
  },
  {
   "cell_type": "code",
   "execution_count": 114,
   "metadata": {},
   "outputs": [
    {
     "name": "stdout",
     "output_type": "stream",
     "text": [
      "1.1417151287798182e-08\n",
      "0.04177308937887871\n"
     ]
    }
   ],
   "source": [
    "var = multivariate_normal(mean=u[0], cov=cov_mat[0])\n",
    "print(var.pdf([x[0], y[0]]))\n",
    "var = multivariate_normal(u[1], cov_mat[1])\n",
    "print(var.pdf([x[0], y[0]]))"
   ]
  },
  {
   "cell_type": "code",
   "execution_count": 115,
   "metadata": {},
   "outputs": [
    {
     "data": {
      "text/plain": [
       "{0: 0.48733333333333334, 1: 0.5126666666666667}"
      ]
     },
     "execution_count": 115,
     "metadata": {},
     "output_type": "execute_result"
    }
   ],
   "source": [
    "weights"
   ]
  },
  {
   "cell_type": "code",
   "execution_count": 116,
   "metadata": {},
   "outputs": [],
   "source": [
    "def probablity(data_point, u, cov_mat):\n",
    "    var = multivariate_normal(mean=u, cov=cov_mat)\n",
    "    prob = var.pdf([data_point[0], data_point[1]])\n",
    "    return prob"
   ]
  },
  {
   "cell_type": "code",
   "execution_count": 121,
   "metadata": {},
   "outputs": [],
   "source": [
    "def expectation(data_point):\n",
    "    data_point = (x[i], y[i])\n",
    "    probs = []\n",
    "    for j in range(0, k):\n",
    "        prob = probablity(data_point, u[j], cov_mat[j])\n",
    "        if j == 0:\n",
    "            pi_0[data_point] = prob * weights[0]\n",
    "        else:\n",
    "            pi_1[data_point] = prob * weights[1]\n",
    "        probs.append((prob, j))\n",
    "    denom = 0\n",
    "    for prob in probs:\n",
    "        mixture = prob[1]\n",
    "        denom += prob[0] * weights[mixture]\n",
    "        \n",
    "    pi_0[data_point] /= denom\n",
    "    pi_1[data_point] /= denom\n",
    "        "
   ]
  },
  {
   "cell_type": "code",
   "execution_count": 130,
   "metadata": {},
   "outputs": [
    {
     "ename": "TypeError",
     "evalue": "'dict' object is not callable",
     "output_type": "error",
     "traceback": [
      "\u001b[0;31m---------------------------------------------------------------------------\u001b[0m",
      "\u001b[0;31mTypeError\u001b[0m                                 Traceback (most recent call last)",
      "\u001b[0;32m<ipython-input-130-ade3d95ea33f>\u001b[0m in \u001b[0;36m<module>\u001b[0;34m()\u001b[0m\n\u001b[1;32m     22\u001b[0m     \u001b[0mu\u001b[0m\u001b[0;34m[\u001b[0m\u001b[0;36m1\u001b[0m\u001b[0;34m]\u001b[0m\u001b[0;34m[\u001b[0m\u001b[0;36m0\u001b[0m\u001b[0;34m]\u001b[0m \u001b[0;34m=\u001b[0m \u001b[0msum_u1_x\u001b[0m\u001b[0;34m\u001b[0m\u001b[0m\n\u001b[1;32m     23\u001b[0m     \u001b[0mu\u001b[0m\u001b[0;34m[\u001b[0m\u001b[0;36m1\u001b[0m\u001b[0;34m]\u001b[0m\u001b[0;34m[\u001b[0m\u001b[0;36m1\u001b[0m\u001b[0;34m]\u001b[0m \u001b[0;34m=\u001b[0m \u001b[0msum_u1_y\u001b[0m\u001b[0;34m\u001b[0m\u001b[0m\n\u001b[0;32m---> 24\u001b[0;31m \u001b[0mmaximization\u001b[0m\u001b[0;34m(\u001b[0m\u001b[0;34m)\u001b[0m\u001b[0;34m\u001b[0m\u001b[0m\n\u001b[0m\u001b[1;32m     25\u001b[0m \u001b[0mprint\u001b[0m\u001b[0;34m(\u001b[0m\u001b[0mstr\u001b[0m\u001b[0;34m(\u001b[0m\u001b[0mweights\u001b[0m\u001b[0;34m[\u001b[0m\u001b[0;36m0\u001b[0m\u001b[0;34m]\u001b[0m \u001b[0;34m+\u001b[0m \u001b[0mweights\u001b[0m\u001b[0;34m[\u001b[0m\u001b[0;36m1\u001b[0m\u001b[0;34m]\u001b[0m\u001b[0;34m)\u001b[0m\u001b[0;34m)\u001b[0m\u001b[0;34m\u001b[0m\u001b[0m\n\u001b[1;32m     26\u001b[0m \u001b[0mprint\u001b[0m\u001b[0;34m(\u001b[0m\u001b[0mu\u001b[0m\u001b[0;34m)\u001b[0m\u001b[0;34m\u001b[0m\u001b[0m\n",
      "\u001b[0;32m<ipython-input-130-ade3d95ea33f>\u001b[0m in \u001b[0;36mmaximization\u001b[0;34m()\u001b[0m\n\u001b[1;32m      9\u001b[0m         \u001b[0mdata_point\u001b[0m \u001b[0;34m=\u001b[0m \u001b[0;34m(\u001b[0m\u001b[0mx\u001b[0m\u001b[0;34m[\u001b[0m\u001b[0mi\u001b[0m\u001b[0;34m]\u001b[0m\u001b[0;34m,\u001b[0m \u001b[0my\u001b[0m\u001b[0;34m[\u001b[0m\u001b[0mi\u001b[0m\u001b[0;34m]\u001b[0m\u001b[0;34m)\u001b[0m\u001b[0;34m\u001b[0m\u001b[0m\n\u001b[1;32m     10\u001b[0m         \u001b[0mp0\u001b[0m \u001b[0;34m=\u001b[0m \u001b[0mpi_0\u001b[0m\u001b[0;34m[\u001b[0m\u001b[0mdata_point\u001b[0m\u001b[0;34m]\u001b[0m\u001b[0;34m\u001b[0m\u001b[0m\n\u001b[0;32m---> 11\u001b[0;31m         \u001b[0mp1\u001b[0m \u001b[0;34m=\u001b[0m \u001b[0mpi_1\u001b[0m\u001b[0;34m(\u001b[0m\u001b[0mdata_point\u001b[0m\u001b[0;34m)\u001b[0m\u001b[0;34m\u001b[0m\u001b[0m\n\u001b[0m\u001b[1;32m     12\u001b[0m         \u001b[0msum_u0_x\u001b[0m \u001b[0;34m+=\u001b[0m \u001b[0;34m(\u001b[0m\u001b[0mp0\u001b[0m \u001b[0;34m*\u001b[0m \u001b[0mx\u001b[0m\u001b[0;34m[\u001b[0m\u001b[0mi\u001b[0m\u001b[0;34m]\u001b[0m\u001b[0;34m)\u001b[0m\u001b[0;34m\u001b[0m\u001b[0m\n\u001b[1;32m     13\u001b[0m         \u001b[0msum_u0_y\u001b[0m \u001b[0;34m+=\u001b[0m \u001b[0;34m(\u001b[0m\u001b[0mp0\u001b[0m \u001b[0;34m*\u001b[0m \u001b[0my\u001b[0m\u001b[0;34m[\u001b[0m\u001b[0mi\u001b[0m\u001b[0;34m]\u001b[0m\u001b[0;34m)\u001b[0m\u001b[0;34m\u001b[0m\u001b[0m\n",
      "\u001b[0;31mTypeError\u001b[0m: 'dict' object is not callable"
     ]
    }
   ],
   "source": [
    "def maximization():\n",
    "    weights[0] = sum(list(pi_0.values())) / len(x)\n",
    "    weights[1] = sum(list(pi_1.values())) / len(y)\n",
    "    sum_u0_x = 0\n",
    "    sum_u0_y = 0\n",
    "    sum_u1_x = 0\n",
    "    sum_u1_y = 0\n",
    "    for i in range(0, len(x)):\n",
    "        data_point = (x[i], y[i])\n",
    "        p0 = pi_0[data_point]\n",
    "        p1 = pi_1((data_point))\n",
    "        sum_u0_x += (p0 * x[i])\n",
    "        sum_u0_y += (p0 * y[i])\n",
    "        sum_u1_x += (p1 * x[i])\n",
    "        sum_u1_y += (p1 * y[i])\n",
    "    sum_u0_x /= sum(list(pi_0.values()))\n",
    "    sum_u0_y /= sum(list(pi_0.values()))\n",
    "    sum_u1_x /= sum(list(pi_1.values()))\n",
    "    sum_u1_y /= sum(list(pi_1.values()))\n",
    "    u[0][0] = sum_u0_x\n",
    "    u[0][1] = sum_u0_y\n",
    "    u[1][0] = sum_u1_x\n",
    "    u[1][1] = sum_u1_y\n",
    "maximization()\n",
    "print(str(weights[0] + weights[1]))\n",
    "print(u)"
   ]
  },
  {
   "cell_type": "code",
   "execution_count": 122,
   "metadata": {},
   "outputs": [],
   "source": [
    "def repeat_untill_convergence():\n",
    "    for i in range(0, len(x)):\n",
    "        data_point = (x[i], y[i])\n",
    "        expectation(data_point)"
   ]
  },
  {
   "cell_type": "code",
   "execution_count": 111,
   "metadata": {},
   "outputs": [],
   "source": [
    "def calculate_new_u():\n",
    "    p0_sum = sum(list(pi_0.values()))\n",
    "    p1_sum = sum(list(pi_1.values()))\n",
    "    "
   ]
  },
  {
   "cell_type": "code",
   "execution_count": 112,
   "metadata": {},
   "outputs": [
    {
     "name": "stdout",
     "output_type": "stream",
     "text": [
      "[[2.7090899552642513, 2.9840724389903803], [6.820985229510566, 3.9393946120674053]]\n"
     ]
    }
   ],
   "source": [
    "u = calculate_new_u()\n",
    "print(u)"
   ]
  },
  {
   "cell_type": "code",
   "execution_count": 123,
   "metadata": {},
   "outputs": [],
   "source": [
    "repeat_untill_convergence()\n",
    "        "
   ]
  },
  {
   "cell_type": "code",
   "execution_count": 125,
   "metadata": {},
   "outputs": [
    {
     "name": "stdout",
     "output_type": "stream",
     "text": [
      "1655.3948076968431\n"
     ]
    }
   ],
   "source": [
    "print()"
   ]
  },
  {
   "cell_type": "code",
   "execution_count": null,
   "metadata": {},
   "outputs": [],
   "source": []
  }
 ],
 "metadata": {
  "kernelspec": {
   "display_name": "Python 3",
   "language": "python",
   "name": "python3"
  },
  "language_info": {
   "codemirror_mode": {
    "name": "ipython",
    "version": 3
   },
   "file_extension": ".py",
   "mimetype": "text/x-python",
   "name": "python",
   "nbconvert_exporter": "python",
   "pygments_lexer": "ipython3",
   "version": "3.6.4"
  }
 },
 "nbformat": 4,
 "nbformat_minor": 2
}
