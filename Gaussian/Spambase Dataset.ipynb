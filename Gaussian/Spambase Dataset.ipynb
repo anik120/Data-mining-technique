{
 "cells": [
  {
   "cell_type": "code",
   "execution_count": 1,
   "metadata": {},
   "outputs": [],
   "source": [
    "import pandas as pd\n",
    "from sklearn import mixture"
   ]
  },
  {
   "cell_type": "code",
   "execution_count": 15,
   "metadata": {},
   "outputs": [],
   "source": [
    "data = pd.read_csv('spambase.data.txt', header=None)\n",
    "data.rename(columns={57:'is_spam'}, inplace=True)\n",
    "X_train = []\n",
    "Y_train = []\n",
    "with open(\"spambase.data.txt\") as f:\n",
    "    for i,line in enumerate(f):\n",
    "        line= line.strip()\n",
    "        line = line.split(',')\n",
    "        line2 = [float(i) for i in line]\n",
    "        X_train.append(line2[:len(line2)-1])\n",
    "        Y_train.append(line2[len(line2)-1:][0])"
   ]
  },
  {
   "cell_type": "code",
   "execution_count": 17,
   "metadata": {},
   "outputs": [
    {
     "name": "stdout",
     "output_type": "stream",
     "text": [
      "Creating Mixture object\n",
      "Done fitting data\n"
     ]
    }
   ],
   "source": [
    "clf = mixture.GaussianMixture(n_components=10, covariance_type='full')\n",
    "print(\"Creating Mixture object\")\n",
    "clf.fit(X_train)\n",
    "print(\"Done fitting data\")"
   ]
  },
  {
   "cell_type": "code",
   "execution_count": null,
   "metadata": {},
   "outputs": [],
   "source": [
    "cluster_labels = clf.predict(X_train)"
   ]
  },
  {
   "cell_type": "code",
   "execution_count": 23,
   "metadata": {},
   "outputs": [],
   "source": [
    "clusters = {}\n",
    "for i in range(10):\n",
    "    clusters[i] = []\n",
    "for i in range(len(cluster_labels)):\n",
    "    clusters[cluster_labels[i]].append(Y_train[i])"
   ]
  },
  {
   "cell_type": "code",
   "execution_count": 24,
   "metadata": {},
   "outputs": [],
   "source": [
    "def get_max_occurences(cluster):\n",
    "    label_count_dict = {}\n",
    "    for label in set(cluster):\n",
    "        label_count_dict[label] = 0\n",
    "    for label in cluster:\n",
    "        label_count_dict[label] += 1\n",
    "    max_value = max(label_count_dict.values())\n",
    "    max_key = [key for key, values in label_count_dict.items() if values == max_value]\n",
    "    return max_key[0]"
   ]
  },
  {
   "cell_type": "code",
   "execution_count": 26,
   "metadata": {},
   "outputs": [
    {
     "name": "stdout",
     "output_type": "stream",
     "text": [
      "0.7739621821343187\n"
     ]
    }
   ],
   "source": [
    "purity_count = 0\n",
    "for i in clusters:\n",
    "    max_label = get_max_occurences(list(clusters[i]))\n",
    "    purity_count += list(clusters[i]).count(max_label)\n",
    "print(purity_count/len(X_train)) "
   ]
  }
 ],
 "metadata": {
  "kernelspec": {
   "display_name": "Python 3",
   "language": "python",
   "name": "python3"
  },
  "language_info": {
   "codemirror_mode": {
    "name": "ipython",
    "version": 3
   },
   "file_extension": ".py",
   "mimetype": "text/x-python",
   "name": "python",
   "nbconvert_exporter": "python",
   "pygments_lexer": "ipython3",
   "version": "3.6.4"
  }
 },
 "nbformat": 4,
 "nbformat_minor": 2
}
