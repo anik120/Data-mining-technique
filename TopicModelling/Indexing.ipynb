{
 "cells": [
  {
   "cell_type": "code",
   "execution_count": 97,
   "metadata": {},
   "outputs": [],
   "source": [
    "from elasticsearch import Elasticsearch\n",
    "from sklearn.datasets import fetch_20newsgroups\n",
    "import re"
   ]
  },
  {
   "cell_type": "code",
   "execution_count": 24,
   "metadata": {},
   "outputs": [
    {
     "name": "stdout",
     "output_type": "stream",
     "text": [
      "Fecthing data..................................\n",
      "Data fetched successfully\n"
     ]
    }
   ],
   "source": [
    "print(\"Fecthing data..................................\")\n",
    "newsgroups = fetch_20newsgroups(subset='all', remove=(\"headers\", \"footers\"))\n",
    "for index in range(len(newsgroups.data)):\n",
    "    newsgroups.data[index] = re.sub('\\n', '', newsgroups.data[index])\n",
    "print(\"Data fetched successfully\")"
   ]
  },
  {
   "cell_type": "code",
   "execution_count": 2,
   "metadata": {},
   "outputs": [],
   "source": [
    "client = Elasticsearch('localhost')"
   ]
  },
  {
   "cell_type": "code",
   "execution_count": 25,
   "metadata": {},
   "outputs": [
    {
     "data": {
      "text/plain": [
       "'My brother is in the market for a high-performance video card that supportsVESA local bus with 1-2MB RAM.  Does anyone have suggestions/ideas on:  - Diamond Stealth Pro Local Bus  - Orchid Farenheit 1280  - ATI Graphics Ultra Pro  - Any other high-performance VLB cardPlease post or email.  Thank you!  - Matt'"
      ]
     },
     "execution_count": 25,
     "metadata": {},
     "output_type": "execute_result"
    }
   ],
   "source": [
    "newsgroups.data[1]"
   ]
  },
  {
   "cell_type": "code",
   "execution_count": 83,
   "metadata": {},
   "outputs": [
    {
     "data": {
      "text/plain": [
       "{'acknowledged': True, 'index': 'newsgroup', 'shards_acknowledged': True}"
      ]
     },
     "execution_count": 83,
     "metadata": {},
     "output_type": "execute_result"
    }
   ],
   "source": [
    "mappings = {\n",
    "    'mappings':{\n",
    "        'document':{\n",
    "            'properties':{\n",
    "                'doc_id': {'type': 'text', 'index': 'false'},\n",
    "                'doc_text': {'type': 'text', 'analyzer': 'english'},\n",
    "                'doc_label':{'type': 'text', 'analyzer': 'english'}\n",
    "            }\n",
    "        }\n",
    "    }\n",
    "}\n",
    "client.indices.create(index=\"newsgroup\", body=mappings)"
   ]
  },
  {
   "cell_type": "code",
   "execution_count": 87,
   "metadata": {},
   "outputs": [
    {
     "data": {
      "text/plain": [
       "18846"
      ]
     },
     "execution_count": 87,
     "metadata": {},
     "output_type": "execute_result"
    }
   ],
   "source": [
    "len(newsgroups.target)"
   ]
  },
  {
   "cell_type": "code",
   "execution_count": 88,
   "metadata": {},
   "outputs": [],
   "source": [
    "docs = []\n",
    "id = 1\n",
    "for index in range(len(newsgroups.data)):\n",
    "    docs.append({\n",
    "        'doc_id' : str(id),\n",
    "        'doc_text': newsgroups.data[index],\n",
    "        'doc_label': newsgroups.target_names[newsgroups.target[index]]\n",
    "    })\n",
    "    id += 1"
   ]
  },
  {
   "cell_type": "code",
   "execution_count": 90,
   "metadata": {},
   "outputs": [],
   "source": [
    "for doc in docs:\n",
    "    client.index(index='newsgroup', doc_type='document', body=doc)"
   ]
  },
  {
   "cell_type": "code",
   "execution_count": 98,
   "metadata": {},
   "outputs": [],
   "source": [
    "from os import listdir\n",
    "from os.path import isfile, join\n",
    "mypath = \"DUC2001\"\n",
    "onlyfiles = [f for f in listdir(mypath) if isfile(join(mypath, f))]"
   ]
  },
  {
   "cell_type": "code",
   "execution_count": 99,
   "metadata": {},
   "outputs": [],
   "source": [
    "from os import listdir\n",
    "from os.path import isfile, join\n",
    "mypath = \"DUC2001/Summaries\"\n",
    "summaryfiles = [f for f in listdir(mypath) if isfile(join(mypath, f))]"
   ]
  },
  {
   "cell_type": "code",
   "execution_count": 100,
   "metadata": {},
   "outputs": [
    {
     "name": "stdout",
     "output_type": "stream",
     "text": [
      "la070190-0073.txt\n",
      ".ds_store.txt\n",
      "ap830325-0143.txt\n",
      "la071589-0076.txt\n",
      "notes.txt.txt\n",
      "fbis4-4674.txt\n",
      "annotations.txt.txt\n",
      "ap880928-0054.txt\n",
      "ap891116-0191.txt\n",
      "ft934-10911.txt\n"
     ]
    }
   ],
   "source": [
    "for file in onlyfiles:\n",
    "    summary_file = file.lower() + \".txt\"\n",
    "    if not summary_file in summaryfiles:\n",
    "        print(summary_file)"
   ]
  },
  {
   "cell_type": "code",
   "execution_count": 101,
   "metadata": {},
   "outputs": [],
   "source": [
    "onlyfiles.remove(\".DS_Store\")"
   ]
  },
  {
   "cell_type": "code",
   "execution_count": 102,
   "metadata": {},
   "outputs": [],
   "source": [
    "onlyfiles.remove(\"LA070190-0073\")"
   ]
  },
  {
   "cell_type": "code",
   "execution_count": 103,
   "metadata": {},
   "outputs": [],
   "source": [
    "onlyfiles.remove(\"AP830325-0143\")"
   ]
  },
  {
   "cell_type": "code",
   "execution_count": 104,
   "metadata": {},
   "outputs": [],
   "source": [
    "onlyfiles.remove(\"LA071589-0076\")"
   ]
  },
  {
   "cell_type": "code",
   "execution_count": 105,
   "metadata": {},
   "outputs": [],
   "source": [
    "onlyfiles.remove(\"notes.txt\")"
   ]
  },
  {
   "cell_type": "code",
   "execution_count": 106,
   "metadata": {},
   "outputs": [],
   "source": [
    "onlyfiles.remove(\"FBIS4-4674\")"
   ]
  },
  {
   "cell_type": "code",
   "execution_count": 107,
   "metadata": {},
   "outputs": [],
   "source": [
    "onlyfiles.remove(\"annotations.txt\")"
   ]
  },
  {
   "cell_type": "code",
   "execution_count": 108,
   "metadata": {},
   "outputs": [],
   "source": [
    "onlyfiles.remove(\"AP880928-0054\")"
   ]
  },
  {
   "cell_type": "code",
   "execution_count": 109,
   "metadata": {},
   "outputs": [],
   "source": [
    "onlyfiles.remove(\"AP891116-0191\")"
   ]
  },
  {
   "cell_type": "code",
   "execution_count": 110,
   "metadata": {},
   "outputs": [],
   "source": [
    "onlyfiles.remove(\"FT934-10911\")"
   ]
  },
  {
   "cell_type": "code",
   "execution_count": 111,
   "metadata": {},
   "outputs": [],
   "source": [
    "docs = []\n",
    "for file in onlyfiles:\n",
    "    next_file = \"DUC2001/\" + file\n",
    "    f = open(next_file, 'r')\n",
    "    summary_file = \"DUC2001/Summaries/\" + file.lower() + \".txt\"\n",
    "    f_summary = open(summary_file, 'r')\n",
    "    doc_summary = f_summary.read()\n",
    "    doc = f.read()\n",
    "    start = doc.find('<TEXT>') + 10\n",
    "    end = doc.find('</TEXT>')\n",
    "    text = re.sub('\\n','',doc[start:end])\n",
    "    start = doc.find('<DOCNO>') + 8\n",
    "    end = doc.find('</DOCNO>')\n",
    "    id_ = doc[start:end]\n",
    "    docs.append({\n",
    "        'doc_id' : id_,\n",
    "        'doc_text': text,\n",
    "        'gold_summary': doc_summary\n",
    "    })\n",
    "    id += 1  \n"
   ]
  },
  {
   "cell_type": "code",
   "execution_count": 112,
   "metadata": {},
   "outputs": [
    {
     "data": {
      "text/plain": [
       "\"A colossal tunneling machineis boring beneath the English Channel from the white cliffs ofDover, pursuing a dream born in Napoleon's time that is coming trueat last.   Another is digging from the French coast in what the tunnelbuilders call the largest civil engineering project now under wayin the world.   The 31-mile tunnel, 24 miles of it underwater, will cut theLondon-Paris journey from six hours to three, as fast as ascheduled airline.   It will enable freight to travel on one train instead of beingshifted to trucks for a cross-channel ferry trip subject to weatherand shipping strikes.   Tunneling speed at the Dover end is less than 15 feet an hourand the machine boring from the geologically more complex Frenchend moves even slower, which is why the tunnel will not open until1993.   For continental Europeans, accustomed to long-distance railtravel, the tunnel is but a small spur on a vast network stretchingto Moscow and beyond.   For the British, the change wrought by what many call the``chunnel'' will be enormous. Some wonder whether Britain will beready for it.   ``People still question whether the tunnel will be complete inMay 1993 and that's ridiculous,'' says Kathy Watson, co-author of abook on the project. ``They're still arguing about whether it willintroduce rabies into this country, or let in terrorists.''   ``They discuss it in terms of their being an island race, with achannel that has kept out invaders,'' she said in an interview.   State-owned British Rail will not commit itself to building ahigh-speed link from London to the tunnel in time to make thethree-hour journey a reality in 1993. It intends instead to improveexisting tracks.   Eurotunnel, the Anglo-French consortium that will own thetunnel, is urging British Rail to speed its plans. Critics say thetangle of commuter lines in southeast England, so obsolete thattrains can be delayed by a sudden fall of autumn leaves, will delaytunnel traffic.   The consortium forecasts 16.5 million passengers in 1993 but therailroad says that figure will not be reached before 1998.   Arriving channel trains will terminate at Waterloo station insouth London, at a large customs and immigration terminal. Criticssay this will waste time and Britain should follow the continentalpractice of handling such matters on the train during the journey.   British stations, bridges and tunnels are not built for the tallloads commonly carried across the channel. That means many loadswill have to be repacked or transferred to trucks unless thefacilities are rebuilt.   The grandiose project has been on and off the drawing boards formore than 200 years.   Napoleon wanted to bore a tunnel in 1802 but Britain's generalswarned him off. Digging began in 1882 but was halted by Britishfears of French invasion through the tunnel.   Britain's entry into the European Economic Community engendereda spirit of unity and the digging began again in 1974, but twoyears later a new British government shelved the project.   With trade barriers among the 12 EEC countries set to fall in1992, Colin Kirkland, technical director of Eurotunnel's on theBritish side, says the tunnel will be completed this time.   He says the entire cost of 5.2 billion pound ($8.8 billion)project is privately financed and cancellation would cost thegovernments ``enormous penalties'' to shareholders.   Also, the governments signed a tunnel treaty in February 1986and both would have to agree to cancellation.   ``There's no way that politicians will cancel this project,''Kirkland said in an interview. ``It's quite difficult to get onegovernment to agree. To get two is bloody nigh impossible.''   Money's power to move the tunnel forward was demonstrated inAugust, when drilling fell behind schedule.   Eurotunnel ordered a management shakeup and threatenedTrans-Manche Link, the consortium of 10 British and Frenchengineering companies building the tunnel, with penalties of $25million if the diggers did not pass the three-mile mark by Nov. 1.   From a a rate of 380 feet a week, the pace quickly acceleratedand recently achieved a week's record of 480 feet, Kirkland said.The timetable calls for 650 feet a week and Kirkland is confidentof reaching it.   The tunnel, 80-130 feet below the seabed, was 2 miles into thechannel from this end Oct. 9, the most recent measurementavailable, and the French had progressed about 1,300 feet. Diggingbegan last December.   At its peak, the project will employ about 11,000 workers and 11tunneling machines.   Construction of the two one-way train tunnels begins inDecember. A smaller service tunnel running between them now isbeing dug.   Tunneling machines simultaneously dig, remove rock and put uptunnel walls. With a laser beam to keep the driver on course, the700-foot-long behemoth creeps along, pressing curved slabs ofScottish granite and pulverized ash into the newly exposed tunnelwall.   In an emergency like flooding, the cylindrical head of themachine can expand to become a cork, blocking off the water andspraying concrete into the cavity to seal the leak. Once theall-clear is given, the two-story-high rotating blade with itstungsten teeth resumes chewing ahead.   Because the machines are too large to be removed, when thedigging is complete they will be rolled aside and walled in.   The tunnels are to be completed in 1991, then the railroadtracks will be laid. Eurotunnel will run shuttle trains once everythree minutes at peak times between terminals near Folkestone andCalais, and British Rail and the Frenh state railroad will operatetrains from London and Paris.   Cars and trucks will drive onto the shuttle trains and be ableto stay in their vehicles or stroll about during the 35-minutetunnel passage.\""
      ]
     },
     "execution_count": 112,
     "metadata": {},
     "output_type": "execute_result"
    }
   ],
   "source": [
    "docs[1]['doc_text']"
   ]
  },
  {
   "cell_type": "code",
   "execution_count": 125,
   "metadata": {},
   "outputs": [
    {
     "data": {
      "text/plain": [
       "{'acknowledged': True, 'index': 'duc', 'shards_acknowledged': True}"
      ]
     },
     "execution_count": 125,
     "metadata": {},
     "output_type": "execute_result"
    }
   ],
   "source": [
    "client.indices.delete(index='duc', ignore=[400, 404])\n",
    "mappings_duc = {\n",
    "    'mappings':{\n",
    "        'document':{\n",
    "            'properties':{\n",
    "                'doc_id': {'type': 'text', 'index': 'false'},\n",
    "                'doc_text': {'type': 'text', 'analyzer': 'english'},\n",
    "                'gold_summary':{'type': 'text', 'analyzer': 'english'}\n",
    "            }\n",
    "        }\n",
    "    }\n",
    "}\n",
    "client.indices.create(index=\"duc\", body=mappings_duc)"
   ]
  },
  {
   "cell_type": "code",
   "execution_count": 126,
   "metadata": {},
   "outputs": [],
   "source": [
    "for doc in docs:\n",
    "    client.index(index='duc', doc_type='document', body=doc)"
   ]
  },
  {
   "cell_type": "code",
   "execution_count": null,
   "metadata": {},
   "outputs": [],
   "source": []
  }
 ],
 "metadata": {
  "kernelspec": {
   "display_name": "Python 3",
   "language": "python",
   "name": "python3"
  },
  "language_info": {
   "codemirror_mode": {
    "name": "ipython",
    "version": 3
   },
   "file_extension": ".py",
   "mimetype": "text/x-python",
   "name": "python",
   "nbconvert_exporter": "python",
   "pygments_lexer": "ipython3",
   "version": "3.6.4"
  }
 },
 "nbformat": 4,
 "nbformat_minor": 2
}
