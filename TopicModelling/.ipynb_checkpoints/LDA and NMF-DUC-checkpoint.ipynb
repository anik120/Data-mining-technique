{
 "cells": [
  {
   "cell_type": "code",
   "execution_count": 186,
   "metadata": {},
   "outputs": [],
   "source": [
    "from __future__ import print_function\n",
    "from time import time\n",
    "import numpy as np\n",
    "from sklearn.feature_extraction.text import TfidfVectorizer, CountVectorizer\n",
    "from sklearn.decomposition import NMF, LatentDirichletAllocation\n",
    "from sklearn.datasets import fetch_20newsgroups"
   ]
  },
  {
   "cell_type": "code",
   "execution_count": 187,
   "metadata": {},
   "outputs": [],
   "source": [
    "# n_samples = 2000\n",
    "# n_features = 1000\n",
    "n_components = 20\n",
    "n_top_words = 20"
   ]
  },
  {
   "cell_type": "code",
   "execution_count": 188,
   "metadata": {},
   "outputs": [],
   "source": [
    "from elasticsearch import Elasticsearch\n",
    "es = Elasticsearch(['http://localhost:9200/'])\n",
    "doc = {\n",
    "        'size' : 301,\n",
    "        'query': {\n",
    "            'match_all' : {}\n",
    "       }\n",
    "   }\n",
    "res = es.search(index='duc', doc_type='document', body=doc,scroll='1m')"
   ]
  },
  {
   "cell_type": "code",
   "execution_count": 189,
   "metadata": {},
   "outputs": [],
   "source": [
    "docs = []\n",
    "for item in res['hits']['hits']:\n",
    "    docs.append(item['_source']['doc_text'])"
   ]
  },
  {
   "cell_type": "code",
   "execution_count": 190,
   "metadata": {},
   "outputs": [],
   "source": [
    "topic_words_dict = {}"
   ]
  },
  {
   "cell_type": "code",
   "execution_count": 191,
   "metadata": {},
   "outputs": [],
   "source": [
    "def print_top_words(model, feature_names, n_top_words):\n",
    "    for topic_idx, topic in enumerate(model.components_):\n",
    "        message = \"Topic #%d: \" % topic_idx\n",
    "        message += \" \".join([feature_names[i]\n",
    "                             for i in topic.argsort()[:-n_top_words - 1:-1]])\n",
    "        topic_words_dict[topic_idx] = message.split()[2:] \n",
    "        print(message)\n",
    "    print()"
   ]
  },
  {
   "cell_type": "code",
   "execution_count": 192,
   "metadata": {},
   "outputs": [
    {
     "name": "stdout",
     "output_type": "stream",
     "text": [
      "Extracting tf-idf features for NMF...\n",
      "done in 0.388s.\n"
     ]
    }
   ],
   "source": [
    "print(\"Extracting tf-idf features for NMF...\")\n",
    "tfidf_vectorizer = TfidfVectorizer(max_df=0.95, min_df=2,\n",
    "                                   stop_words='english')\n",
    "t0 = time()\n",
    "tfidf = tfidf_vectorizer.fit_transform(docs)\n",
    "print(\"done in %0.3fs.\" % (time() - t0))\n"
   ]
  },
  {
   "cell_type": "code",
   "execution_count": 193,
   "metadata": {},
   "outputs": [
    {
     "name": "stdout",
     "output_type": "stream",
     "text": [
      "Extracting tf features for LDA...\n",
      "done in 0.334s.\n",
      "\n"
     ]
    }
   ],
   "source": [
    "print(\"Extracting tf features for LDA...\")\n",
    "tf_vectorizer = CountVectorizer(max_df=0.95, min_df=2,\n",
    "                                stop_words='english')\n",
    "t0 = time()\n",
    "tf = tf_vectorizer.fit_transform(docs)\n",
    "print(\"done in %0.3fs.\" % (time() - t0))\n",
    "print()"
   ]
  },
  {
   "cell_type": "code",
   "execution_count": 194,
   "metadata": {},
   "outputs": [
    {
     "name": "stdout",
     "output_type": "stream",
     "text": [
      "Fitting the NMF model with tf-idf features\n",
      "done in 0.921s.\n"
     ]
    }
   ],
   "source": [
    "print(\"Fitting the NMF model with tf-idf features\")\n",
    "t0 = time()\n",
    "nmf = NMF(n_components=n_components, random_state=1,\n",
    "          alpha=.1, l1_ratio=.5).fit(tfidf)\n",
    "print(\"done in %0.3fs.\" % (time() - t0))"
   ]
  },
  {
   "cell_type": "code",
   "execution_count": 195,
   "metadata": {},
   "outputs": [
    {
     "name": "stdout",
     "output_type": "stream",
     "text": [
      "\n",
      "Topics in NMF model (Frobenius norm):\n",
      "Topic #0: police gates officers said brutality commission department angeles los chief officer mr city report force mayor black abortion complaints incident\n",
      "Topic #1: exxon oil spill valdez cleanup said tanker alaska ship sound guard coast reef prince miles developments million crude hazelwood vessel\n",
      "Topic #2: hurricane hurricanes sheets storm mph storms atlantic winds said florida tropical gilbert gray season hugo center forecasters miami damage louisiana\n",
      "Topic #3: jackson dickey beach police officer long car window nbc incident tape said hawthorne glass hannon attorney duty brutality investigation hill\n",
      "Topic #4: diamond beers diamonds cso botswana market carats cartel rough sales mines south world dealers cent organization year africa production african\n",
      "Topic #5: eclipse sun moon solar hawaii baja total mexico viewing eclipses shadow astronomers clouds watch partial said visible box earth 11\n",
      "Topic #6: johnson lewis ben francis steroids said drugs athletes gold sprinter canadian canada olympics astaphan world olympic medal steroid drug carl\n",
      "Topic #7: forest fires said acres firefighters park yellowstone national service burned blaze monday rain california officials air drought contained crash crews\n",
      "Topic #8: slovenia yugoslavia croatia slovene slovenian serbia yugoslav republic republics federal army independence serbian slovenes ljubljana said war foreign kucan relations\n",
      "Topic #9: census aliens illegal seats house bureau count states senate counting immigration said rep counted constitution residents congress california population 1990\n",
      "Topic #10: taylor pneumonia miss hospital doctors actress said st hospitalized bacterial john sam condition chen elizabeth health addiction viral weeks publicist\n",
      "Topic #11: welfare reform governors benefits recipients work families programs clinton president plan poverty spending cent training children programmes congress democrats dependency\n",
      "Topic #12: nafta mr pact trade clinton congressman mexico agreement opposition anti pro president perot congressmen vote house jobs labour administration free\n",
      "Topic #13: zoo establishing estimating estimates estimated estimate estate establishment established escalating establish est essentially essential especially escaped etat ethic ethiopia ethiopian\n",
      "Topic #14: tunnel french british eurotunnel rail project link channel britain billion speed france london europe workers paris chunnel trains machines tunnels\n",
      "Topic #15: shining path guzman guerrillas lima fujimori peru war morote peace garcia abimael said rebels coca raids feliciano party movement peasants\n",
      "Topic #16: thomas court clarence black nomination rights supreme senate law mr judge yale affirmative danforth civil sen nominee box education discrimination\n",
      "Topic #17: tuberculosis tb aids cases disease infected health said hiv percent infection cdc patients bacteria virus risk new whites people immune\n",
      "Topic #18: term limits incumbents voters limit state congress legislative limitations legislators office election legislature limitation house terms termlimits elected members party\n",
      "Topic #19: bank debt poverty countries world mr loans preston lending conable says developing development reduction billion new cent treasury debts economic\n",
      "\n"
     ]
    }
   ],
   "source": [
    "print(\"\\nTopics in NMF model (Frobenius norm):\")\n",
    "tfidf_feature_names = tfidf_vectorizer.get_feature_names()\n",
    "print_top_words(nmf, tfidf_feature_names, n_top_words)"
   ]
  },
  {
   "cell_type": "code",
   "execution_count": 196,
   "metadata": {},
   "outputs": [
    {
     "name": "stdout",
     "output_type": "stream",
     "text": [
      "Fitting the NMF model (generalized Kullback-Leibler divergence) with tf-idf features\n",
      "done in 6.607s.\n"
     ]
    }
   ],
   "source": [
    "print(\"Fitting the NMF model (generalized Kullback-Leibler divergence) with \"\n",
    "      \"tf-idf features\")\n",
    "t0 = time()\n",
    "nmf = NMF(n_components=n_components, random_state=1,\n",
    "          beta_loss='kullback-leibler', solver='mu', max_iter=1000, alpha=.1,\n",
    "          l1_ratio=.5).fit(tfidf)\n",
    "print(\"done in %0.3fs.\" % (time() - t0))"
   ]
  },
  {
   "cell_type": "code",
   "execution_count": 197,
   "metadata": {},
   "outputs": [
    {
     "name": "stdout",
     "output_type": "stream",
     "text": [
      "\n",
      "Topics in NMF model (generalized Kullback-Leibler divergence):\n",
      "Topic #0: said year years time people states new say used state national long just says house president federal government week make\n",
      "Topic #1: exxon oil spill guard valdez environmental tex gallons gain happen 24 face disaster handling governor prince gov fishing hesaid headed\n",
      "Topic #2: storm winds hurricane season recorded pressure tropical said people storms damage weather florida west june south destroyed early texas mph\n",
      "Topic #3: medical really said say management problem monday dr person did disease hospital city physician months called according like researchers mobile\n",
      "Topic #4: known sheep similar jakob disease year south revealed ministry scientists market organisation opening price production medical spongiform owned transmission soviet\n",
      "Topic #5: sun eclipses dark event nature shadow watch electricity directly danger eclipse solar cut earth coast total time didn big moon\n",
      "Topic #6: world olympics steroid rome run olympic seconds medal puts race record positive won taking second old seoul women time sprinter\n",
      "Topic #7: police los leave city officers operations saying told political military looking criminal brutality officials arrested roughed security called scene punishment\n",
      "Topic #8: plan minister european slovenia presidency yugoslavia parliament new past normal published serbian partners community republic proposal slovenes post slovene slovenian\n",
      "Topic #9: 000 acres forest 100 national areas area hot wildfires look fires drought officials west 40 1980 residents brush summer california\n",
      "Topic #10: said miss taylor pneumonia secondary elizabeth st year treatment saying patricia treated doctors statement therapy hospitalized near trial health persistent\n",
      "Topic #11: far income state families benefits administration services health helped means labor headquarters policy household largest reform work low better weeksbefore\n",
      "Topic #12: president agreement opposition jobs resolution nafta free november proponents leaders letter mexico trade restrain mr released democrats members support expected\n",
      "Topic #13: spokesman flight said officials air people training pilot crashed plane crash 10 aircraft aboard jet military named force killing flying\n",
      "Topic #14: mile boring mrs authorities complete billion said area old building channel england reached calais paris arguing aside 90 near men\n",
      "Topic #15: path party new people practice areas leader members shining economic leftist peasants officials painted movement organized order legal pay note\n",
      "Topic #16: monday guide chairman today world thomas lives people night forget mother son missouri hearings instantly judge american nomination howard justice\n",
      "Topic #17: million tuberculosis live population showing new november number lot lee lungs poor infection living morethan problem infected patients percent risk\n",
      "Topic #18: congress constitutional constitution power state rights subject ofthe men laws people composition public control gun type term chances castillo voters\n",
      "Topic #19: related world relief poverty billion went 1988 emphasis years agency drought level says journal especially fiscal older doubt monitors ensure\n",
      "\n"
     ]
    }
   ],
   "source": [
    "print(\"\\nTopics in NMF model (generalized Kullback-Leibler divergence):\")\n",
    "tfidf_feature_names = tfidf_vectorizer.get_feature_names()\n",
    "print_top_words(nmf, tfidf_feature_names, n_top_words)\n"
   ]
  },
  {
   "cell_type": "code",
   "execution_count": 198,
   "metadata": {},
   "outputs": [
    {
     "name": "stdout",
     "output_type": "stream",
     "text": [
      "Fitting LDA models with tf features...\n",
      "done in 1.942s.\n"
     ]
    }
   ],
   "source": [
    "print(\"Fitting LDA models with tf features...\")\n",
    "lda = LatentDirichletAllocation(n_components=n_components, max_iter=5,\n",
    "                                learning_method='online',\n",
    "                                learning_offset=50.,\n",
    "                                random_state=0)\n",
    "t0 = time()\n",
    "lda.fit(tf)\n",
    "print(\"done in %0.3fs.\" % (time() - t0))"
   ]
  },
  {
   "cell_type": "code",
   "execution_count": 199,
   "metadata": {},
   "outputs": [
    {
     "name": "stdout",
     "output_type": "stream",
     "text": [
      "\n",
      "Topics in LDA model:\n",
      "Topic #0: said eclipse people slovenia thomas time sun hawaii cjd mexico dr mr country don look called years police disease moon\n",
      "Topic #1: diabetes hispanics insulin disease hispanic exercise americans diabetics diet latinos said type stern diabetic obesity defronzo foods body latino antonio\n",
      "Topic #2: diamond beers mr nafta diamonds trade says market year cent world slovenia south said countries cartel sales million clinton prices\n",
      "Topic #3: tunnel french british link rail eurotunnel britain project london billion channel speed europe workers chunnel trains paris machines tunnels england\n",
      "Topic #4: kelley mr says said thomas years year officers 000 time police don long group commission new eclipse run gandhi government\n",
      "Topic #5: said police tuberculosis people year limits years state term tb infected smith oil states officials aids health cases new began\n",
      "Topic #6: said gun thomas nra right disease people states census government bse arms amendment court senate militia guns mr illegal year\n",
      "Topic #7: johnson said bank world francis air ben steroids tuberculosis countries debt lewis crash tb aircraft drugs canadian drug poverty crashed\n",
      "Topic #8: said year people marathon police chile mr earthquake cellrule new country city tablecell slovenia time california race miles sun world\n",
      "Topic #9: said year people new police mr years 000 state national time officials says hurricane exxon million oil forest city world\n",
      "Topic #10: said 000 plane new french washington officials crash air near ranch mr diamonds dollars carats bureau high terrorist lebanon nafta\n",
      "Topic #11: welfare reform benefits governors recipients families programs poverty mothers dependency spending achieve mrclinton clinton afdc payments programmes work investment stamps\n",
      "Topic #12: cellrule tablecell cvj chj rowrule tablerow jackson said dickey police beach officer exxon car oil long 000 incident nbc valdez\n",
      "Topic #13: welfare year said marathon new race shining reform runners house 000 tb course eclipse women chief guzman 1987 says time\n",
      "Topic #14: said race aliens marathon county cellrule residents city census 000 runners roman rescue run supervisors martial tablecell war executed debate\n",
      "Topic #15: said oil mr year state 000 spill officials earthquake hurricanes people says just president area national gray american miles say\n",
      "Topic #16: said oil 000 exxon diabetes people valdez miles new years spill race path government fires percent time tuesday diamonds year\n",
      "Topic #17: said term says house party yellowstone people world mr new park year officials congress fires service limits botswana countries president\n",
      "Topic #18: crash plane assassination engine al said abu united pizarro flight nidal dc party candidate lebanon security faa colosio group presidential\n",
      "Topic #19: said people city new went congress years cjd gandhi police 000 black says like cases time prime disease going sheep\n",
      "\n"
     ]
    }
   ],
   "source": [
    "print(\"\\nTopics in LDA model:\")\n",
    "tf_feature_names = tf_vectorizer.get_feature_names()\n",
    "tf_feature_probs = tf_vectorizer.max_features\n",
    "print_top_words(lda, tf_feature_names, n_top_words)"
   ]
  },
  {
   "cell_type": "code",
   "execution_count": 200,
   "metadata": {},
   "outputs": [
    {
     "name": "stdout",
     "output_type": "stream",
     "text": [
      "Fitting LDA models with tf features, n_samples=2000 and n_features=1000...\n",
      "done in 2.027s.\n"
     ]
    }
   ],
   "source": [
    "print(\"Fitting LDA models with tf features, \"\n",
    "      \"n_samples=%d and n_features=%d...\"\n",
    "      % (n_samples, n_features))\n",
    "lda = LatentDirichletAllocation(n_components=n_components, max_iter=5,\n",
    "                                learning_method='online',\n",
    "                                learning_offset=50.,\n",
    "                                random_state=0)\n",
    "t0 = time()\n",
    "lda.fit_transform(tf)\n",
    "print(\"done in %0.3fs.\" % (time() - t0))"
   ]
  },
  {
   "cell_type": "code",
   "execution_count": 201,
   "metadata": {},
   "outputs": [
    {
     "name": "stdout",
     "output_type": "stream",
     "text": [
      "\n",
      "Topics in LDA model:\n",
      "Topic #0: said eclipse people slovenia thomas time sun hawaii cjd mexico dr mr country don look called years police disease moon\n",
      "Topic #1: diabetes hispanics insulin disease hispanic exercise americans diabetics diet latinos said type stern diabetic obesity defronzo foods body latino antonio\n",
      "Topic #2: diamond beers mr nafta diamonds trade says market year cent world slovenia south said countries cartel sales million clinton prices\n",
      "Topic #3: tunnel french british link rail eurotunnel britain project london billion channel speed europe workers chunnel trains paris machines tunnels england\n",
      "Topic #4: kelley mr says said thomas years year officers 000 time police don long group commission new eclipse run gandhi government\n",
      "Topic #5: said police tuberculosis people year limits years state term tb infected smith oil states officials aids health cases new began\n",
      "Topic #6: said gun thomas nra right disease people states census government bse arms amendment court senate militia guns mr illegal year\n",
      "Topic #7: johnson said bank world francis air ben steroids tuberculosis countries debt lewis crash tb aircraft drugs canadian drug poverty crashed\n",
      "Topic #8: said year people marathon police chile mr earthquake cellrule new country city tablecell slovenia time california race miles sun world\n",
      "Topic #9: said year people new police mr years 000 state national time officials says hurricane exxon million oil forest city world\n",
      "Topic #10: said 000 plane new french washington officials crash air near ranch mr diamonds dollars carats bureau high terrorist lebanon nafta\n",
      "Topic #11: welfare reform benefits governors recipients families programs poverty mothers dependency spending achieve mrclinton clinton afdc payments programmes work investment stamps\n",
      "Topic #12: cellrule tablecell cvj chj rowrule tablerow jackson said dickey police beach officer exxon car oil long 000 incident nbc valdez\n",
      "Topic #13: welfare year said marathon new race shining reform runners house 000 tb course eclipse women chief guzman 1987 says time\n",
      "Topic #14: said race aliens marathon county cellrule residents city census 000 runners roman rescue run supervisors martial tablecell war executed debate\n",
      "Topic #15: said oil mr year state 000 spill officials earthquake hurricanes people says just president area national gray american miles say\n",
      "Topic #16: said oil 000 exxon diabetes people valdez miles new years spill race path government fires percent time tuesday diamonds year\n",
      "Topic #17: said term says house party yellowstone people world mr new park year officials congress fires service limits botswana countries president\n",
      "Topic #18: crash plane assassination engine al said abu united pizarro flight nidal dc party candidate lebanon security faa colosio group presidential\n",
      "Topic #19: said people city new went congress years cjd gandhi police 000 black says like cases time prime disease going sheep\n",
      "\n"
     ]
    }
   ],
   "source": [
    "print(\"\\nTopics in LDA model:\")\n",
    "tf_feature_names = tf_vectorizer.get_feature_names()\n",
    "print_top_words(lda, tf_feature_names, n_top_words)"
   ]
  },
  {
   "cell_type": "code",
   "execution_count": 202,
   "metadata": {},
   "outputs": [],
   "source": [
    "topic_words_prob_dict = {}"
   ]
  },
  {
   "cell_type": "code",
   "execution_count": 203,
   "metadata": {},
   "outputs": [
    {
     "name": "stdout",
     "output_type": "stream",
     "text": [
      "Topic  0 :  [0.000343046958355125, 0.0003254275529519686, 0.0002756204765663789, 0.00021754527289751937, 0.00020176833389127128, 0.0001998111456607119, 0.00019361192674071962, 0.00018929062853456893, 0.00018250627397268067, 0.00018209939240124064, 0.00018047652523178143, 0.00017999769031914217, 0.00017928945102783106, 0.00017795748008589255, 0.00017771191003832063, 0.00017627653191918608, 0.00017620247230822547, 0.000175381246216393, 0.00017346527776745054, 0.0001695101790274912]\n",
      "Topic  1 :  [0.00836159629890997, 0.0015007988966807848, 0.0014950829975262888, 0.0013577947153469076, 0.0011287100714473045, 0.0010896431473966194, 0.001078518287404718, 0.001031721501528272, 0.0009306624458398775, 0.0009167341770571309, 0.0009139208337136654, 0.0008321894308103967, 0.0007651834748246153, 0.0007346065789631983, 0.0007157864136470873, 0.0006828943484439319, 0.0005986922034353947, 0.0005588433235855838, 0.0005494343105417956, 0.0005475969551040049]\n",
      "Topic  2 :  [0.008866013177845605, 0.008677198101826527, 0.008357448842852127, 0.007448465605800126, 0.006445373937797555, 0.0037255347492075445, 0.003615204801887742, 0.0035824309123937722, 0.0034550459446444307, 0.00321607081726897, 0.003144712231481321, 0.0028045593969554623, 0.0026636299376193405, 0.0025887097105121333, 0.002453533410074161, 0.0024445894685178643, 0.0024332284091758494, 0.0022652526926242715, 0.0019263582326880745, 0.0019084261985425606]\n",
      "Topic  3 :  [0.006172819185467576, 0.0030157725833828354, 0.0026073368769814263, 0.0022485855872427267, 0.002169936059181949, 0.002100534607455456, 0.0019543474435430165, 0.0019232805913937568, 0.0017925647971442425, 0.0015696798445578258, 0.0015084865607258252, 0.001316080904114297, 0.0012866131338919052, 0.0012266835257206535, 0.0011903402112494695, 0.00112675938945724, 0.0010250642538745872, 0.0009947202575436654, 0.0009797422059403143, 0.0009239309556452367]\n",
      "Topic  4 :  [0.0013818464453693557, 0.0006980381802477876, 0.0004108271666288688, 0.00038931605581872964, 0.0002930544076700825, 0.0002768100879908795, 0.000268902336703303, 0.000265806269343226, 0.00026290830044622347, 0.0002579421201577935, 0.000255713228497528, 0.00025233577548082605, 0.000247024411539521, 0.00024009653546845552, 0.00023946924615521003, 0.00023612212270701172, 0.00023534357256271374, 0.0002326612466131521, 0.00022770940083249942, 0.00022275009054585615]\n",
      "Topic  5 :  [0.00038267781565584386, 0.00025114186990041177, 0.00024739972868577685, 0.00024409777217099192, 0.00024240718227040532, 0.0002296333335242069, 0.00022642542071360172, 0.00022095476969237796, 0.00020209128042365934, 0.00020047307769380818, 0.00019233144492359695, 0.000192096541267374, 0.00019030633481418148, 0.0001899746583904424, 0.0001892020657693878, 0.00018710718979254198, 0.00018574472286623798, 0.00018491213213753528, 0.00018480703784453845, 0.00018271701041111757]\n",
      "Topic  6 :  [0.006555007444273177, 0.006507920473444117, 0.0059406480307019355, 0.005215436088713605, 0.004868326238254946, 0.004436641929544794, 0.003916874027891457, 0.003662907359004155, 0.0032835703422752893, 0.0032285222231548064, 0.003127905110532201, 0.003070913703579756, 0.0030378564550897153, 0.0029481512839723634, 0.0029412733110734685, 0.0029007487612186427, 0.002862526020258267, 0.002831062159306975, 0.0028171489973788616, 0.002769297246536274]\n",
      "Topic  7 :  [0.01273488315382052, 0.011252191582488419, 0.009780199522444315, 0.00807585371477469, 0.005606939532017343, 0.004674286211074295, 0.004269268108454643, 0.004201030988441453, 0.003564175856556704, 0.0033582258875457256, 0.0033512096083125726, 0.0032320503055629896, 0.003187161997356839, 0.003127770437854968, 0.002553963035579695, 0.0025110795569382818, 0.002365715680904054, 0.0023265049518104287, 0.002287630917419708, 0.002213275887159315]\n",
      "Topic  8 :  [0.00048561415484511724, 0.00029978968216321216, 0.00026774894083538475, 0.0002671854878998066, 0.00026588915658260886, 0.00025190364441963093, 0.00022792573334366452, 0.00022515360035523484, 0.00022479945070225313, 0.0002226457351715472, 0.00022260719726715136, 0.00022251791618993228, 0.00021155646582153578, 0.00020639167801329646, 0.0001984532913293546, 0.00019566212338968758, 0.00019207825975951477, 0.00019065179621146713, 0.0001893903371919404, 0.00018815160898227973]\n",
      "Topic  9 :  [0.018870721102976804, 0.0053616646238320385, 0.004130395976314144, 0.0034863006849861597, 0.003451302194618413, 0.0034012950648956695, 0.00328685177957486, 0.0032101854011845595, 0.0031117279005020383, 0.0030197555772439218, 0.0029703584163506486, 0.0028098456480092206, 0.0027950671372970076, 0.0027212197627321942, 0.0023386789915594746, 0.002331305710946774, 0.0022983983224987153, 0.002217882479940379, 0.002167388023680497, 0.0021595457389758633]\n",
      "Topic  10 :  [0.0003835523743782585, 0.00032930211011649, 0.00023515479598082547, 0.000217757645443485, 0.0002117826911640739, 0.0002102850552437407, 0.00020555268707564232, 0.0001966995237035448, 0.00019272742156399347, 0.00019007018170897702, 0.00018769775997781832, 0.00018694098903352895, 0.00018463739743069876, 0.00018397504268690535, 0.00018203276506424345, 0.00018109441152617346, 0.0001803570146221057, 0.0001783744823611626, 0.0001782353178564685, 0.00017772680401448478]\n",
      "Topic  11 :  [0.012274410902062998, 0.0034451086265243126, 0.0017425631396759404, 0.001412082487558968, 0.0013736860295083249, 0.001141622542935766, 0.0009559820923000092, 0.0006446427457970877, 0.0006148334976223578, 0.0005666206435182805, 0.0005645976912687953, 0.0005248981500358632, 0.0005163418230178281, 0.0004843776240052344, 0.0004732005177774062, 0.0004451597212844426, 0.00044417970612040716, 0.00042941018814609617, 0.00042667645915362074, 0.0004222042535005526]\n",
      "Topic  12 :  [0.028203380456531445, 0.021839293371323246, 0.010610730324592397, 0.010489792341077931, 0.006383056707473924, 0.005869544959326412, 0.005227093419077102, 0.0032899298885973017, 0.00303915028546136, 0.0025846978902886947, 0.0021005714465345735, 0.0016553583676742118, 0.0015446391848650356, 0.0015435202296609195, 0.0013442290366972843, 0.0012998844248372594, 0.001266007580944192, 0.0010493189238177402, 0.0009473239014117472, 0.0009111170629388333]\n",
      "Topic  13 :  [0.0004305937763756801, 0.0002855675278325974, 0.0002502455774527675, 0.00024886391899217364, 0.0002467561667424632, 0.00023946798214712151, 0.0002165617257934221, 0.0002072446819223956, 0.00020417370504407983, 0.0002040106621759414, 0.00020221709014421482, 0.00019876696240506955, 0.00019323612362387812, 0.00019249821288259142, 0.0001901004888195375, 0.00018866075094047107, 0.00018833123831596, 0.00018831135184604604, 0.00018766363160963452, 0.00018702449571998255]\n",
      "Topic  14 :  [0.00019655565123833307, 0.00018292481764269807, 0.0001799579906034454, 0.00017810725945982772, 0.00017043078349963687, 0.00016958935830056307, 0.00016457061381179586, 0.00016066113658238233, 0.00015928441511281165, 0.00015814141882884895, 0.0001572040048415836, 0.00015458855392326472, 0.00015432585892370776, 0.0001534022212767953, 0.00015132316979916464, 0.00015124563097944225, 0.0001511274157553275, 0.00015050337672431666, 0.0001502358457315407, 0.0001499927371741798]\n",
      "Topic  15 :  [0.0007884919806288209, 0.00042099498604055205, 0.00036600312306197993, 0.0003484390820374025, 0.0003074015374952188, 0.00029822802063670447, 0.0002965245944024537, 0.0002885531772540187, 0.0002829951980241179, 0.00028182526122333515, 0.0002742093052222113, 0.00026936055775080307, 0.00025870584236331774, 0.00025811877387088344, 0.00025281613357979897, 0.00024871693333124563, 0.0002445429574638508, 0.00023546685841926694, 0.00022955628664942594, 0.00022728554732283368]\n",
      "Topic  16 :  [0.0007516802996678812, 0.0004200698606113733, 0.000362722933022894, 0.00029049600029039434, 0.0002883565713671862, 0.0002866129401319066, 0.0002612006798545165, 0.0002529389574026843, 0.00022279693496197935, 0.00021755928592362184, 0.00021141250112102048, 0.00021057057938961686, 0.00020672287058829447, 0.0001997182650194412, 0.00019933318215104053, 0.00019792732250232525, 0.00019543034370690798, 0.00019476386313270884, 0.00019424328180775327, 0.0001919163692056418]\n",
      "Topic  17 :  [0.00039951505586831944, 0.000388641001286997, 0.00027356659645553274, 0.00026160074263157805, 0.00025581899065282474, 0.00024975720978135323, 0.0002469360184461144, 0.0002449377832790998, 0.00024297128640128772, 0.00024280178775953353, 0.0002344127898718158, 0.0002321302965646213, 0.00023186970402853767, 0.00022169110769810406, 0.00021862323509014812, 0.0002177850632628799, 0.00021652593994396507, 0.00020499186451184234, 0.00020488476693343845, 0.00020403915886136088]\n",
      "Topic  18 :  [0.004484185492522997, 0.0036039152562783792, 0.0034560459351534786, 0.0033923644230682876, 0.003325579720583395, 0.0028963408717239767, 0.0020117433786732124, 0.0016683624763931166, 0.0015610601819684652, 0.001496274846018801, 0.0014366426363658295, 0.0013308613356584722, 0.001314903926930984, 0.0012999423778897628, 0.0012851888476225306, 0.0011854736976495116, 0.0010849560014303129, 0.001052073181187836, 0.0010361083622474061, 0.0010252825239576765]\n"
     ]
    },
    {
     "name": "stdout",
     "output_type": "stream",
     "text": [
      "Topic  19 :  [0.0006408540111230835, 0.00033097140882778315, 0.0002736414863018299, 0.00024034606118580415, 0.00022151343807136743, 0.00021372145260415687, 0.00021008241551017157, 0.00020990480661902671, 0.00020355126814880563, 0.00020099053802078484, 0.0001986324406134467, 0.00019818021566487065, 0.00019742522412968455, 0.00019563907200897666, 0.00019432225656746302, 0.00019182538026660923, 0.00019127357522845148, 0.00018934307203361347, 0.00018753232519812962, 0.00018717352336281902]\n"
     ]
    }
   ],
   "source": [
    "lda.components_ /= lda.components_.sum(axis=1)[:, np.newaxis]\n",
    "for i in range(20):\n",
    "    topic_words_prob_dict[i] = sorted(lda.components_[i])[::-1][:20] \n",
    "    print(\"Topic \",i,\": \", sorted(lda.components_[i])[::-1][:20])"
   ]
  },
  {
   "cell_type": "code",
   "execution_count": 204,
   "metadata": {},
   "outputs": [],
   "source": [
    "import nltk\n",
    "import enchant\n",
    "d = enchant.Dict(\"en_US\")\n",
    "def predict_doc_topic(doc, topic_words_dict, topic_words_prob_dict):\n",
    "    text = nltk.tokenize.word_tokenize(doc)\n",
    "    for word in text:\n",
    "        if not d.check(word):\n",
    "            if len(word) < 4:\n",
    "                text.remove(word)\n",
    "    temp_dist = nltk.FreqDist(text)\n",
    "    word_dist = {}\n",
    "    for word in temp_dist:\n",
    "        word_dist[word] = temp_dist[word]\n",
    "    for word in temp_dist:\n",
    "        if word_dist[word] > 10:\n",
    "            word_dist.pop(word)\n",
    "    doc_topics_prob = {}\n",
    "    for topic in topic_words_dict:\n",
    "        score = 0\n",
    "        word_list = topic_words_dict[topic]\n",
    "        prob_list = topic_words_prob_dict[topic]\n",
    "        for index in range(len(word_list)):\n",
    "            if word_list[index] in word_dist:\n",
    "                score += word_dist[word_list[index]] * prob_list[index]\n",
    "        doc_topics_prob[topic] = score\n",
    "    return doc_topics_prob"
   ]
  },
  {
   "cell_type": "code",
   "execution_count": 205,
   "metadata": {},
   "outputs": [],
   "source": [
    "import operator\n",
    "docs = []\n",
    "for item in res['hits']['hits']:\n",
    "    id_ = item['_source']['doc_id']\n",
    "    doc = item['_source']['doc_text']\n",
    "    gold_summary = item['_source']['gold_summary']\n",
    "    kl_summary = item['_source']['kl_summary']\n",
    "    doc_topics = predict_doc_topic(doc, topic_words_dict, topic_words_prob_dict)\n",
    "    sorted_dict = sorted(doc_topics.items(), key=operator.itemgetter(1))\n",
    "    doc_topics = sorted_dict[::-1][:5]\n",
    "    docs.append({\n",
    "        'doc_id' : id_,\n",
    "        'doc_text': doc,\n",
    "        'gold_summary': gold_summary,\n",
    "        'kl_summary' : kl_summary,\n",
    "        'doc_topics' : doc_topics\n",
    "    })"
   ]
  },
  {
   "cell_type": "code",
   "execution_count": 206,
   "metadata": {},
   "outputs": [
    {
     "data": {
      "text/plain": [
       "{'doc_id': 'LA120290-0163 ',\n",
       " 'doc_text': 'Cheers erupted Saturday on both sides of the English Channel when British and French workers digging the Channel Tunnel finally met after knocking out a passage large enough to walk through and shake hands. </P><P>\"Today, for the first time, men can cross the channel underground,\" French President Francois Mitterrand said. \"What a brilliant sign of the vitality of our two countries.\" </P><P>The breakthrough came in a 6-foot-tall service tunnel that will be used to maintain two rail tunnels still being bored. It marked a symbolic milestone in Europe\\'s biggest engineering project. </P><P>Using jackhammers, Graham Fagg, 42, of Dover, England, and Philippe Cozette, 37, of Calais, France, knocked out the last foot of chalk to link up the British and French sides of the tunnel -- which has been dubbed a \"chunnel.\" </P><P>The smiling pair then clasped hands, embraced and exchanged their national flags. Workers in overalls looked on and applauded. </P><P>\"God save the queen!\" cried French workers, uncorking Champagne bottles. </P><P>\"Vive la France!\" came the reply from the British side. </P><P>Saturday\\'s handshake came three years to the day after tunneling began at Sangatte, near Calais, and in Folkestone, England. </P><P>The $16.7-billion Channel Tunnel will make it possible to travel from Paris to London by high-speed train in 3 1/2 hours when it opens in June, 1993. </P><P>The train trip through just the tunnel is expected to take 35 minutes, compared with 90 minutes to cross the channel by ferry. </P><P>Fares for the undersea crossing have not been set. But experts say the charges may be at least double the 1986 projections of $46 per person in a car and $19 per train passenger. </P><P>The tunnelers have spent the last month drilling through the last 100 yards of chalk with giant American-built boring machines, trying to align the two halves. </P><P>The British tunnelers actually linked up with the French on Oct. 29, when workers drilled a 2-inch hole through the chalk in a service tunnel. </P><P>The connection ended Britain\\'s island separation from continental Europe for the first time since the last Ice Age about 8,000 years ago. </P><P>Fagg and Cozette were chosen by draw from among the 3,000 workers to represent their countries in Saturday\\'s meeting. After widening the passage from the size of a peephole to a window, they laid down their tools and shook hands. </P><P>\"Bonjour,\" boomed Fagg. </P><P>\"Hello,\" Cozette said, chuckling. </P><P>Michel Delebarre and Malcolm Rifkind, the French and British transportation ministers, rode in small service trains down the maintenance tunnel to witness the handshake. </P><P>Fagg and Rifkind rode on to Sangatte, while Cozette and Delebarre headed for Folkestone to join in celebrations that lasted into the night. </P><P>Nine workers have been killed during the project. The cost has climbed from an initial estimate of $9.4 billion to $16.7 billion. </P><P>The tunnel is viewed positively in France, where it is expected to revive economically depressed northern areas. But Britain has shown worry over the loss of its historic moat from the Continent. </P><P>Many Britons fear drug traffickers or terrorists will invade their island via the tunnel. </P>',\n",
       " 'doc_topics': [(3, 0.06805612963084648),\n",
       "  (9, 0.05327561817504854),\n",
       "  (7, 0.03154733989187872),\n",
       "  (6, 0.013110014888546354),\n",
       "  (2, 0.010084486241172589)],\n",
       " 'gold_summary': 'Abstract:\\nOn Saturday, British and French workers digging the Channel tunnel finally met after knocking out a passage large enough to walk through. French President Mitterand said, \"What a brilliant sign of the vitality of our two countries\". The $16.7-billion Channel tunnel will make it possible to travel from Paris to London by high-speed train in 3-1/2 hours, including 35 minutes through the tunnel. It takes 90 minutes by ferry. The tunnel is viewed positively in France where it is expected to revive economically depressed northern areas. Many Britons fear drug traffickers will invade their island via the tunnel.\\nIntroduction:\\nCheers erupted Saturday on both sides of the English Channel when British and \\nFrench workers digging the Channel Tunnel finally met after knocking out a \\npassage large enough to walk through and shake hands. \\n\\n\"Today, for the first time, men can cross the channel underground,\" French \\nPresident Francois Mitterrand said. \"What a brilliant sign of the vitality of \\nour two countries.\" \\n\\nThe breakthrough came in a 6-foot-tall service tunnel that will be used to \\nmaintain two rail tunnels still being bored. It marked a symbolic milestone in \\nEurope\\'s biggest engineering project. \\n\\nUsing jackhammers, Graham Fagg, 42, of Dover, England, and Philippe Cozette, \\n37, of Calais, France, knocked out the last foot of chalk to link up the \\nBritish and French sides of the tunnel -- which has been dubbed a \"chunnel.\" \\n\\nThe smiling pair then clasped hands, embraced and exchanged their national \\nflags. Workers in overalls looked on and applauded. \\n\\n\"God save the queen!\" cried French workers, uncorking Champagne bottles. \\n\\n\"Vive la France!\" came the reply from the British side. \\n\\nSaturday\\'s handshake came three years to the day after tunneling began at \\nSangatte, near Calais, and in Folkestone, England. \\n\\nThe $16.7-billion Channel Tunnel will make it possible to travel from Paris to \\nLondon by high-speed train in 3 1/2 hours when it opens in June, 1993. \\n\\nThe train trip through just the tunnel is expected to take 35 minutes, compared \\nwith 90 minutes to cross the channel by ferry. \\n\\nFares for the undersea crossing have not been set. But experts say the charges \\nmay be at least double the 1986 projections of $46 per person in a car and $19 \\nper train passenger. \\n\\nThe tunnelers have spent the last month drilling through the last 100 yards of \\nchalk with giant American-built boring machines, trying to align the two \\nhalves. \\n\\nThe British tunnelers actually linked up with the French on Oct. 29, when \\nworkers drilled a 2-inch hole through the chalk in a service tunnel. \\n\\nThe connection ended Britain\\'s island separation from continental Europe for \\nthe first time since the last Ice Age about 8,000 years ago. \\n\\nFagg and Cozette were chosen by draw from among the 3,000 workers to represent \\ntheir countries in Saturday\\'s meeting. After widening the passage from the size \\nof a peephole to a window, they laid down their tools and shook hands. \\n\\n\"Bonjour,\" boomed Fagg. \\n\\n\"Hello,\" Cozette said, chuckling. \\n\\nMichel Delebarre and Malcolm Rifkind, the French and British transportation \\nministers, rode in small service trains down the maintenance tunnel to witness \\nthe handshake. \\n\\nFagg and Rifkind rode on to Sangatte, while Cozette and Delebarre headed for \\nFolkestone to join in celebrations that lasted into the night. \\n\\nNine workers have been killed during the project. The cost has climbed from an \\ninitial estimate of $9.4 billion to $16.7 billion. \\n\\nThe tunnel is viewed positively in France, where it is expected to revive \\neconomically depressed northern areas. But Britain has shown worry over the \\nloss of its historic moat from the Continent. \\n\\nMany Britons fear drug traffickers or terrorists will invade their island via \\nthe tunnel. \\n\\n\\x1a',\n",
       " 'kl_summary': ' </P><P>Fagg and Cozette were chosen by draw from among the 3,000 workers to represent their countries in Saturday\\'s meeting.  The cost has climbed from an initial estimate of $9.  It marked a symbolic milestone in Europe\\'s biggest engineering project. 7 billion.  Workers in overalls looked on and applauded. 4 billion to $16. 7-billion Channel Tunnel will make it possible to travel from Paris to London by high-speed train in 3 1/2 hours when it opens in June, 1993.  29, when workers drilled a 2-inch hole through the chalk in a service tunnel.  </P>.  </P><P>\"Today, for the first time, men can cross the channel underground,\" French President Francois Mitterrand said. '}"
      ]
     },
     "execution_count": 206,
     "metadata": {},
     "output_type": "execute_result"
    }
   ],
   "source": [
    "docs[1]"
   ]
  },
  {
   "cell_type": "code",
   "execution_count": 208,
   "metadata": {},
   "outputs": [
    {
     "data": {
      "text/plain": [
       "{'doc_id': 'T923-5089',\n",
       " 'doc_text': \"RE are growing signs that Hurricane Andrew, unwelcome as it was for thedevastated inhabitants of Florida and Louisiana, may in the end do no harmto the re-election campaign of President George Bush.After a faltering and heavily criticised initial response to the disaster,both the president and his administration seem finally to be gettingassistance to those rendered homeless and to businesses and farms that havebeen destroyed.In the process, Mr Bush has been able to call on the power of incumbency,the one asset denied his presidential rival, Mr Bill Clinton, who is tovisit Florida today. This was brought home graphically by the president'sannouncement that Homestead Air Force base in Florida - a major localemployer virtually destroyed by Andrew  - would be rebuilt.His poignant and brief address to the nation on Tuesday night, committingthe government to pay the emergency relief costs and calling on Americans tocontribute to the American Red Cross, also struck the right sort of note. Itwas only his tenth such televised speech from the Oval Office, itself atestimony to the gravity of the situation.As if to underline the political benefit to the president, a Harris pollconducted from August 26 to September 1 yesterday showed Mr Bush with 45 percent support - behind Mr Clinton by just five points - reflecting a closerrace than other recent surveys.With Mr Bush constantly in the headlines, Mr Clinton has been left on thesidelines, able to do little more than offer sympathy and sotto vocecriticism of the president's initial stumbling.First responses were certainly found wanting, specifically in theperformance of the Federal Emergency Management Agency (FEMA) set up byPresident Carter in 1979 to handle disasters such as Andrew. FEMA has, underthe Republicans, become the ultimate patronage backwater, with, according toone congressional study, ten times as many political appointees as thetypical arm of government.Its current head, Mr Wallace Stickney, is a New Hampshire politicalassociate of Mr John Sununu, the former state governor and White House chiefof staff. Contrary to its brief, but confirming a prescient recent report bya House committee that Mr Stickney was 'uninterested in substantiveprogrammes', FEMA was caught completely unprepared by Andrew, resulting inunseemly disputes between state and federal authorities over who did what inbringing relief.However, the arrival in Florida of the military and the assignment ofspecial responsibilities to Mr Andrew Card, the young and telegenictransportation secretary, is making a difference. Also increasingly evidentis the hand of Mr James Baker, now ensconced at the White House.It was Mr Baker who reshuffled the president's campaign schedule to makeroom for visits to the devastated areas and who pushed for a bigger role forthe previously obscure Mr Card. It is also Mr Baker who is making the mostof presidential powers to dispense largesse.Yesterday, Mr Bush flew to South Dakota to tell farmers of an expansion ofthe subsidised grains exports programme and then to the General Dynamicsfactory in Texas to announce an F-16 fighter sale to Taiwan. Both are, ofcourse, intensely political actions. Both involve federal subsidies, as doesrelief for Andrew, that run counter to Mr Bush's commitment to reduce thebudget deficit. But both may be presented by a president as being in thenational interest because they guarantee employment, which is what theelection is largely about.US insurers expect to pay out around Dollars 500m in claims as a result ofdamage caused by Hurricane Andrew in Louisiana, the American InsuranceServices Group said yesterday, Nikki Tait reports. This takes the insurancebill from the storm to around Dollars 8bn, making it the costliest disasterto hit the US.\",\n",
       " 'doc_topics': [(9, 0.02509417690398088),\n",
       "  (6, 0.01465185590568293),\n",
       "  (7, 0.011252191582488419),\n",
       "  (18, 0.00494690591963933),\n",
       "  (12, 0.0032899298885973017)],\n",
       " 'gold_summary': \"Abstract:\\nHurricane Andrew, the costliest disaster to hit the US, has helped the re- election campaign of President Bush. After a faltering initial response, the administration is getting assistance to the hurricane's victims. Earlier the Federal Emergency Management Agency, the ultimate Republican patronage backwater, was caught completely unprepared by Andrew. Now the Transportation Secretary and Chief of Staff have jumped in to fill the breach. The president has dispatched troops to Florida, promised to rebuild Homestead Air Force Base, and has committed the government to pay the emergency relief costs. The latest polls show Bush closing the gap in his campaign for re-election.\\nIntroduction:\\nTHERE are growing signs that Hurricane Andrew, unwelcome as it was for the\\ndevastated inhabitants of Florida and Louisiana, may in the end do no harm\\nto the re-election campaign of President George Bush.\\nAfter a faltering and heavily criticised initial response to the disaster,\\nboth the president and his administration seem finally to be getting\\nassistance to those rendered homeless and to businesses and farms that have\\nbeen destroyed.\\nIn the process, Mr Bush has been able to call on the power of incumbency,\\nthe one asset denied his presidential rival, Mr Bill Clinton, who is to\\nvisit Florida today. This was brought home graphically by the president's\\nannouncement that Homestead Air Force base in Florida - a major local\\nemployer virtually destroyed by Andrew  - would be rebuilt.\\nHis poignant and brief address to the nation on Tuesday night, committing\\nthe government to pay the emergency relief costs and calling on Americans to\\ncontribute to the American Red Cross, also struck the right sort of note. It\\nwas only his tenth such televised speech from the Oval Office, itself a\\ntestimony to the gravity of the situation.\\nAs if to underline the political benefit to the president, a Harris poll\\nconducted from August 26 to September 1 yesterday showed Mr Bush with 45 per\\ncent support - behind Mr Clinton by just five points - reflecting a closer\\nrace than other recent surveys.\\nWith Mr Bush constantly in the headlines, Mr Clinton has been left on the\\nsidelines, able to do little more than offer sympathy and sotto voce\\ncriticism of the president's initial stumbling.\\nFirst responses were certainly found wanting, specifically in the\\nperformance of the Federal Emergency Management Agency (FEMA) set up by\\nPresident Carter in 1979 to handle disasters such as Andrew. FEMA has, under\\nthe Republicans, become the ultimate patronage backwater, with, according to\\none congressional study, ten times as many political appointees as the\\ntypical arm of government.\\nIts current head, Mr Wallace Stickney, is a New Hampshire political\\nassociate of Mr John Sununu, the former state governor and White House chief\\nof staff. Contrary to its brief, but confirming a prescient recent report by\\na House committee that Mr Stickney was 'uninterested in substantive\\nprogrammes', FEMA was caught completely unprepared by Andrew, resulting in\\nunseemly disputes between state and federal authorities over who did what in\\nbringing relief.\\nHowever, the arrival in Florida of the military and the assignment of\\nspecial responsibilities to Mr Andrew Card, the young and telegenic\\ntransportation secretary, is making a difference. Also increasingly evident\\nis the hand of Mr James Baker, now ensconced at the White House.\\nIt was Mr Baker who reshuffled the president's campaign schedule to make\\nroom for visits to the devastated areas and who pushed for a bigger role for\\nthe previously obscure Mr Card. It is also Mr Baker who is making the most\\nof presidential powers to dispense largesse.\\nYesterday, Mr Bush flew to South Dakota to tell farmers of an expansion of\\nthe subsidised grains exports programme and then to the General Dynamics\\nfactory in Texas to announce an F-16 fighter sale to Taiwan. Both are, of\\ncourse, intensely political actions. Both involve federal subsidies, as does\\nrelief for Andrew, that run counter to Mr Bush's commitment to reduce the\\nbudget deficit. But both may be presented by a president as being in the\\nnational interest because they guarantee employment, which is what the\\nelection is largely about.\\nUS insurers expect to pay out around Dollars 500m in claims as a result of\\ndamage caused by Hurricane Andrew in Louisiana, the American Insurance\\nServices Group said yesterday, Nikki Tait reports. This takes the insurance\\nbill from the storm to around Dollars 8bn, making it the costliest disaster\\nto hit the US.\\n\\x1a\",\n",
       " 'kl_summary': \"However, the arrival in Florida of the military and the assignment ofspecial responsibilities to Mr Andrew Card, the young and telegenictransportation secretary, is making a difference.  But both may be presented by a president as being in thenational interest because they guarantee employment, which is what theelection is largely about.  Both are, ofcourse, intensely political actions. .  This was brought home graphically by the president'sannouncement that Homestead Air Force base in Florida - a major localemployer virtually destroyed by Andrew  - would be rebuilt.  FEMA has, underthe Republicans, become the ultimate patronage backwater, with, according toone congressional study, ten times as many political appointees as thetypical arm of government.  Also increasingly evidentis the hand of Mr James Baker, now ensconced at the White House. RE are growing signs that Hurricane Andrew, unwelcome as it was for thedevastated inhabitants of Florida and Louisiana, may in the end do no harmto the re-election campaign of President George Bush.  Itwas only his tenth such televised speech from the Oval Office, itself atestimony to the gravity of the situation.  It is also Mr Baker who is making the mostof presidential powers to dispense largesse. \"}"
      ]
     },
     "execution_count": 208,
     "metadata": {},
     "output_type": "execute_result"
    }
   ],
   "source": [
    "docs[4]"
   ]
  },
  {
   "cell_type": "code",
   "execution_count": 166,
   "metadata": {},
   "outputs": [
    {
     "data": {
      "text/plain": [
       "{'acknowledged': True,\n",
       " 'index': 'duc_topic_modelling',\n",
       " 'shards_acknowledged': True}"
      ]
     },
     "execution_count": 166,
     "metadata": {},
     "output_type": "execute_result"
    }
   ],
   "source": [
    "from elasticsearch import Elasticsearch\n",
    "es = Elasticsearch('localhost')\n",
    "es.indices.delete(index='duc_topic_modelling', ignore=[400, 404])\n",
    "mappings_duc = {\n",
    "    'mappings':{\n",
    "        'words':{\n",
    "            'properties':{\n",
    "                'topic_id': {'type': 'text', 'index': 'false'},\n",
    "                'top_words': {'type': 'text', 'analyzer': 'english'},\n",
    "                'word_probs':{'type': 'text', 'analyzer': 'english'}\n",
    "            }\n",
    "        }\n",
    "    }\n",
    "}\n",
    "client.indices.create(index=\"duc_topic_modelling\", body=mappings_duc)"
   ]
  },
  {
   "cell_type": "code",
   "execution_count": 209,
   "metadata": {},
   "outputs": [],
   "source": [
    "topics = []\n",
    "for i in range(len(topic_words_dict)):\n",
    "    topics.append({\n",
    "        'topic_id' : str(i),\n",
    "        'top_words': topic_words_dict[i],\n",
    "        'word_probs': topic_words_prob_dict[i]\n",
    "    })"
   ]
  },
  {
   "cell_type": "code",
   "execution_count": 210,
   "metadata": {},
   "outputs": [],
   "source": [
    "for topic in topics:\n",
    "    client.index(index='duc_topic_modelling', doc_type='words', body=topic)"
   ]
  },
  {
   "cell_type": "code",
   "execution_count": 211,
   "metadata": {},
   "outputs": [
    {
     "data": {
      "text/plain": [
       "{'acknowledged': True, 'index': 'duc', 'shards_acknowledged': True}"
      ]
     },
     "execution_count": 211,
     "metadata": {},
     "output_type": "execute_result"
    }
   ],
   "source": [
    "es.indices.delete(index='duc', ignore=[400, 404])\n",
    "mappings_duc = {\n",
    "    'mappings':{\n",
    "        'document':{\n",
    "            'properties':{\n",
    "                'doc_id': {'type': 'text', 'index': 'false'},\n",
    "                'doc_text': {'type': 'text', 'analyzer': 'english'},\n",
    "                'gold_summary':{'type': 'text', 'analyzer': 'english'},\n",
    "                'kl_summary':{'type': 'text', 'analyzer': 'english'},\n",
    "                'doc_topics' : {'type': 'text', 'analyzer': 'english'}\n",
    "            }\n",
    "        }\n",
    "    }\n",
    "}\n",
    "es.indices.create(index=\"duc\", body=mappings_duc)"
   ]
  },
  {
   "cell_type": "code",
   "execution_count": 212,
   "metadata": {},
   "outputs": [],
   "source": [
    "for doc in docs:\n",
    "    es.index(index='duc', doc_type='document', body=doc)"
   ]
  },
  {
   "cell_type": "code",
   "execution_count": null,
   "metadata": {},
   "outputs": [],
   "source": []
  }
 ],
 "metadata": {
  "kernelspec": {
   "display_name": "Python 3",
   "language": "python",
   "name": "python3"
  },
  "language_info": {
   "codemirror_mode": {
    "name": "ipython",
    "version": 3
   },
   "file_extension": ".py",
   "mimetype": "text/x-python",
   "name": "python",
   "nbconvert_exporter": "python",
   "pygments_lexer": "ipython3",
   "version": "3.6.4"
  }
 },
 "nbformat": 4,
 "nbformat_minor": 2
}
