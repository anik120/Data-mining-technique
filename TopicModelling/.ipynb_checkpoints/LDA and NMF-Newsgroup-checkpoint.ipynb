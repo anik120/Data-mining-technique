{
 "cells": [
  {
   "cell_type": "code",
   "execution_count": 1,
   "metadata": {},
   "outputs": [],
   "source": [
    "from __future__ import print_function\n",
    "from time import time\n",
    "import numpy as np\n",
    "from sklearn.feature_extraction.text import TfidfVectorizer, CountVectorizer\n",
    "from sklearn.decomposition import NMF, LatentDirichletAllocation\n",
    "from sklearn.datasets import fetch_20newsgroups"
   ]
  },
  {
   "cell_type": "code",
   "execution_count": 78,
   "metadata": {},
   "outputs": [],
   "source": [
    "n_samples = 2000\n",
    "n_features = 1000\n",
    "n_components = 20\n",
    "n_top_words = 20"
   ]
  },
  {
   "cell_type": "code",
   "execution_count": 79,
   "metadata": {},
   "outputs": [],
   "source": [
    "from elasticsearch import Elasticsearch\n",
    "es = Elasticsearch(['http://localhost:9200/'])\n",
    "doc = {\n",
    "        'size' : 301,\n",
    "        'query': {\n",
    "            'match_all' : {}\n",
    "       }\n",
    "   }\n",
    "res = es.search(index='duc', doc_type='document', body=doc,scroll='1m')"
   ]
  },
  {
   "cell_type": "code",
   "execution_count": 80,
   "metadata": {},
   "outputs": [],
   "source": [
    "docs = []\n",
    "for item in res['hits']['hits']:\n",
    "    docs.append(item['_source']['doc_text'])"
   ]
  },
  {
   "cell_type": "code",
   "execution_count": 81,
   "metadata": {},
   "outputs": [],
   "source": [
    "topic_words_dict = {}"
   ]
  },
  {
   "cell_type": "code",
   "execution_count": 82,
   "metadata": {},
   "outputs": [],
   "source": [
    "def print_top_words(model, feature_names, n_top_words):\n",
    "    for topic_idx, topic in enumerate(model.components_):\n",
    "        message = \"Topic #%d: \" % topic_idx\n",
    "        message += \" \".join([feature_names[i]\n",
    "                             for i in topic.argsort()[:-n_top_words - 1:-1]])\n",
    "        topic_words_dict[topic_idx] = message.split()[2:] \n",
    "        print(message)\n",
    "    print()"
   ]
  },
  {
   "cell_type": "code",
   "execution_count": 83,
   "metadata": {},
   "outputs": [
    {
     "name": "stdout",
     "output_type": "stream",
     "text": [
      "Extracting tf-idf features for NMF...\n",
      "done in 0.448s.\n"
     ]
    }
   ],
   "source": [
    "print(\"Extracting tf-idf features for NMF...\")\n",
    "tfidf_vectorizer = TfidfVectorizer(max_df=0.95, min_df=2,\n",
    "                                   stop_words='english')\n",
    "t0 = time()\n",
    "tfidf = tfidf_vectorizer.fit_transform(docs)\n",
    "print(\"done in %0.3fs.\" % (time() - t0))\n"
   ]
  },
  {
   "cell_type": "code",
   "execution_count": 84,
   "metadata": {},
   "outputs": [
    {
     "name": "stdout",
     "output_type": "stream",
     "text": [
      "Extracting tf features for LDA...\n",
      "done in 0.348s.\n",
      "\n"
     ]
    }
   ],
   "source": [
    "print(\"Extracting tf features for LDA...\")\n",
    "tf_vectorizer = CountVectorizer(max_df=0.95, min_df=2,\n",
    "                                stop_words='english')\n",
    "t0 = time()\n",
    "tf = tf_vectorizer.fit_transform(docs)\n",
    "print(\"done in %0.3fs.\" % (time() - t0))\n",
    "print()"
   ]
  },
  {
   "cell_type": "code",
   "execution_count": 85,
   "metadata": {},
   "outputs": [
    {
     "name": "stdout",
     "output_type": "stream",
     "text": [
      "Fitting the NMF model with tf-idf features\n",
      "done in 0.878s.\n"
     ]
    }
   ],
   "source": [
    "print(\"Fitting the NMF model with tf-idf features\")\n",
    "t0 = time()\n",
    "nmf = NMF(n_components=n_components, random_state=1,\n",
    "          alpha=.1, l1_ratio=.5).fit(tfidf)\n",
    "print(\"done in %0.3fs.\" % (time() - t0))"
   ]
  },
  {
   "cell_type": "code",
   "execution_count": 86,
   "metadata": {},
   "outputs": [
    {
     "name": "stdout",
     "output_type": "stream",
     "text": [
      "\n",
      "Topics in NMF model (Frobenius norm):\n",
      "Topic #0: police gates officers said brutality commission department angeles los chief officer mr city report force mayor black abortion complaints incident\n",
      "Topic #1: exxon oil spill valdez cleanup said tanker alaska ship sound guard coast reef prince miles developments million crude hazelwood vessel\n",
      "Topic #2: hurricane hurricanes sheets storm mph storms atlantic winds said florida tropical gilbert gray season hugo center forecasters miami damage louisiana\n",
      "Topic #3: jackson dickey beach police officer long car window nbc incident tape said hawthorne glass hannon attorney duty brutality investigation hill\n",
      "Topic #4: diamond beers diamonds cso botswana market carats cartel rough sales mines south world dealers cent organization year africa production african\n",
      "Topic #5: eclipse sun moon solar hawaii baja total mexico viewing eclipses shadow astronomers clouds watch partial said visible box earth 11\n",
      "Topic #6: johnson lewis ben francis steroids said drugs athletes gold sprinter canadian canada olympics astaphan world olympic medal steroid drug carl\n",
      "Topic #7: forest fires said acres firefighters park yellowstone national service burned blaze monday rain california officials air drought contained crash crews\n",
      "Topic #8: slovenia yugoslavia croatia slovene slovenian serbia yugoslav republic republics federal army independence serbian slovenes ljubljana said war foreign kucan relations\n",
      "Topic #9: census aliens illegal seats house bureau count states senate counting immigration said rep counted constitution residents congress california population 1990\n",
      "Topic #10: taylor pneumonia miss hospital doctors actress said st hospitalized bacterial john sam condition chen elizabeth health addiction viral weeks publicist\n",
      "Topic #11: welfare reform governors benefits recipients work families programs clinton president plan poverty spending cent training children programmes congress democrats dependency\n",
      "Topic #12: nafta mr pact trade clinton congressman mexico agreement opposition anti pro president perot congressmen vote house jobs labour administration free\n",
      "Topic #13: zoo establishing estimating estimates estimated estimate estate establishment established escalating establish est essentially essential especially escaped etat ethic ethiopia ethiopian\n",
      "Topic #14: tunnel french british eurotunnel rail project link channel britain billion speed france london europe workers paris chunnel trains machines tunnels\n",
      "Topic #15: shining path guzman guerrillas lima fujimori peru war morote peace garcia abimael said rebels coca raids feliciano party movement peasants\n",
      "Topic #16: thomas court clarence black nomination rights supreme senate law mr judge yale affirmative danforth civil sen nominee box education discrimination\n",
      "Topic #17: tuberculosis tb aids cases disease infected health said hiv percent infection cdc patients bacteria virus risk new whites people immune\n",
      "Topic #18: term limits incumbents voters limit state congress legislative limitations legislators office election legislature limitation house terms termlimits elected members party\n",
      "Topic #19: bank debt poverty countries world mr loans preston lending conable says developing development reduction billion new cent treasury debts economic\n",
      "\n"
     ]
    }
   ],
   "source": [
    "print(\"\\nTopics in NMF model (Frobenius norm):\")\n",
    "tfidf_feature_names = tfidf_vectorizer.get_feature_names()\n",
    "print_top_words(nmf, tfidf_feature_names, n_top_words)"
   ]
  },
  {
   "cell_type": "code",
   "execution_count": 87,
   "metadata": {},
   "outputs": [
    {
     "name": "stdout",
     "output_type": "stream",
     "text": [
      "Fitting the NMF model (generalized Kullback-Leibler divergence) with tf-idf features\n",
      "done in 4.956s.\n"
     ]
    }
   ],
   "source": [
    "print(\"Fitting the NMF model (generalized Kullback-Leibler divergence) with \"\n",
    "      \"tf-idf features\")\n",
    "t0 = time()\n",
    "nmf = NMF(n_components=n_components, random_state=1,\n",
    "          beta_loss='kullback-leibler', solver='mu', max_iter=1000, alpha=.1,\n",
    "          l1_ratio=.5).fit(tfidf)\n",
    "print(\"done in %0.3fs.\" % (time() - t0))"
   ]
  },
  {
   "cell_type": "code",
   "execution_count": 88,
   "metadata": {},
   "outputs": [
    {
     "name": "stdout",
     "output_type": "stream",
     "text": [
      "\n",
      "Topics in NMF model (generalized Kullback-Leibler divergence):\n",
      "Topic #0: said year state years say people time new states government president 000 going 10 million used officials just make like\n",
      "Topic #1: million oil march sea valdez gallons spill mid lost exxon water related spokesman nation officials southwest manager north prince major\n",
      "Topic #2: storm winds atlantic storms mph south national weather killed hurricane mexico hurricanes texas west season tropical 33 hit africa center\n",
      "Topic #3: said dr national medical officer months los like times late ago michael saw start began hospital old chief turn according\n",
      "Topic #4: open mines government marketing year london feed production food market germany imposed cattle group months world indicates mr sheep controls\n",
      "Topic #5: sun ofthe saturday mexico solar punch pressed time plastic coast watch event total years observers moon oversee path surface recorded\n",
      "Topic #6: world race 100 athletes 17 1984 79 run hours 83 coach runs seconds gold called won runner seoul time olympic\n",
      "Topic #7: police southern told deputy provided city office los said complaints ordered lynn report face violence called officers day car 15\n",
      "Topic #8: foreign defense presidency new government drive obtain federal declared slovenian kucan greatest hard yugoslavia information serbia slovenia european friday guards\n",
      "Topic #9: forest national officials north fires just summer service 1980 far homes wildfires look spokesman lightning acres areas states west burned\n",
      "Topic #10: miss marina pneumonia hospital taylor year elizabeth said st doctors near remain 58 ms lee statement sleeping intensive settlement health\n",
      "Topic #11: case children forthe jersey offered economy considering opportunity brutal devoted continue higher manage benefits real families state disputes job clinton\n",
      "Topic #12: ross jobs ofthe members agreement nafta president making trade force opposed mexico opposition mr oppressed north campaign support majority jail\n",
      "Topic #13: spokesman said ministry aircraft force south crashed flight cause military died tactical training crash complex plane jet today time officials\n",
      "Topic #14: england europe engineering miles paris hell came area travel tunnel near european english north france mile speed describedthe communications eurotunnel\n",
      "Topic #15: economic talks thousands circumstances government highlands captured party guerrillas group committee kill formed defeated according economy far sweep shining spread\n",
      "Topic #16: people equal world highly hiring night parts today school opportunities thomas new handwritten trying senate father discrimination conservative effective missouri\n",
      "Topic #17: new hiv million people patients percent lee infected long tuberculosis nation 25 soon risk 15 tb noted infection showing estimated\n",
      "Topic #18: constitutional spending militia power rights amendment control term limits just special constitution washington endorsed bear handguns right members public elected\n",
      "Topic #19: world says quake loans reading loan billion latin 1988 half disaster relief poverty shock commitment went like scale reinforced santa\n",
      "\n"
     ]
    }
   ],
   "source": [
    "print(\"\\nTopics in NMF model (generalized Kullback-Leibler divergence):\")\n",
    "tfidf_feature_names = tfidf_vectorizer.get_feature_names()\n",
    "print_top_words(nmf, tfidf_feature_names, n_top_words)\n"
   ]
  },
  {
   "cell_type": "code",
   "execution_count": 89,
   "metadata": {},
   "outputs": [
    {
     "name": "stdout",
     "output_type": "stream",
     "text": [
      "Fitting LDA models with tf features, n_samples=2000 and n_features=1000...\n",
      "done in 2.233s.\n"
     ]
    }
   ],
   "source": [
    "print(\"Fitting LDA models with tf features, \"\n",
    "      \"n_samples=%d and n_features=%d...\"\n",
    "      % (n_samples, n_features))\n",
    "lda = LatentDirichletAllocation(n_components=n_components, max_iter=5,\n",
    "                                learning_method='online',\n",
    "                                learning_offset=50.,\n",
    "                                random_state=0)\n",
    "t0 = time()\n",
    "lda.fit(tf)\n",
    "print(\"done in %0.3fs.\" % (time() - t0))"
   ]
  },
  {
   "cell_type": "code",
   "execution_count": 90,
   "metadata": {},
   "outputs": [
    {
     "name": "stdout",
     "output_type": "stream",
     "text": [
      "\n",
      "Topics in LDA model:\n",
      "Topic #0: said eclipse slovenia lewis people sun slovene yugoslavia mexico drought time johnson don yugoslav city hawaii called world moon says\n",
      "Topic #1: diabetes said tb tuberculosis aids percent health hispanics people disease risk diet 000 latinos americans cases insulin cdc inmates exercise\n",
      "Topic #2: said police mr year nafta diamond officers says world slovenia beers diamonds bank new president welfare cent officer years department\n",
      "Topic #3: said police year cellrule officer tunnel tablecell morgan right service cvj billion people public link black chj says london lewis\n",
      "Topic #4: said mr says year officers park police gandhi commission eclipse new forest long fires chief government time trees years city\n",
      "Topic #5: said hurricane tb year jackson drought city health police smith state officials years limits storms states 10 season land atlantic\n",
      "Topic #6: said people thomas right mr path shining disease johnson state year gun court states new amendment time government years rights\n",
      "Topic #7: said johnson world air steroids crash aircraft force lewis issajenko bank crashed ms 87 plane ben jet francis pilot exposure\n",
      "Topic #8: said year slovenia mr bank debt chile police earthquake city percent people new yugoslavia dollars croatia world federal cellrule president\n",
      "Topic #9: said oil exxon tablecell miles year 000 cellrule people eclipse time area 10 new valdez spill state marathon hurricane city\n",
      "Topic #10: said 000 air plane mr slovenia near yugoslavia dollars bank federal ranch forest new diamonds crash force croatia carats washington\n",
      "Topic #11: welfare reform benefits governors president work francis programs families recipients world poverty plan congress year billion state payments children federal\n",
      "Topic #12: cellrule tablecell cvj chj rowrule tablerow said iarossi exxon ship oil 000 table birds grounding guard marathon valdez nelson world\n",
      "Topic #13: year said percent says new billion crop drought tb shining million chief government 1988 1987 guzman path fujimori high help\n",
      "Topic #14: said city mr cellrule war angeles morgan residents brush aliens marathon officials county bank summer department tablecell race map plant\n",
      "Topic #15: said fires forest park hurricane national yellowstone year service officials firefighters acres years hurricanes air season winds people storms 000\n",
      "Topic #16: said johnson people eclipse 000 lewis city total chief crash air seats new hurricane house wednesday years mr sgt country\n",
      "Topic #17: said house term mr congress political world incumbents party voters countries officials members year president foreign limitation census new drought\n",
      "Topic #18: said taylor engine pneumonia crash hospital plane doctors miss flight john jet engines assassination actress faa pizarro st shut condition\n",
      "Topic #19: said people city mr congress prime new minister national gandhi goldwin commission force time right caribbean service mexico police johnson\n",
      "\n"
     ]
    }
   ],
   "source": [
    "print(\"\\nTopics in LDA model:\")\n",
    "tf_feature_names = tf_vectorizer.get_feature_names()\n",
    "tf_feature_probs = tf_vectorizer.max_features\n",
    "print_top_words(lda, tf_feature_names, n_top_words)"
   ]
  },
  {
   "cell_type": "code",
   "execution_count": 91,
   "metadata": {},
   "outputs": [
    {
     "name": "stdout",
     "output_type": "stream",
     "text": [
      "Fitting LDA models with tf features, n_samples=2000 and n_features=1000...\n",
      "done in 2.291s.\n"
     ]
    }
   ],
   "source": [
    "print(\"Fitting LDA models with tf features, \"\n",
    "      \"n_samples=%d and n_features=%d...\"\n",
    "      % (n_samples, n_features))\n",
    "lda = LatentDirichletAllocation(n_components=n_components, max_iter=5,\n",
    "                                learning_method='online',\n",
    "                                learning_offset=50.,\n",
    "                                random_state=0)\n",
    "t0 = time()\n",
    "lda.fit_transform(tf)\n",
    "print(\"done in %0.3fs.\" % (time() - t0))"
   ]
  },
  {
   "cell_type": "code",
   "execution_count": 92,
   "metadata": {},
   "outputs": [
    {
     "name": "stdout",
     "output_type": "stream",
     "text": [
      "\n",
      "Topics in LDA model:\n",
      "Topic #0: said eclipse slovenia lewis people sun slovene yugoslavia mexico drought time johnson don yugoslav city hawaii called world moon says\n",
      "Topic #1: diabetes said tb tuberculosis aids percent health hispanics people disease risk diet 000 latinos americans cases insulin cdc inmates exercise\n",
      "Topic #2: said police mr year nafta diamond officers says world slovenia beers diamonds bank new president welfare cent officer years department\n",
      "Topic #3: said police year cellrule officer tunnel tablecell morgan right service cvj billion people public link black chj says london lewis\n",
      "Topic #4: said mr says year officers park police gandhi commission eclipse new forest long fires chief government time trees years city\n",
      "Topic #5: said hurricane tb year jackson drought city health police smith state officials years limits storms states 10 season land atlantic\n",
      "Topic #6: said people thomas right mr path shining disease johnson state year gun court states new amendment time government years rights\n",
      "Topic #7: said johnson world air steroids crash aircraft force lewis issajenko bank crashed ms 87 plane ben jet francis pilot exposure\n",
      "Topic #8: said year slovenia mr bank debt chile police earthquake city percent people new yugoslavia dollars croatia world federal cellrule president\n",
      "Topic #9: said oil exxon tablecell miles year 000 cellrule people eclipse time area 10 new valdez spill state marathon hurricane city\n",
      "Topic #10: said 000 air plane mr slovenia near yugoslavia dollars bank federal ranch forest new diamonds crash force croatia carats washington\n",
      "Topic #11: welfare reform benefits governors president work francis programs families recipients world poverty plan congress year billion state payments children federal\n",
      "Topic #12: cellrule tablecell cvj chj rowrule tablerow said iarossi exxon ship oil 000 table birds grounding guard marathon valdez nelson world\n",
      "Topic #13: year said percent says new billion crop drought tb shining million chief government 1988 1987 guzman path fujimori high help\n",
      "Topic #14: said city mr cellrule war angeles morgan residents brush aliens marathon officials county bank summer department tablecell race map plant\n",
      "Topic #15: said fires forest park hurricane national yellowstone year service officials firefighters acres years hurricanes air season winds people storms 000\n",
      "Topic #16: said johnson people eclipse 000 lewis city total chief crash air seats new hurricane house wednesday years mr sgt country\n",
      "Topic #17: said house term mr congress political world incumbents party voters countries officials members year president foreign limitation census new drought\n",
      "Topic #18: said taylor engine pneumonia crash hospital plane doctors miss flight john jet engines assassination actress faa pizarro st shut condition\n",
      "Topic #19: said people city mr congress prime new minister national gandhi goldwin commission force time right caribbean service mexico police johnson\n",
      "\n"
     ]
    }
   ],
   "source": [
    "print(\"\\nTopics in LDA model:\")\n",
    "tf_feature_names = tf_vectorizer.get_feature_names()\n",
    "print_top_words(lda, tf_feature_names, n_top_words)"
   ]
  },
  {
   "cell_type": "code",
   "execution_count": 93,
   "metadata": {},
   "outputs": [],
   "source": [
    "topic_words_prob_dict = {}"
   ]
  },
  {
   "cell_type": "code",
   "execution_count": 100,
   "metadata": {},
   "outputs": [
    {
     "name": "stdout",
     "output_type": "stream",
     "text": [
      "Topic  0 :  [0.0006475863478037532, 0.0005120545781998292, 0.0003207464066457018, 0.0003185977576264271, 0.00026361234914940067, 0.00025030463927541046, 0.00024188866925490735, 0.00023908505958986531, 0.0002378833806302873, 0.0002271766298699516, 0.00022332439645910386, 0.0002167710517195366, 0.00021266269098806689, 0.00020521498352202964, 0.00020470545868026352, 0.00020304406622150779, 0.00020277878839400045, 0.00020249210994427108, 0.0002024590273189938, 0.00020228346563186888]\n",
      "Topic  1 :  [0.00950405852104145, 0.005261590003500753, 0.005001010831047137, 0.004792511775928363, 0.003454352514969714, 0.002721761340314462, 0.0025738005536996866, 0.002234559802546817, 0.0018612062014215906, 0.001841464728568444, 0.0015130308432804572, 0.0014979846861810219, 0.0014853223355838644, 0.0014732841796249356, 0.0014539607014466731, 0.0014159939715439772, 0.0013864974912929603, 0.001340711348611618, 0.0012684713757583773, 0.0012280132433494324]\n",
      "Topic  2 :  [0.012303508754028728, 0.011031471555396157, 0.009449259801537975, 0.004561249874429219, 0.003965022940717984, 0.003922421012960889, 0.0036799385369679785, 0.0034648142667846513, 0.0034562501158155873, 0.003429087542758747, 0.0033610689861346046, 0.0032663578938155065, 0.003235599147837721, 0.0031835698352586333, 0.0030672331820190027, 0.002719422676490574, 0.002651890912335326, 0.0025797135579083918, 0.002538532559049797, 0.0025311729006695055]\n",
      "Topic  3 :  [0.0007422656478167942, 0.00040407501412790257, 0.00038446656870702557, 0.00037791459798781993, 0.0003285538265465639, 0.00031972063434822934, 0.00031446082276857703, 0.0003021371648468781, 0.000287268747257333, 0.00026834117036081753, 0.0002554423804559054, 0.0002542289516631446, 0.0002504313296209758, 0.00024911477363475005, 0.00024085665276886876, 0.00023985503979597034, 0.0002353080019749616, 0.000233289202543539, 0.00023230681981859687, 0.0002302481001347468]\n",
      "Topic  4 :  [0.00036324872898041606, 0.0003554616546084492, 0.00031174401229995763, 0.0002509529225451544, 0.00024235981382446568, 0.00024013233897047246, 0.00023692922165447535, 0.00023352271852656616, 0.00023345660033364824, 0.00023321519941226423, 0.00022637912217855343, 0.00022202725792609115, 0.00021813096198519536, 0.00021427405764535732, 0.000213622150510436, 0.00021172966186121242, 0.00020486888734802332, 0.00020464089808477687, 0.0002029555282774497, 0.00019794121530564217]\n",
      "Topic  5 :  [0.0005924994198940128, 0.00036349544646167105, 0.00027158021877310526, 0.0002630884362168787, 0.00023348830618119925, 0.00023310577841560495, 0.00022987615223251745, 0.00022629966819608173, 0.00022543912327587008, 0.00022374423808702026, 0.00021951256379631513, 0.00021858534026642737, 0.00021731688550711176, 0.0002155513050934746, 0.0002132246179269481, 0.00020857032984966924, 0.00020293046897910865, 0.00020214471395712304, 0.00019633655919825928, 0.000195419765320236]\n",
      "Topic  6 :  [0.00988515313914176, 0.005618278623581214, 0.0047963445116116655, 0.003931047767951238, 0.003837387757421617, 0.0037681006241501295, 0.003586830250685507, 0.003543028243219335, 0.0034672929699062554, 0.0034665060466392422, 0.0033552420494173986, 0.0032128330730267327, 0.0032031727999304004, 0.0029112683885951633, 0.0027295909802369754, 0.0025978209571681237, 0.0024075256158246783, 0.0023994941175375798, 0.002390268826503124, 0.002334667342103634]\n",
      "Topic  7 :  [0.009152963389484497, 0.005580095499580243, 0.005305178595450046, 0.0045444920380672185, 0.003830099205060096, 0.003768890749228173, 0.00358505687970646, 0.0034185912820965053, 0.003134048636249513, 0.002827659405441694, 0.002506427068876632, 0.0024143612595556164, 0.0023670077259944837, 0.0023607204546160078, 0.0023334211767363595, 0.0022684339274129275, 0.002254496181924772, 0.0022204721629693605, 0.0020688913644056465, 0.0019936204281004585]\n",
      "Topic  8 :  [0.0004750280093846133, 0.0004039908010858797, 0.00039817514321446016, 0.0003649514469074193, 0.00033500455186120747, 0.00029393352524501677, 0.0002716881508815265, 0.0002676585803546708, 0.0002504611124549672, 0.0002493585519950394, 0.0002405894523818567, 0.0002327131395786711, 0.00023132717973439824, 0.00022609918779134614, 0.00022459401106337835, 0.0002194674860862909, 0.00021903858094840422, 0.00020857284568393032, 0.0002085383401084319, 0.0002048507293386825]\n",
      "Topic  9 :  [0.015970033372143602, 0.005081920549063401, 0.004920738967781718, 0.004262950538508469, 0.004254354655349717, 0.004144412231774881, 0.004054700866137798, 0.003834517614852361, 0.003658326107505683, 0.003573037165149134, 0.00315215820189876, 0.0029422566233334195, 0.0028220300893633085, 0.0028077824162753163, 0.0027198085200165777, 0.0025524019332974083, 0.002470465068062782, 0.0024571019966113145, 0.0024400472405590855, 0.0024187426551672336]\n",
      "Topic  10 :  [0.00044156557064695405, 0.0002953258355650239, 0.00023918433689549653, 0.0002189385524011827, 0.00021519174531769105, 0.00020321171975893964, 0.00019609634358024934, 0.00019401286068627675, 0.00018562193305970477, 0.0001835130583953744, 0.00018316754556932453, 0.0001824713292990137, 0.00018174192981294685, 0.0001814211337953577, 0.00017918676907446382, 0.00017860557838517268, 0.00017831822764655046, 0.00017663280575559354, 0.0001754326825778752, 0.00017417750813116981]\n",
      "Topic  11 :  [0.001711835289989778, 0.0006298428826917146, 0.0004079953568920729, 0.00032648256365842105, 0.00029524987386179676, 0.0002876467923446589, 0.00027353620269569373, 0.0002706408399264443, 0.0002651280992598768, 0.0002466761194562815, 0.000234322176621756, 0.00023373680684621824, 0.00023140715139455137, 0.00022936678199001205, 0.00021914616974021616, 0.00021422138855897992, 0.0002086674763106372, 0.00020671407635953294, 0.00020208183604677132, 0.00020206709340754155]\n",
      "Topic  12 :  [0.058210179630898515, 0.04207491101141378, 0.02289133558786404, 0.02155185933525269, 0.011802719399055207, 0.010710582923022606, 0.0021074553153787867, 0.0015636363627848343, 0.0013245838653311278, 0.001309786424203769, 0.0011289522761143928, 0.0010229205749499612, 0.000893325359245766, 0.0008763695133870293, 0.0008684998098405711, 0.0008395519561856183, 0.0008283269594798746, 0.0007920058332412988, 0.0007714980877291912, 0.0007565551197362283]\n",
      "Topic  13 :  [0.00037467770779879556, 0.0003110412784755107, 0.0002770077673722102, 0.00026029842177711167, 0.0002325450647833947, 0.00021931001066112147, 0.00021662816438487733, 0.000211956526580656, 0.00021040714644829036, 0.0002052856035141628, 0.00019353718943159354, 0.00018867302635098087, 0.0001846834851222402, 0.00018382380307277913, 0.00018057816130761934, 0.0001795962702687329, 0.00017526763160105523, 0.00017391557624406052, 0.00017302107976021995, 0.00017276646487728001]\n",
      "Topic  14 :  [0.0002950605430833069, 0.00021409916398846746, 0.00018377146348851664, 0.00018296880392984366, 0.0001777253750389685, 0.00017500047486367765, 0.00017125886321030963, 0.0001707999232774824, 0.0001682065563837513, 0.00016748267110658016, 0.00016692912329898025, 0.00016659724469051974, 0.00016652040220415035, 0.00016309528676888846, 0.00016291283718585344, 0.0001624899147520757, 0.00016217793556097808, 0.00015945316254177853, 0.0001586353395685436, 0.0001583431144031496]\n",
      "Topic  15 :  [0.01316404186648889, 0.0068230181056000185, 0.006514024456158396, 0.0060312899882603195, 0.005020280359004049, 0.005018261230266412, 0.004897936849048329, 0.004014766550847763, 0.003417682884209321, 0.0033972353929951475, 0.0033338774523860165, 0.0030503000832058425, 0.0027107674807748863, 0.00250001885966254, 0.002356385794678388, 0.0021511741856108883, 0.0021413990784054206, 0.0020332135714208523, 0.0019376704996300488, 0.001791543955212329]\n",
      "Topic  16 :  [0.0005921456072814988, 0.0002384166431269317, 0.00022042520081952302, 0.0002182742737679573, 0.00021519265403297788, 0.00021360504621465066, 0.00021086558445737992, 0.0001897903079552624, 0.00018949686264153157, 0.00018922096609520807, 0.00018829211165629313, 0.0001861407846433018, 0.00018594077228698176, 0.00018025153625697086, 0.00018014123668535925, 0.00017729512971196944, 0.0001768318595308058, 0.00017607012101853952, 0.00017438460853891845, 0.000172901282386903]\n",
      "Topic  17 :  [0.00030705494386236426, 0.0002997950692006296, 0.00028955771837575327, 0.00025168617258831066, 0.00022521216640519079, 0.0002208534083149701, 0.0002128898228224385, 0.00020926856598146973, 0.00020889458690840005, 0.00020874463398725236, 0.00020331981181050826, 0.0002031644538827788, 0.00020209869474763822, 0.00020018819986511192, 0.00020005558728967987, 0.00019731513763872343, 0.00019699334976493087, 0.0001908652350143588, 0.00018705865572185906, 0.00018588506283974765]\n"
     ]
    },
    {
     "name": "stdout",
     "output_type": "stream",
     "text": [
      "Topic  18 :  [0.009671488244055929, 0.005775589952147708, 0.005395902627324988, 0.0033867223237599086, 0.003107356867412992, 0.0028239644494802247, 0.0027457964071937943, 0.0025972700299744895, 0.0023558922021905374, 0.0017849849045921083, 0.0017274617102486696, 0.0015051971379966664, 0.0015017127450514228, 0.0014709840749330654, 0.0014510890356371443, 0.0014459564347570892, 0.0014382875830974908, 0.001373599390223537, 0.0013528372424150268, 0.0013221795117407881]\n",
      "Topic  19 :  [0.000613702489879855, 0.00028786734432122136, 0.00024116583160190835, 0.00022996161440118796, 0.0002211169420721375, 0.00020935604090389874, 0.0002068207590646675, 0.0002066807961548122, 0.00020490420732882048, 0.0002025008697428067, 0.00020078524448204958, 0.00020063746722681782, 0.0001969771964507766, 0.00019686514729066893, 0.0001936854869707564, 0.000193356267032927, 0.00019273717683856645, 0.00019062480623037667, 0.00019053587324393767, 0.0001879940060929289]\n"
     ]
    }
   ],
   "source": [
    "lda.components_ /= lda.components_.sum(axis=1)[:, np.newaxis]\n",
    "for i in range(20):\n",
    "    topic_words_prob_dict[i] = sorted(lda.components_[i])[::-1][:20] \n",
    "    print(\"Topic \",i,\": \", sorted(lda.components_[i])[::-1][:20])"
   ]
  },
  {
   "cell_type": "code",
   "execution_count": 95,
   "metadata": {},
   "outputs": [],
   "source": [
    "import nltk\n",
    "import enchant\n",
    "d = enchant.Dict(\"en_US\")\n",
    "def predict_doc_topic(doc, topic_words_dict, topic_words_prob_dict):\n",
    "    text = nltk.tokenize.word_tokenize(doc)\n",
    "    for word in text:\n",
    "        if not d.check(word):\n",
    "            if len(word) < 4:\n",
    "                text.remove(word)\n",
    "    temp_dist = nltk.FreqDist(text)\n",
    "    word_dist = {}\n",
    "    for word in temp_dist:\n",
    "        word_dist[word] = temp_dist[word]\n",
    "    for word in temp_dist:\n",
    "        if word_dist[word] > 10:\n",
    "            word_dist.pop(word)\n",
    "    doc_topics_prob = {}\n",
    "    for topic in topic_words_dict:\n",
    "        score = 0\n",
    "        word_list = topic_words_dict[topic]\n",
    "        prob_list = topic_words_prob_dict[topic]\n",
    "        for index in range(len(word_list)):\n",
    "            if word_list[index] in word_dist:\n",
    "                score += word_dist[word_list[index]] * prob_list[index]\n",
    "        doc_topics_prob[topic] = score\n",
    "    return doc_topics_prob"
   ]
  },
  {
   "cell_type": "code",
   "execution_count": 102,
   "metadata": {},
   "outputs": [],
   "source": [
    "import operator\n",
    "docs = []\n",
    "for item in res['hits']['hits']:\n",
    "    id_ = item['_source']['doc_id']\n",
    "    doc = item['_source']['doc_text']\n",
    "    gold_summary = item['_source']['gold_summary']\n",
    "    lda_summary = item['_source']['lda_summary']\n",
    "    doc_topics = predict_doc_topic(doc, topic_words_dict, topic_words_prob_dict)\n",
    "    sorted_dict = sorted(doc_topics.items(), key=operator.itemgetter(1))\n",
    "    doc_topics = sorted_dict[::-1][:5]\n",
    "    docs.append({\n",
    "        'doc_id' : id_,\n",
    "        'doc_text': doc,\n",
    "        'gold_summary': gold_summary,\n",
    "        'lda_summary' : lda_summary,\n",
    "        'doc_topics' : doc_topics\n",
    "    })"
   ]
  },
  {
   "cell_type": "code",
   "execution_count": 105,
   "metadata": {},
   "outputs": [
    {
     "data": {
      "text/plain": [
       "{'doc_id': 'AP880409-0015 ',\n",
       " 'doc_text': \"A hurricane expert predicts a turbulent summer inthe Atlantic Ocean with more and fiercer storms swirling the seas,but says it's impossible to know if any of the storms will threatenpopulated areas.   William Gray, a professor of atmospheric science at ColoradoState University, said Friday he expects about six Atlantichurricanes this year, the average for the last 40 years, but aboveaverage for the decade.   The Atlantic has formed relatively few hurricanes in five of thelast six hurricane seasons. Those years brought just two to fivehurricanes each, except for the seven hurricanes spotted in 1985.   The hurricane season officially begins June 1, and its mostactive period usually begins Aug. 1.   Gray, who has used wind and air pressure patterns to make annualhurricane forecasts each year since 1984, will issue his firstformal 1988 forecast in late May. He issued an early ``outlook''Friday for the 10th annual National Hurricane Conference.   ``It is also anticipated that the average hurricane which doesform in 1988 will likely be more intense than have the averagehurricanes of the last six years, except for the 1985 season,''Gray said in a paper presented to the conference.   But Gray said his models of air pressure, winds around theequator and winds for ``El Nino'' periods, when eastern Pacificwaters are warmer than usual, do not allow for predictions of whenor where a hurricane might form.   Gray based his early outlook on the presence of light easterlywinds at the equator and the approaching end of ``El Nino'' period.   Gray predicted four hurricanes last season, and three actuallyoccurred. His prediction of four in 1986 was on the money, and heoriginally predicted eight hurricanes before adjusting that figureto seven, the eventual correct number, in 1985. In 1984, when therewere five hurricanes, Gray had predicted seven.   Drought in West Africa is responsible for a drop in Atlantichurricanes in the 1970s and 1980s, Gray said. He said the droughthas robbed storm systems of moisture needed to start theirescalation into hurricanes.   That pattern eventually will change, he said, ``but it isimpossible to say when this shift will occur.''   Forecasters and emergency management officials at the conferencestressed that coastal populations have increased rapidly during thelull in hurricanes; a surge in storms, up to the levels of the1950s and 1960s, could bring unprecedented damage, they said.\",\n",
       " 'doc_topics': [(15, 0.175571001616986),\n",
       "  (9, 0.1322792942713504),\n",
       "  (2, 0.10632747297099357),\n",
       "  (6, 0.0830773625523365),\n",
       "  (7, 0.07315972780252591)],\n",
       " 'gold_summary': \"Abstract:\\nWilliam Gray, a hurricane expert, predicts more and fiercer storms in the Atlantic. He expects six this year, average for the last 40 years, but above average for the decade. Gray said his models of air pressure, winds around the equator, and winds for El Nino periods do no allow for predictions of when or where hurricanes will occur. He predicted four in 1987, three actually occurred; four for four in 1986, seven for seven in 1985 five for seven in 1984. Drought in West Africa in the 1970s and 1980s robbed storm systems of moisture needed to escalate storms into hurricanes.\\nIntroduction:\\n   A hurricane expert predicts a turbulent summer in\\nthe Atlantic Ocean with more and fiercer storms swirling the seas,\\nbut says it's impossible to know if any of the storms will threaten\\npopulated areas.\\n   William Gray, a professor of atmospheric science at Colorado\\nState University, said Friday he expects about six Atlantic\\nhurricanes this year, the average for the last 40 years, but above\\naverage for the decade.\\n   The Atlantic has formed relatively few hurricanes in five of the\\nlast six hurricane seasons. Those years brought just two to five\\nhurricanes each, except for the seven hurricanes spotted in 1985.\\n   The hurricane season officially begins June 1, and its most\\nactive period usually begins Aug. 1.\\n   Gray, who has used wind and air pressure patterns to make annual\\nhurricane forecasts each year since 1984, will issue his first\\nformal 1988 forecast in late May. He issued an early ``outlook''\\nFriday for the 10th annual National Hurricane Conference.\\n   ``It is also anticipated that the average hurricane which does\\nform in 1988 will likely be more intense than have the average\\nhurricanes of the last six years, except for the 1985 season,''\\nGray said in a paper presented to the conference.\\n   But Gray said his models of air pressure, winds around the\\nequator and winds for ``El Nino'' periods, when eastern Pacific\\nwaters are warmer than usual, do not allow for predictions of when\\nor where a hurricane might form.\\n   Gray based his early outlook on the presence of light easterly\\nwinds at the equator and the approaching end of ``El Nino'' period.\\n   Gray predicted four hurricanes last season, and three actually\\noccurred. His prediction of four in 1986 was on the money, and he\\noriginally predicted eight hurricanes before adjusting that figure\\nto seven, the eventual correct number, in 1985. In 1984, when there\\nwere five hurricanes, Gray had predicted seven.\\n   Drought in West Africa is responsible for a drop in Atlantic\\nhurricanes in the 1970s and 1980s, Gray said. He said the drought\\nhas robbed storm systems of moisture needed to start their\\nescalation into hurricanes.\\n   That pattern eventually will change, he said, ``but it is\\nimpossible to say when this shift will occur.''\\n   Forecasters and emergency management officials at the conference\\nstressed that coastal populations have increased rapidly during the\\nlull in hurricanes; a surge in storms, up to the levels of the\\n1950s and 1960s, could bring unprecedented damage, they said.\\n\\x1a\",\n",
       " 'lda_summary': \"   ``It is also anticipated that the average hurricane which doesform in 1988 will likely be more intense than have the averagehurricanes of the last six years, except for the 1985 season,''Gray said in a paper presented to the conference.    Gray predicted four hurricanes last season, and three actuallyoccurred.  1. .  In 1984, when therewere five hurricanes, Gray had predicted seven.  He issued an early ``outlook''Friday for the 10th annual National Hurricane Conference.    The hurricane season officially begins June 1, and its mostactive period usually begins Aug.    That pattern eventually will change, he said, ``but it isimpossible to say when this shift will occur.    Gray, who has used wind and air pressure patterns to make annualhurricane forecasts each year since 1984, will issue his firstformal 1988 forecast in late May.  He said the droughthas robbed storm systems of moisture needed to start theirescalation into hurricanes. \"}"
      ]
     },
     "execution_count": 105,
     "metadata": {},
     "output_type": "execute_result"
    }
   ],
   "source": [
    "docs[1]"
   ]
  },
  {
   "cell_type": "code",
   "execution_count": 107,
   "metadata": {},
   "outputs": [
    {
     "data": {
      "text/plain": [
       "{'doc_id': 'WSJ870123-0101 ',\n",
       " 'doc_text': 'In his State of the Union address last January, President Reagan announced that welfare reform would be a priority of his administration in its final three years. He instructed his charges to draw up plans for \"immediate action\" that would enable poor families to achieve \"real and lasting emancipation\" from welfare dependency. \"The success of welfare,\" he said, \"should be judged by how many of its recipients become independent of welfare.\"    The president\\'s convincing message raised hopes that something would finally be done to break the cycle of poverty and dependency that afflicts several million welfare families. Americans have become increasingly exasperated by the enormous amount of money the federal government devotes each year to anti-poverty programs, with little apparent abatement in poverty. The president correctly sensed that the public wants reform.    If the president lets up on welfare reform, he will disappoint those whose hopes he raised last January, a group that surely includes many of the poor who understand better than any politician how deficient the current system is. To build on the momentum he created a year ago, the president must make plain his commitment in the State of the Union message next Tuesday. To pull away now would be to undercut the welfare-reform movement just as it has hit its stride.    The president ought to challenge Congress to respond to his initiatives. His Domestic Policy Council has drafted a blueprint. It would give the states wider latitude to experiment with welfare programs. Many of the governors seem to like the plan, as they have already unveiled their own proposals for welfare reform. The president and the governors should be natural allies on this issue, and the chances of success would be enhanced if they could jointly commit themselves to a plan of action.    The president will need all the help he can get if he is to convince Democrats in Congress to go along. Most have paid lip service to the idea of welfare reform but nary a bill has been put on the docket. This suggests that the Democrats aren\\'t as serious about welfare reform as the governors and the American public are.    There is a reason for this. The Democrats have long been beholden to the welfare lobby, whose interests now have less to do with alleviating poverty than with enlarging the welfare bureaucracy. This past December, a coalition of some 80 organizations, most with headquarters in Washington, issued a \"statement of principles\" calling for increased spending for poverty and jobs programs. It also insisted that the federal government has \"primary responsibility\" for operating welfare.    Congressional Democrats seem to be in agreement with the welfare lobby. However, the public wants the system changed. It will be difficult for Congress to sell restored or additional spending on current poverty programs when the American people are already spending more than $100 billion a year on these programs.    The president should take up his case for reform directly with the American people. With the alliance of reform-minded governors and the support of the public, the president can press Congress to move off the deadening status quo. With the ball in its court, Congress can decide either to work with the president and the governors, or it can continue to place the interests of the welfare lobby ahead of the interests of the poor. ',\n",
       " 'doc_topics': [(2, 0.059198122756556205),\n",
       "  (6, 0.044491134784660234),\n",
       "  (9, 0.03571992228247961),\n",
       "  (15, 0.0354032190268581),\n",
       "  (11, 0.014318887467319899)],\n",
       " 'gold_summary': 'Abstract:\\nPresident Reagan has made welfare reform a priority. His Domestic Policy Council drafted a blueprint giving states wider latitude to experiment with reform. Many governors have unveiled plans of their own. A welfare lobbying coalition of 80 organizations has issued a statement calling for increased spending for poverty and jobs programs. They insist that the federal government has \"primary responsibility\" for welfare. Congressional Democrats seem to agree with them. Americans are already spending more than $100 billion a year on welfare. It may be necessary for Reagan to form an alliance of reform-minded governors and the public to change the status quo.\\nIntroduction:\\n\\nIn his State of the Union address last January, President Reagan announced that welfare reform would be a priority of his administration in its final three years. \\nHe instructed his charges to draw up plans for \"immediate action\" that would enable poor families to achieve \"real and lasting emancipation\" from welfare dependency. \\n\"The success of welfare,\" he said, \"should be judged by how many of its recipients become independent of welfare.\" \\n\\n\\nThe president\\'s convincing message raised hopes that something would finally be done to break the cycle of poverty and dependency that afflicts several million welfare families. \\nAmericans have become increasingly exasperated by the enormous amount of money the federal government devotes each year to anti-poverty programs, with little apparent abatement in poverty. \\nThe president correctly sensed that the public wants reform. \\n\\n\\nIf the president lets up on welfare reform, he will disappoint those whose hopes he raised last January, a group that surely includes many of the poor who understand better than any politician how deficient the current system is. \\nTo build on the momentum he created a year ago, the president must make plain his commitment in the State of the Union message next Tuesday. \\nTo pull away now would be to undercut the welfare-reform movement just as it has hit its stride. \\n\\n\\nThe president ought to challenge Congress to respond to his initiatives. \\nHis Domestic Policy Council has drafted a blueprint. \\nIt would give the states wider latitude to experiment with welfare programs. \\nMany of the governors seem to like the plan, as they have already unveiled their own proposals for welfare reform. \\nThe president and the governors should be natural allies on this issue, and the chances of success would be enhanced if they could jointly commit themselves to a plan of action. \\n\\n\\nThe president will need all the help he can get if he is to convince Democrats in Congress to go along. \\nMost have paid lip service to the idea of welfare reform but nary a bill has been put on the docket. \\nThis suggests that the Democrats aren\\'t as serious about welfare reform as the governors and the American public are. \\n\\n\\nThere is a reason for this. \\nThe Democrats have long been beholden to the welfare lobby, whose interests now have less to do with alleviating poverty than with enlarging the welfare bureaucracy. \\nThis past December, a coalition of some 80 organizations, most with headquarters in Washington, issued a \"statement of principles\" calling for increased spending for poverty and jobs programs. \\nIt also insisted that the federal government has \"primary responsibility\" for operating welfare. \\n\\n\\nCongressional Democrats seem to be in agreement with the welfare lobby. \\nHowever, the public wants the system changed. \\nIt will be difficult for Congress to sell restored or additional spending on current poverty programs when the American people are already spending more than $100 billion a year on these programs. \\n\\n\\nThe president should take up his case for reform directly with the American people. \\nWith the alliance of reform-minded governors and the support of the public, the president can press Congress to move off the deadening status quo. \\nWith the ball in its court, Congress can decide either to work with the president and the governors, or it can continue to place the interests of the welfare lobby ahead of the interests of the poor. \\n\\n\\x1a',\n",
       " 'lda_summary': '\"    The president\\'s convincing message raised hopes that something would finally be done to break the cycle of poverty and dependency that afflicts several million welfare families.     There is a reason for this.     The president should take up his case for reform directly with the American people.  .  His Domestic Policy Council has drafted a blueprint.     The president will need all the help he can get if he is to convince Democrats in Congress to go along.  However, the public wants the system changed.  It will be difficult for Congress to sell restored or additional spending on current poverty programs when the American people are already spending more than $100 billion a year on these programs.  To pull away now would be to undercut the welfare-reform movement just as it has hit its stride.     The president ought to challenge Congress to respond to his initiatives. '}"
      ]
     },
     "execution_count": 107,
     "metadata": {},
     "output_type": "execute_result"
    }
   ],
   "source": [
    "docs[3]"
   ]
  },
  {
   "cell_type": "code",
   "execution_count": 108,
   "metadata": {},
   "outputs": [
    {
     "data": {
      "text/plain": [
       "{'acknowledged': True,\n",
       " 'index': 'duc_topic_modelling',\n",
       " 'shards_acknowledged': True}"
      ]
     },
     "execution_count": 108,
     "metadata": {},
     "output_type": "execute_result"
    }
   ],
   "source": [
    "from elasticsearch import Elasticsearch\n",
    "es = Elasticsearch('localhost')\n",
    "es.indices.delete(index='duc_topic_modelling', ignore=[400, 404])\n",
    "mappings_duc = {\n",
    "    'mappings':{\n",
    "        'words':{\n",
    "            'properties':{\n",
    "                'topic_id': {'type': 'text', 'index': 'false'},\n",
    "                'top_words': {'type': 'text', 'analyzer': 'english'},\n",
    "                'word_probs':{'type': 'text', 'analyzer': 'english'}\n",
    "            }\n",
    "        }\n",
    "    }\n",
    "}\n",
    "client.indices.create(index=\"duc_topic_modelling\", body=mappings_duc)"
   ]
  },
  {
   "cell_type": "code",
   "execution_count": 109,
   "metadata": {},
   "outputs": [],
   "source": [
    "topics = []\n",
    "for i in range(len(topic_words_dict)):\n",
    "    topics.append({\n",
    "        'topic_id' : str(i),\n",
    "        'top_words': topic_words_dict[i],\n",
    "        'word_probs': topic_words_prob_dict[i]\n",
    "    })"
   ]
  },
  {
   "cell_type": "code",
   "execution_count": 110,
   "metadata": {},
   "outputs": [],
   "source": [
    "for topic in topics:\n",
    "    client.index(index='duc_topic_modelling', doc_type='words', body=topic)"
   ]
  },
  {
   "cell_type": "code",
   "execution_count": 111,
   "metadata": {},
   "outputs": [
    {
     "data": {
      "text/plain": [
       "{'acknowledged': True, 'index': 'duc', 'shards_acknowledged': True}"
      ]
     },
     "execution_count": 111,
     "metadata": {},
     "output_type": "execute_result"
    }
   ],
   "source": [
    "es.indices.delete(index='duc', ignore=[400, 404])\n",
    "mappings_duc = {\n",
    "    'mappings':{\n",
    "        'document':{\n",
    "            'properties':{\n",
    "                'doc_id': {'type': 'text', 'index': 'false'},\n",
    "                'doc_text': {'type': 'text', 'analyzer': 'english'},\n",
    "                'gold_summary':{'type': 'text', 'analyzer': 'english'},\n",
    "                'kl_summary':{'type': 'text', 'analyzer': 'english'},\n",
    "                'doc_topics' : {'type': 'text', 'analyzer': 'english'}\n",
    "            }\n",
    "        }\n",
    "    }\n",
    "}\n",
    "es.indices.create(index=\"duc\", body=mappings_duc)"
   ]
  },
  {
   "cell_type": "code",
   "execution_count": 112,
   "metadata": {},
   "outputs": [],
   "source": [
    "for doc in docs:\n",
    "    es.index(index='duc', doc_type='document', body=doc)"
   ]
  },
  {
   "cell_type": "code",
   "execution_count": null,
   "metadata": {},
   "outputs": [],
   "source": []
  }
 ],
 "metadata": {
  "kernelspec": {
   "display_name": "Python 3",
   "language": "python",
   "name": "python3"
  },
  "language_info": {
   "codemirror_mode": {
    "name": "ipython",
    "version": 3
   },
   "file_extension": ".py",
   "mimetype": "text/x-python",
   "name": "python",
   "nbconvert_exporter": "python",
   "pygments_lexer": "ipython3",
   "version": "3.6.4"
  }
 },
 "nbformat": 4,
 "nbformat_minor": 2
}
