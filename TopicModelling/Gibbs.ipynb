{
 "cells": [
  {
   "cell_type": "code",
   "execution_count": null,
   "metadata": {},
   "outputs": [],
   "source": [
    "from math import *\n",
    "import matplotlib.pyplot as plt "
   ]
  },
  {
   "cell_type": "code",
   "execution_count": null,
   "metadata": {},
   "outputs": [],
   "source": [
    "import numpy as np\n",
    "import seaborn as sns\n",
    "import matplotlib.pyplot as plt\n",
    "from matplotlib.pyplot import plot, draw, show, ion"
   ]
  },
  {
   "cell_type": "code",
   "execution_count": null,
   "metadata": {},
   "outputs": [],
   "source": [
    "def p_x_given_y(y, mus, sigmas):\n",
    "    mu = mus[0] + sigmas[1, 0] / sigmas[0, 0] * (y - mus[1])\n",
    "    sigma = sigmas[0, 0] - sigmas[1, 0] / sigmas[1, 1] * sigmas[1, 0]\n",
    "    return np.random.normal(mu, sigma)\n",
    "\n",
    "\n",
    "def p_y_given_x(x, mus, sigmas):\n",
    "    mu = mus[1] + sigmas[0, 1] / sigmas[1, 1] * (x - mus[0])\n",
    "    sigma = sigmas[1, 1] - sigmas[0, 1] / sigmas[0, 0] * sigmas[0, 1]\n",
    "    return np.random.normal(mu, sigma)\n",
    "\n"
   ]
  },
  {
   "cell_type": "code",
   "execution_count": null,
   "metadata": {},
   "outputs": [],
   "source": [
    "def gibbs_sampling(mus, sigmas, last_y, iter=1):\n",
    "    samples = np.zeros((iter, 2))\n",
    "    # y = np.random.rand() * 10\n",
    "    y = last_y\n",
    "\n",
    "    for i in range(iter):\n",
    "        x = p_x_given_y(y, mus, sigmas)\n",
    "        y = p_y_given_x(x, mus, sigmas)\n",
    "        samples[i, :] = [x, y]\n",
    "\n",
    "    return samples"
   ]
  },
  {
   "cell_type": "code",
   "execution_count": null,
   "metadata": {},
   "outputs": [],
   "source": [
    "mus = np.array([0, 3])\n",
    "# # sigmas = np.array([[1, .9], [.8, 2]])\n",
    "# sigmas = np.array([[0, 100], [100, 0]])\n",
    "sigmas = np.array([[1, .9], [.8, 2]])\n",
    "\n",
    "allsamples = np.zeros((1, 2))\n",
    "allsamples[0,1] = 0;\n",
    "allsamples[0,0] = 0;\n",
    "ion()\n",
    "for j in range(1000):\n",
    "    samples = gibbs_sampling(mus, sigmas, allsamples[-1,1])\n",
    "    allsamples = np.concatenate ( (allsamples, samples), axis=0)\n",
    "    print  (np.shape(allsamples))\n",
    "    # clf()\n",
    "    fig =  sns.jointplot(allsamples[:, 0], allsamples[:, 1])\n",
    "    # plt.show()\n",
    "    fig=draw()\n",
    "    show()\n",
    "    plt.clf()\n",
    "    plt.cla()\n",
    "    plt.close()"
   ]
  },
  {
   "cell_type": "code",
   "execution_count": null,
   "metadata": {},
   "outputs": [],
   "source": []
  }
 ],
 "metadata": {
  "kernelspec": {
   "display_name": "Python 3",
   "language": "python",
   "name": "python3"
  },
  "language_info": {
   "codemirror_mode": {
    "name": "ipython",
    "version": 3
   },
   "file_extension": ".py",
   "mimetype": "text/x-python",
   "name": "python",
   "nbconvert_exporter": "python",
   "pygments_lexer": "ipython3",
   "version": "3.6.4"
  }
 },
 "nbformat": 4,
 "nbformat_minor": 2
}
