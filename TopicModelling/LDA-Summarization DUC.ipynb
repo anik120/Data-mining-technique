{
 "cells": [
  {
   "cell_type": "code",
   "execution_count": 38,
   "metadata": {},
   "outputs": [],
   "source": [
    "from elasticsearch import Elasticsearch\n",
    "import nltk\n",
    "import math\n",
    "import sys\n",
    "import enchant\n",
    "import operator\n",
    "d = enchant.Dict(\"en_US\")"
   ]
  },
  {
   "cell_type": "code",
   "execution_count": 104,
   "metadata": {},
   "outputs": [],
   "source": [
    "es = Elasticsearch(['http://localhost:9200/'])\n",
    "doc = {\n",
    "        'size' : 301,\n",
    "        'query': {\n",
    "            'match_all' : {}\n",
    "       }\n",
    "   }\n",
    "res = es.search(index='duc', doc_type='document', body=doc,scroll='1m')"
   ]
  },
  {
   "cell_type": "code",
   "execution_count": 105,
   "metadata": {},
   "outputs": [],
   "source": [
    "topics = {\n",
    "        'size' : 20,\n",
    "        'query': {\n",
    "            'match_all' : {}\n",
    "       }\n",
    "   }\n",
    "res_topics = es.search(index='duc_topic_modelling', body=topics,scroll='1m')"
   ]
  },
  {
   "cell_type": "code",
   "execution_count": 95,
   "metadata": {},
   "outputs": [],
   "source": [
    "text = res['hits']['hits'][0]['_source']['doc_text']"
   ]
  },
  {
   "cell_type": "code",
   "execution_count": 106,
   "metadata": {},
   "outputs": [],
   "source": [
    "topic_words = {}\n",
    "topic_words_probs = {}\n",
    "for item in res_topics['hits']['hits']:\n",
    "    id_ = item['_source']['topic_id']\n",
    "    topic_words[id_] = item['_source']['top_words']\n",
    "    topic_words_probs[id_] = item['_source']['word_probs']"
   ]
  },
  {
   "cell_type": "code",
   "execution_count": 108,
   "metadata": {},
   "outputs": [],
   "source": [
    "def score_sentences(doc, doc_topics , topic_words, topic_words_probs):            \n",
    "    sentences = doc.split(\".\")\n",
    "    sentences_score = {}\n",
    "    text = nltk.tokenize.word_tokenize(doc)\n",
    "    for word in text:\n",
    "        if not d.check(word):\n",
    "            if len(word) < 4:\n",
    "                text.remove(word)\n",
    "    for sentence in sentences:\n",
    "        score = 0\n",
    "        words_in_sentence = nltk.tokenize.word_tokenize(sentence)\n",
    "        for word in words_in_sentence:\n",
    "            for topic in topic_words:\n",
    "                if word in topic_words[topic]:\n",
    "                    score += topic_words_probs[topic][topic_words[topic].index(word)]\n",
    "        sentences_score[sentence] = score\n",
    "    return sentences_score"
   ]
  },
  {
   "cell_type": "code",
   "execution_count": 109,
   "metadata": {},
   "outputs": [],
   "source": [
    "summaries = {}\n",
    "for item in res['hits']['hits']:\n",
    "    sentence_score = score_sentences(item['_source']['doc_text'], \n",
    "                                    item['_source']['doc_topics'],\n",
    "                                    topic_words,\n",
    "                                    topic_words_probs)\n",
    "    sorted_dict = sorted(sentence_score.items(), key=operator.itemgetter(1))[::-1][:10]\n",
    "    summary = \"\"\n",
    "    for sentence in sorted_dict:\n",
    "        summary += sentence[0]        \n",
    "    summaries[item['_source']['doc_id']] = summary"
   ]
  },
  {
   "cell_type": "code",
   "execution_count": 110,
   "metadata": {},
   "outputs": [
    {
     "data": {
      "text/plain": [
       "\"   The high probability is based on several factors, includinglength of time since the last major earthquake struck the area in1906, said Clarence Allen, professor of Geology and Geophysics atthe California Institue of Technology in Pasadena It just has todo with the probability of an earthquake in this area,'' Allen said   ``I think we'll learn a lot from an engineering point of viewfrom this earthquake,'' he said''   Allen said many of the same kinds of older structures thatappeared to have been damaged in San Francisco also exist in theLos Angeles region9 Richter reading, Allen said It's something we should therefore be readyfor,'' Allen said Allen said this information should have alertedofficials to take preventive steps The highest, the USGS says,is in the central California town of Parkfield, where there is a 90percent probability of a magnitude 6 earthquake by the year 2018The major earthquake that struck the SanFrancisco Bay area Tuesday occurred in a region seismologiststargeted as having the highest probability of a strong quake inNorthern California A quake of 7magnitude, a ``major'' earthquake, is capable of widespread heavydamage\""
      ]
     },
     "execution_count": 110,
     "metadata": {},
     "output_type": "execute_result"
    }
   ],
   "source": [
    "summaries[\"AP891017-0204 \"]"
   ]
  },
  {
   "cell_type": "code",
   "execution_count": 111,
   "metadata": {},
   "outputs": [],
   "source": [
    "gold_in_elastic = {}\n",
    "docs_in_elastic = {}\n",
    "doc_topics_in_elastic = {}\n",
    "kl_summary_in_elastic = {}\n",
    "for item in res['hits']['hits']:\n",
    "    id_ = item['_source']['doc_id']\n",
    "    gold_in_elastic[id_] = item['_source']['gold_summary']\n",
    "    docs_in_elastic[id_] = item['_source']['doc_text']\n",
    "    doc_topics_in_elastic[id_] = item['_source']['doc_topics']\n",
    "    kl_summary_in_elastic[id_] = item['_source']['kl_summary']"
   ]
  },
  {
   "cell_type": "code",
   "execution_count": 112,
   "metadata": {},
   "outputs": [
    {
     "data": {
      "text/plain": [
       "{'acknowledged': True, 'index': 'duc', 'shards_acknowledged': True}"
      ]
     },
     "execution_count": 112,
     "metadata": {},
     "output_type": "execute_result"
    }
   ],
   "source": [
    "es.indices.delete(index='duc', ignore=[400, 404])\n",
    "mappings_duc = {\n",
    "    'mappings':{\n",
    "        'document':{\n",
    "            'properties':{\n",
    "                'doc_id': {'type': 'text', 'index': 'false'},\n",
    "                'doc_text': {'type': 'text', 'analyzer': 'english'},\n",
    "                'gold_summary':{'type': 'text', 'analyzer': 'english'},\n",
    "                'doc_topics':{'type': 'text', 'analyzer': 'english'},\n",
    "                'lda_summary':{'type': 'text', 'analyzer': 'english'},\n",
    "                'kl_summary':{'type': 'text', 'analyzer': 'english'}\n",
    "            }\n",
    "        }\n",
    "    }\n",
    "}\n",
    "es.indices.create(index=\"duc\", body=mappings_duc)"
   ]
  },
  {
   "cell_type": "code",
   "execution_count": 113,
   "metadata": {},
   "outputs": [],
   "source": [
    "docs = []\n",
    "for id_ in docs_in_elastic:\n",
    "    docs.append({\n",
    "        'doc_id' : id_,\n",
    "        'doc_text': docs_in_elastic[id_],\n",
    "        'gold_summary': gold_in_elastic[id_],\n",
    "        'lda_summary' : summaries[id_],\n",
    "        'doc_topics' : doc_topics_in_elastic[id_],\n",
    "        'kl_summary': kl_summary_in_elastic[id_]\n",
    "    })\n"
   ]
  },
  {
   "cell_type": "code",
   "execution_count": 114,
   "metadata": {},
   "outputs": [],
   "source": [
    "for doc in docs:\n",
    "    es.index(index='duc', doc_type='document', body=doc)"
   ]
  },
  {
   "cell_type": "code",
   "execution_count": null,
   "metadata": {},
   "outputs": [],
   "source": []
  }
 ],
 "metadata": {
  "kernelspec": {
   "display_name": "Python 3",
   "language": "python",
   "name": "python3"
  },
  "language_info": {
   "codemirror_mode": {
    "name": "ipython",
    "version": 3
   },
   "file_extension": ".py",
   "mimetype": "text/x-python",
   "name": "python",
   "nbconvert_exporter": "python",
   "pygments_lexer": "ipython3",
   "version": "3.6.4"
  }
 },
 "nbformat": 4,
 "nbformat_minor": 2
}
