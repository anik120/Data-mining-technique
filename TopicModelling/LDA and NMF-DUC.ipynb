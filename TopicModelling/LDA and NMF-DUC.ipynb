{
 "cells": [
  {
   "cell_type": "code",
   "execution_count": 1,
   "metadata": {},
   "outputs": [],
   "source": [
    "from __future__ import print_function\n",
    "from time import time\n",
    "import numpy as np\n",
    "from sklearn.feature_extraction.text import TfidfVectorizer, CountVectorizer\n",
    "from sklearn.decomposition import NMF, LatentDirichletAllocation\n",
    "from sklearn.datasets import fetch_20newsgroups"
   ]
  },
  {
   "cell_type": "code",
   "execution_count": 2,
   "metadata": {},
   "outputs": [],
   "source": [
    "# n_samples = 2000\n",
    "# n_features = 1000\n",
    "n_components = 10\n",
    "n_top_words = 20"
   ]
  },
  {
   "cell_type": "code",
   "execution_count": 3,
   "metadata": {},
   "outputs": [],
   "source": [
    "from elasticsearch import Elasticsearch\n",
    "es = Elasticsearch(['http://localhost:9200/'])\n",
    "doc = {\n",
    "        'size' : 301,\n",
    "        'query': {\n",
    "            'match_all' : {}\n",
    "       }\n",
    "   }\n",
    "res = es.search(index='duc', doc_type='document', body=doc,scroll='1m')"
   ]
  },
  {
   "cell_type": "code",
   "execution_count": 4,
   "metadata": {},
   "outputs": [],
   "source": [
    "docs = []\n",
    "for item in res['hits']['hits']:\n",
    "    docs.append(item['_source']['doc_text'])"
   ]
  },
  {
   "cell_type": "code",
   "execution_count": 5,
   "metadata": {},
   "outputs": [],
   "source": [
    "topic_words_dict = {}"
   ]
  },
  {
   "cell_type": "code",
   "execution_count": 6,
   "metadata": {},
   "outputs": [],
   "source": [
    "def print_top_words(model, feature_names, n_top_words):\n",
    "    for topic_idx, topic in enumerate(model.components_):\n",
    "        message = \"Topic #%d: \" % topic_idx\n",
    "        message += \" \".join([feature_names[i]\n",
    "                             for i in topic.argsort()[:-n_top_words - 1:-1]])\n",
    "        topic_words_dict[topic_idx] = message.split()[2:] \n",
    "        print(message)\n",
    "    print()"
   ]
  },
  {
   "cell_type": "code",
   "execution_count": 7,
   "metadata": {},
   "outputs": [
    {
     "name": "stdout",
     "output_type": "stream",
     "text": [
      "Extracting tf-idf features for NMF...\n",
      "done in 0.353s.\n"
     ]
    }
   ],
   "source": [
    "print(\"Extracting tf-idf features for NMF...\")\n",
    "tfidf_vectorizer = TfidfVectorizer(max_df=0.95, min_df=2,\n",
    "                                   stop_words='english')\n",
    "t0 = time()\n",
    "tfidf = tfidf_vectorizer.fit_transform(docs)\n",
    "print(\"done in %0.3fs.\" % (time() - t0))\n"
   ]
  },
  {
   "cell_type": "code",
   "execution_count": 8,
   "metadata": {},
   "outputs": [
    {
     "name": "stdout",
     "output_type": "stream",
     "text": [
      "Extracting tf features for LDA...\n",
      "done in 0.313s.\n",
      "\n"
     ]
    }
   ],
   "source": [
    "print(\"Extracting tf features for LDA...\")\n",
    "tf_vectorizer = CountVectorizer(max_df=0.95, min_df=2,\n",
    "                                stop_words='english')\n",
    "t0 = time()\n",
    "tf = tf_vectorizer.fit_transform(docs)\n",
    "print(\"done in %0.3fs.\" % (time() - t0))\n",
    "print()"
   ]
  },
  {
   "cell_type": "code",
   "execution_count": 9,
   "metadata": {},
   "outputs": [
    {
     "name": "stdout",
     "output_type": "stream",
     "text": [
      "Fitting the NMF model with tf-idf features\n",
      "done in 0.653s.\n"
     ]
    }
   ],
   "source": [
    "print(\"Fitting the NMF model with tf-idf features\")\n",
    "t0 = time()\n",
    "nmf = NMF(n_components=n_components, random_state=1,\n",
    "          alpha=.1, l1_ratio=.5).fit(tfidf)\n",
    "print(\"done in %0.3fs.\" % (time() - t0))"
   ]
  },
  {
   "cell_type": "code",
   "execution_count": 10,
   "metadata": {},
   "outputs": [
    {
     "name": "stdout",
     "output_type": "stream",
     "text": [
      "\n",
      "Topics in NMF model (Frobenius norm):\n",
      "Topic #0: welfare reform governors benefits recipients work families programs clinton president plan poverty spending cent children training congress programmes democrats dependency\n",
      "Topic #1: exxon oil spill valdez cleanup tanker said alaska ship sound guard coast reef prince developments miles million crude hazelwood vessel\n",
      "Topic #2: hurricane hurricanes sheets storm mph storms atlantic winds florida tropical gilbert said gray hugo season center forecasters miami damage coast\n",
      "Topic #3: taylor pneumonia miss hospital doctors actress said st hospitalized bacterial john sam condition chen elizabeth health addiction viral weeks publicist\n",
      "Topic #4: diamond beers diamonds cso botswana market carats cartel rough sales mines south world dealers cent organization africa production year african\n",
      "Topic #5: eclipse sun moon solar hawaii baja total mexico viewing eclipses shadow astronomers clouds watch partial visible box earth 11 said\n",
      "Topic #6: johnson lewis ben francis steroids said drugs athletes gold sprinter canadian canada olympics astaphan olympic world medal steroid drug carl\n",
      "Topic #7: said police forest mr officers crash fires thomas air department acres gates people firefighters city force year officer shining path\n",
      "Topic #8: slovenia yugoslavia slovene croatia slovenian serbia yugoslav republic republics federal army independence serbian slovenes ljubljana foreign war kucan debt relations\n",
      "Topic #9: census aliens illegal seats house bureau count states senate counting immigration rep counted said constitution residents congress california population 1990\n",
      "\n"
     ]
    }
   ],
   "source": [
    "print(\"\\nTopics in NMF model (Frobenius norm):\")\n",
    "tfidf_feature_names = tfidf_vectorizer.get_feature_names()\n",
    "print_top_words(nmf, tfidf_feature_names, n_top_words)"
   ]
  },
  {
   "cell_type": "code",
   "execution_count": 11,
   "metadata": {},
   "outputs": [
    {
     "name": "stdout",
     "output_type": "stream",
     "text": [
      "Fitting the NMF model (generalized Kullback-Leibler divergence) with tf-idf features\n",
      "done in 3.124s.\n"
     ]
    }
   ],
   "source": [
    "print(\"Fitting the NMF model (generalized Kullback-Leibler divergence) with \"\n",
    "      \"tf-idf features\")\n",
    "t0 = time()\n",
    "nmf = NMF(n_components=n_components, random_state=1,\n",
    "          beta_loss='kullback-leibler', solver='mu', max_iter=1000, alpha=.1,\n",
    "          l1_ratio=.5).fit(tfidf)\n",
    "print(\"done in %0.3fs.\" % (time() - t0))"
   ]
  },
  {
   "cell_type": "code",
   "execution_count": 12,
   "metadata": {},
   "outputs": [
    {
     "name": "stdout",
     "output_type": "stream",
     "text": [
      "\n",
      "Topics in NMF model (generalized Kullback-Leibler divergence):\n",
      "Topic #0: year new state years people said time like just say states members president mr public government making department washington did\n",
      "Topic #1: spokesman oil coast environmental valdez size guard spill fouled exxon related sea 24 tiny foot million spokeswoman expected accident sunday\n",
      "Topic #2: south texas winds said storm center national weather average damage hurricane pressure storms 30 high year atlantic west miles hit\n",
      "Topic #3: said hospital people health officer today cause 10 infection john flight noon old st treated crash 20 doctors near center\n",
      "Topic #4: cattle year countries world cases causes central dollars market nation british years million likely months country new consolidated trade case\n",
      "Topic #5: pacific people discrimination education supreme recorded time sun right view watch scientific rays mexico thousands years danforth howard peaked pressed\n",
      "Topic #6: world won games women olympic marathon gold sprinter going olympics race claimed seen runner run steroid far existed taken meters\n",
      "Topic #7: chief told police said killed force officials leave city violence brutality called investigation nbc capital military path car revolutionary officers\n",
      "Topic #8: population states larger poor number million resolution poverty expected new said plan tuberculosis body leaders past patients forgotten measures yugoslavia\n",
      "Topic #9: forest drought said service national officials acres fires look helped states seats west summer make residents rain north areas representatives\n",
      "\n"
     ]
    }
   ],
   "source": [
    "print(\"\\nTopics in NMF model (generalized Kullback-Leibler divergence):\")\n",
    "tfidf_feature_names = tfidf_vectorizer.get_feature_names()\n",
    "print_top_words(nmf, tfidf_feature_names, n_top_words)\n"
   ]
  },
  {
   "cell_type": "code",
   "execution_count": 13,
   "metadata": {},
   "outputs": [
    {
     "name": "stdout",
     "output_type": "stream",
     "text": [
      "Fitting LDA models with tf features...\n",
      "done in 2.661s.\n"
     ]
    }
   ],
   "source": [
    "print(\"Fitting LDA models with tf features...\")\n",
    "lda = LatentDirichletAllocation(n_components=n_components,\n",
    "                                learning_method='online')\n",
    "#                                 learning_offset=50.,\n",
    "#                                 random_state=0)\n",
    "t0 = time()\n",
    "lda.fit(tf)\n",
    "print(\"done in %0.3fs.\" % (time() - t0))"
   ]
  },
  {
   "cell_type": "code",
   "execution_count": 14,
   "metadata": {},
   "outputs": [
    {
     "name": "stdout",
     "output_type": "stream",
     "text": [
      "\n",
      "Topics in LDA model:\n",
      "Topic #0: cellrule said tablecell exxon bank world oil year million drought chj cvj valdez spill 87 30 exposure reserve billion new\n",
      "Topic #1: earthquake earthquakes quake magnitude richter scale survey fault chile prediction measuring japan measured geological considerable significant area buildings seismic quakes\n",
      "Topic #2: johnson said police pain lewis ben use protesters world rescue compliance angeles drugs operation demonstrators los francis abortion gates steroids\n",
      "Topic #3: mr path shining said term people president war state party slovenia guzman nafta welfare government limits new congress committee central\n",
      "Topic #4: said police people crash plane gun city force right air officers department state engine control nra states members federal chief\n",
      "Topic #5: thomas court said box black rights mr civil abortion law supreme right action senate nomination clarence man years views eclipse\n",
      "Topic #6: diabetes said hispanic beef disease hispanics british diabetics exercise health bse society population insulin americans germany years diet nutrition classes\n",
      "Topic #7: disease tuberculosis cases health tb air said people year aids building bse dr new says study infected infectious cjd sheep\n",
      "Topic #8: said year hurricane 000 people diamond marathon national forest time miles new says years beers diamonds eclipse mr race area\n",
      "Topic #9: taylor said pneumonia hospital doctors miss actress john statement condition st biopsy addiction mohler physicians health ventilator problems hospitalized week\n",
      "\n"
     ]
    }
   ],
   "source": [
    "print(\"\\nTopics in LDA model:\")\n",
    "tf_feature_names = tf_vectorizer.get_feature_names()\n",
    "tf_feature_probs = tf_vectorizer.max_features\n",
    "print_top_words(lda, tf_feature_names, n_top_words)"
   ]
  },
  {
   "cell_type": "code",
   "execution_count": 15,
   "metadata": {},
   "outputs": [],
   "source": [
    "topic_words_prob_dict = {}"
   ]
  },
  {
   "cell_type": "code",
   "execution_count": 17,
   "metadata": {},
   "outputs": [
    {
     "name": "stdout",
     "output_type": "stream",
     "text": [
      "Topic  0 :  [0.01761922060995288, 0.015474508293340725, 0.013914765076423145, 0.012185872404435995, 0.011157381527114103, 0.010754785583599512, 0.010533267683335151, 0.007063857708885361, 0.006935000960160412, 0.006894463726483822, 0.006602707241231395, 0.006568830910630214, 0.006310118892230178, 0.006287907576096999, 0.005988541316979188, 0.005359424568953088, 0.00513579618091846, 0.004672788761448498, 0.004665339772060951, 0.004300038686292435]\n",
      "Topic  1 :  [0.04904104860096852, 0.016624424164567532, 0.012041880949448545, 0.009821324424416512, 0.008073232096905861, 0.007989204932304095, 0.006125196069768168, 0.00557903907174001, 0.0055682998836173265, 0.005426937888197818, 0.005340723815686507, 0.005080638730979733, 0.004017592352717476, 0.003955385662883691, 0.003866514635808868, 0.0036616315598421334, 0.0033905050753380785, 0.003333274197094592, 0.002886457101164749, 0.0027678454548448854]\n",
      "Topic  2 :  [0.02351993459753195, 0.020983314802152302, 0.011404503058177246, 0.00822736442034807, 0.007599763879888213, 0.007255952084598846, 0.006595544893670934, 0.005984401373913228, 0.005317824235876595, 0.00489448821220792, 0.004863715342024417, 0.004860642441346474, 0.004825191647437902, 0.004785187971791528, 0.004707420347501428, 0.0046490406664715135, 0.0046263043110848605, 0.0045305966728078064, 0.004481358419891427, 0.004379030021852264]\n",
      "Topic  3 :  [0.010432054838259397, 0.009175210381518247, 0.0088827968395175, 0.0064873310876055424, 0.00643349978466211, 0.006055094673269849, 0.005569021267071061, 0.00554618766699575, 0.005462428607669355, 0.005416824279361344, 0.005080276963264736, 0.0049405080117345375, 0.0049332787860924, 0.004829117345485678, 0.0047447879423060686, 0.0043655110907826495, 0.0042673590897823995, 0.003787042742083484, 0.003225751330282492, 0.0030360600723440706]\n",
      "Topic  4 :  [0.02645783136672634, 0.011341090746273153, 0.00540233222753234, 0.0053726464843658235, 0.005299931726552689, 0.004917969092188555, 0.004707550780969022, 0.004211991545949844, 0.004200354022736489, 0.004034352694982341, 0.003954295853314284, 0.0037674317515173058, 0.003201396226454133, 0.0031252671123681713, 0.003045107426024413, 0.0029469239116477653, 0.0028768791164446744, 0.0028275001463233646, 0.002783524049261582, 0.0027103388105044987]\n",
      "Topic  5 :  [0.02345806568047443, 0.013011945444092517, 0.007277329874578191, 0.007155891960981087, 0.006503434895673247, 0.006272487814346926, 0.005684019568114051, 0.004954810639782567, 0.004657668972050152, 0.004214143676675897, 0.004146557222658267, 0.004087996171414867, 0.004082518481041366, 0.003909954699310836, 0.003905582212312694, 0.0038752815214309995, 0.003608308473057662, 0.003590341056574435, 0.0035761555635637297, 0.003396699940090358]\n",
      "Topic  6 :  [0.0230813154763407, 0.012008938403264023, 0.007764306047994546, 0.006984965868348974, 0.006271703559619697, 0.005459024172794369, 0.0052484169376409776, 0.004582589681508763, 0.004362149220183112, 0.00425898262455034, 0.0041532384524062774, 0.0035935683798664093, 0.0034693856401861382, 0.0033650307397617833, 0.003344521481244984, 0.0032969659199094292, 0.0030898696454833043, 0.002959378064552593, 0.0029560037748179923, 0.002943198907227317]\n",
      "Topic  7 :  [0.016110856613240816, 0.016029906664388333, 0.009703814480168963, 0.009150658812058671, 0.008471828582772841, 0.008031908871233187, 0.00701363256900201, 0.0064184257049642885, 0.006060236173509704, 0.005683348006072894, 0.005416343125047735, 0.005178688945993981, 0.005162386918179413, 0.005121266287383928, 0.004904287338366886, 0.004541447811566133, 0.004357319557049542, 0.004226169903330292, 0.0042184706732366845, 0.003956736301852853]\n",
      "Topic  8 :  [0.01578517381792122, 0.007630482861511622, 0.005277568422926957, 0.005196370852391272, 0.0042469643438338535, 0.003884479168394309, 0.0036710544588738825, 0.003638469014013677, 0.0035027909008936895, 0.003459001413955387, 0.00336287876810287, 0.0033467326232350905, 0.00330030948951089, 0.0032417633496804226, 0.003228717914006687, 0.003168609611315125, 0.0029909373550391373, 0.002873139992747705, 0.0028208876621828435, 0.002764247442209081]\n",
      "Topic  9 :  [0.025409960732208237, 0.02067235185423488, 0.011994031568300879, 0.010543793085602046, 0.009808484269469158, 0.007503473963763991, 0.007465591903706085, 0.006222356893180257, 0.0059253657979342535, 0.00546313736426781, 0.005233144521039936, 0.005229207120717822, 0.004689119488217132, 0.004639362184439898, 0.004590809212245119, 0.0042796914350056855, 0.00407456707459487, 0.0040208391107962125, 0.0038255191866587678, 0.003770709080039062]\n"
     ]
    }
   ],
   "source": [
    "lda.components_ /= lda.components_.sum(axis=1)[:, np.newaxis]\n",
    "for i in range(10):\n",
    "    topic_words_prob_dict[i] = sorted(lda.components_[i])[::-1][:20] \n",
    "    print(\"Topic \",i,\": \", sorted(lda.components_[i])[::-1][:20])"
   ]
  },
  {
   "cell_type": "code",
   "execution_count": 23,
   "metadata": {},
   "outputs": [],
   "source": [
    "import nltk\n",
    "import enchant\n",
    "d = enchant.Dict(\"en_US\")\n",
    "def predict_doc_topic(doc, topic_words_dict, topic_words_prob_dict):\n",
    "    text = nltk.tokenize.word_tokenize(doc)\n",
    "    for word in text:\n",
    "        if not d.check(word):\n",
    "            if len(word) < 4:\n",
    "                text.remove(word)\n",
    "    temp_dist = nltk.FreqDist(text)\n",
    "    word_dist = {}\n",
    "    for word in temp_dist:\n",
    "        word_dist[word] = temp_dist[word]\n",
    "    for word in temp_dist:\n",
    "        if word_dist[word] > 10:\n",
    "            word_dist.pop(word)\n",
    "    doc_topics_prob = {}\n",
    "    for topic in topic_words_dict:\n",
    "        score = 0\n",
    "        word_list = topic_words_dict[topic]\n",
    "        prob_list = topic_words_prob_dict[topic]\n",
    "        for index in range(len(word_list)):\n",
    "            if word_list[index] in word_dist:\n",
    "                score += word_dist[word_list[index]] * prob_list[index]\n",
    "        doc_topics_prob[topic] = score\n",
    "    return doc_topics_prob"
   ]
  },
  {
   "cell_type": "code",
   "execution_count": 24,
   "metadata": {},
   "outputs": [],
   "source": [
    "import operator\n",
    "docs = []\n",
    "for item in res['hits']['hits']:\n",
    "    id_ = item['_source']['doc_id']\n",
    "    doc = item['_source']['doc_text']\n",
    "    gold_summary = item['_source']['gold_summary']\n",
    "#     kl_summary = item['_source']['kl_summary']\n",
    "    doc_topics = predict_doc_topic(doc, topic_words_dict, topic_words_prob_dict)\n",
    "    sorted_dict = sorted(doc_topics.items(), key=operator.itemgetter(1))\n",
    "    doc_topics = sorted_dict[::-1][:5]\n",
    "    docs.append({\n",
    "        'doc_id' : id_,\n",
    "        'doc_text': doc,\n",
    "        'gold_summary': gold_summary,\n",
    "#         'kl_summary' : kl_summary,\n",
    "        'doc_topics' : doc_topics\n",
    "    })"
   ]
  },
  {
   "cell_type": "code",
   "execution_count": 28,
   "metadata": {},
   "outputs": [
    {
     "data": {
      "text/plain": [
       "{'doc_id': 'AP901013-0046 ',\n",
       " 'doc_text': \"Egypt honored its slain parliament speakerand four security men today with a state funeral led by agrim-looking President Hosni Mubarak.   The government said Iraqi agents or Egyptian Moslemfundamentalists were to blame for the assassination Friday of itssecond-highest official, Rifaat el-Mahgoub. He was the firstEgyptian politician assassinated since Islamic extremists shotPresident Anwar Sadat at a military parade nine years ago.   Four assassins riding two motorbikes killed el-Mahgoub in a cardriving by a luxury hotel by the Nile.   The death toll from the attack rose to six today with the deathof the speaker's chauffeur. Doctors in a Cairo hospital said thedriver suffered bullet wounds in the stomach, back and arm.   Hassan Abu-Basha, a former police minister, told the Caironewspaper Al-Ahram he believed el-Mahgoub's slaying was the work ofIraqi agents. He said the perpetrators possibly belonged to thePalestinian extremist faction led by Abu Nidal.   The funeral was at Nasr City, the same suburban neighborhoodwhere Sadat's funeral took place.   Hundreds of red-bereted military police and white-uniformedpolicemen sealed off all streets leading to the mosque where thereligious service was held. They also lined the funeral processionroute, as did hundreds of plainclothes security men.   Mubarak, wearing a black suit and sunglasses, and BritishForeign Secretary Douglas Hurd, on a two-day official visit, werein the front row of about 1,000 mourners. They included relativesof the dead, government officials and foreign diplomats.   Symbolic units from the military services spearheaded theprocession, followed by a military band and two dozenwreath-bearers.   Behind them were four military jeeps carrying coffins of thefour security men, draped in the red, white and black Egyptianflag.   A caisson bearing el-Mahgoub's coffin followed, also wrapped inthe flag. It was drawn by three pairs of black horses. Militaryofficers rode the three horses on the right. Immediately behindcame two officers carrying el-Mahgoub's decorations laid onblack-velvet cushions.   The procession began from the mosque and stopped about 1,500feet away. Relatives of the dead then lined up to acceptcondolences from Mubarak and other mourners.   Interior Minister Abdel-Halim Moussa had warned days earlier ofsuch an attack. He said authorities arrested alleged saboteurs whowere entering the country with orders from Iraqi President SaddamHussein to assassinate Egyptian officials.   Saddam has called Egypt a traitor to the Arab cause for sendingits troops to back the U.S. military buildup in the gulf inresponse to the Aug. 2 Iraqi invasion of Kuwait.   The state-owned newspaper Al-Ahram, quoting police sources,reported Monday that local Moslem extremists were collaboratingwith Palestinian terrorists sent to the country by Iraq on sabotagemissions.   It said the extremists had provided weapons and explosives tofive Palestinians from Abu Nidal's faction of the PalestineLiberation Organization. Recent reports said Abu Nidal'sFatah-Revolutionary Council recently moved its headquarters fromLibya to Iraq.   Police ordered a state of alert at airports to keep theassailants from fleeing and set up security checkpoints along Cairobridges.   El-Mahgoub's authority extended solely over the 458-seatParliament, which he had headed since 1984. He was not active inthe gulf crisis, Al-Ahram noted in a front-page editorial today.   ``In fact he was assassinated because he was a prominentEgyptian politician. The assasins wanted to tell their terroristbosses that they pierced the stability of Egypt,'' the newspapersaid.   In Washington, White House spokesman Marlin Fitzwater said: ``Weare shocked by the assassination of the Egyptian speaker.   ``We certainly deplore these kinds of terrorist activities andassassination is the most vile kind of terrorism. We don't have anyindication at this time who was responsible or what their purposeswere,'' he said.\",\n",
       " 'doc_topics': [(4, 0.2602433655015892),\n",
       "  (2, 0.20208002759175014),\n",
       "  (9, 0.17592260791948108),\n",
       "  (8, 0.13298215530700558),\n",
       "  (0, 0.1237960663467258)],\n",
       " 'gold_summary': \"Abstract:\\nThe Egyptian government said Iraqi agents or Egyptian Moslem fundamentalists were to blame for the assassination in October 1990 of its second highest official, Rifaat el- Mahgoub. He is the first Egyptian politician assassinated since Islamic extremists shot President Anwar Sadat nine years ago. Four assassins riding two motorbikes killed el- Mahgoub in a car. The death toll from the attack rose to six with the death of his chauffeur. Interior Minister Abdel-Halim Mirissa had warned days earlier of such an attack. He said authorities arrested alleged saboteurs who were entering the country with orders from Iraqi President Saddem Hussein to assassinate Egyptian officials.\\nIntroduction:\\n   Egypt honored its slain parliament speaker\\nand four security men today with a state funeral led by a\\ngrim-looking President Hosni Mubarak.\\n   The government said Iraqi agents or Egyptian Moslem\\nfundamentalists were to blame for the assassination Friday of its\\nsecond-highest official, Rifaat el-Mahgoub. He was the first\\nEgyptian politician assassinated since Islamic extremists shot\\nPresident Anwar Sadat at a military parade nine years ago.\\n   Four assassins riding two motorbikes killed el-Mahgoub in a car\\ndriving by a luxury hotel by the Nile.\\n   The death toll from the attack rose to six today with the death\\nof the speaker's chauffeur. Doctors in a Cairo hospital said the\\ndriver suffered bullet wounds in the stomach, back and arm.\\n   Hassan Abu-Basha, a former police minister, told the Cairo\\nnewspaper Al-Ahram he believed el-Mahgoub's slaying was the work of\\nIraqi agents. He said the perpetrators possibly belonged to the\\nPalestinian extremist faction led by Abu Nidal.\\n   The funeral was at Nasr City, the same suburban neighborhood\\nwhere Sadat's funeral took place.\\n   Hundreds of red-bereted military police and white-uniformed\\npolicemen sealed off all streets leading to the mosque where the\\nreligious service was held. They also lined the funeral procession\\nroute, as did hundreds of plainclothes security men.\\n   Mubarak, wearing a black suit and sunglasses, and British\\nForeign Secretary Douglas Hurd, on a two-day official visit, were\\nin the front row of about 1,000 mourners. They included relatives\\nof the dead, government officials and foreign diplomats.\\n   Symbolic units from the military services spearheaded the\\nprocession, followed by a military band and two dozen\\nwreath-bearers.\\n   Behind them were four military jeeps carrying coffins of the\\nfour security men, draped in the red, white and black Egyptian\\nflag.\\n   A caisson bearing el-Mahgoub's coffin followed, also wrapped in\\nthe flag. It was drawn by three pairs of black horses. Military\\nofficers rode the three horses on the right. Immediately behind\\ncame two officers carrying el-Mahgoub's decorations laid on\\nblack-velvet cushions.\\n   The procession began from the mosque and stopped about 1,500\\nfeet away. Relatives of the dead then lined up to accept\\ncondolences from Mubarak and other mourners.\\n   Interior Minister Abdel-Halim Moussa had warned days earlier of\\nsuch an attack. He said authorities arrested alleged saboteurs who\\nwere entering the country with orders from Iraqi President Saddam\\nHussein to assassinate Egyptian officials.\\n   Saddam has called Egypt a traitor to the Arab cause for sending\\nits troops to back the U.S. military buildup in the gulf in\\nresponse to the Aug. 2 Iraqi invasion of Kuwait.\\n   The state-owned newspaper Al-Ahram, quoting police sources,\\nreported Monday that local Moslem extremists were collaborating\\nwith Palestinian terrorists sent to the country by Iraq on sabotage\\nmissions.\\n   It said the extremists had provided weapons and explosives to\\nfive Palestinians from Abu Nidal's faction of the Palestine\\nLiberation Organization. Recent reports said Abu Nidal's\\nFatah-Revolutionary Council recently moved its headquarters from\\nLibya to Iraq.\\n   Police ordered a state of alert at airports to keep the\\nassailants from fleeing and set up security checkpoints along Cairo\\nbridges.\\n   El-Mahgoub's authority extended solely over the 458-seat\\nParliament, which he had headed since 1984. He was not active in\\nthe gulf crisis, Al-Ahram noted in a front-page editorial today.\\n   ``In fact he was assassinated because he was a prominent\\nEgyptian politician. The assasins wanted to tell their terrorist\\nbosses that they pierced the stability of Egypt,'' the newspaper\\nsaid.\\n   In Washington, White House spokesman Marlin Fitzwater said: ``We\\nare shocked by the assassination of the Egyptian speaker.\\n   ``We certainly deplore these kinds of terrorist activities and\\nassassination is the most vile kind of terrorism. We don't have any\\nindication at this time who was responsible or what their purposes\\nwere,'' he said.\\n\\x1a\"}"
      ]
     },
     "execution_count": 28,
     "metadata": {},
     "output_type": "execute_result"
    }
   ],
   "source": [
    "docs[3]"
   ]
  },
  {
   "cell_type": "code",
   "execution_count": 26,
   "metadata": {},
   "outputs": [
    {
     "data": {
      "text/plain": [
       "{'doc_id': 'T941-1547',\n",
       " 'doc_text': \" German government yesterday announced the launch of a new researchproject to examine whether the cattle disease bovine spongiformencephalopathy (BSE) can be transmitted to human beings.The initiative comes as the country is pushing for a European Union ban onBritish beef imports, arguing that there is still no conclusive evidencethat the disease cannot affect humans.Seven German universities and research institutes will be sponsored by thecountry's research and technology ministry to examine possible connectionsbetween the origins of BSE and two other diseases, Creutzfeldt Jakob diseaseand Gerstmann Straussler syndrome, which very rarely affect humans.Several German scientists have expressed concern that BSE - popularly knownas 'mad cow disease' because of the way it debilitates the brains of cattle -may be transmissible to humans who eat contaminated beef or take medicinesmade with ingredients from contaminated animals.'The danger that BSE can be transmitted to humans is minimal ornon-existent,' said Professor Hans Kretzschmar from Gottingen University.'However, we do not know that it is non-existent. I personally think(British beef) should not be imported.'Contaminated British beef will be discussed at a meeting of EU healthministers on March 30, but a German official said that any decisions about aban would be made by the union's agriculture ministers, who were likely toargue that existing safeguards were sufficient.In 1992, the last year for which figures are available, Germany imported2,092 tonnes of British beef - 2 per cent of all its beef imports from otherEU countries - and 13 tonnes of veal.The research ministry said that more than 100,000 cattle had died as aresult of catching BSE in Britain. A further 50 cases of the disease hadbeen recorded in Switzerland and there were two known cases in Germany, oneof which affected a cow imported from Britain.\",\n",
       " 'doc_topics': [(7, 0.11607345558120084),\n",
       "  (6, 0.10302342465836471),\n",
       "  (4, 0.07937349410017902),\n",
       "  (0, 0.06314684584415306),\n",
       "  (2, 0.0629499444064569)],\n",
       " 'gold_summary': 'Abstract:\\nThe German government yesterday announced a program at seven universities and research institutes to study whether bovine spongiform encephalopathy (BSE), popularly known as \"mad cow disease,\" can be transmitted to humans possibly causing two related diseases that very rarely affect humans: Creutzfeldt-Jakob disease and Gerstmann Straussler syndrome. The risk of contracting the disease by eating infected beef is considered minimal, but not non-existent. EU health ministers will discuss contaminated British beef on March 30. Meanwhile 50 cases of BSE have been recorded in Switzerland and two in Germany, one affecting a cow imported from Britain.\\nIntroduction:\\nThe German government yesterday announced the launch of a new research\\nproject to examine whether the cattle disease bovine spongiform\\nencephalopathy (BSE) can be transmitted to human beings.\\nThe initiative comes as the country is pushing for a European Union ban on\\nBritish beef imports, arguing that there is still no conclusive evidence\\nthat the disease cannot affect humans.\\nSeven German universities and research institutes will be sponsored by the\\ncountry\\'s research and technology ministry to examine possible connections\\nbetween the origins of BSE and two other diseases, Creutzfeldt Jakob disease\\nand Gerstmann Straussler syndrome, which very rarely affect humans.\\nSeveral German scientists have expressed concern that BSE - popularly known\\nas \\'mad cow disease\\' because of the way it debilitates the brains of cattle\\n -may be transmissible to humans who eat contaminated beef or take medicines\\nmade with ingredients from contaminated animals.\\n\\'The danger that BSE can be transmitted to humans is minimal or\\nnon-existent,\\' said Professor Hans Kretzschmar from Gottingen University.\\n\\'However, we do not know that it is non-existent. I personally think\\n(British beef) should not be imported.\\'\\nContaminated British beef will be discussed at a meeting of EU health\\nministers on March 30, but a German official said that any decisions about a\\nban would be made by the union\\'s agriculture ministers, who were likely to\\nargue that existing safeguards were sufficient.\\nIn 1992, the last year for which figures are available, Germany imported\\n2,092 tonnes of British beef - 2 per cent of all its beef imports from other\\nEU countries - and 13 tonnes of veal.\\nThe research ministry said that more than 100,000 cattle had died as a\\nresult of catching BSE in Britain. A further 50 cases of the disease had\\nbeen recorded in Switzerland and there were two known cases in Germany, one\\nof which affected a cow imported from Britain.\\n\\x1a'}"
      ]
     },
     "execution_count": 26,
     "metadata": {},
     "output_type": "execute_result"
    }
   ],
   "source": [
    "docs[4]"
   ]
  },
  {
   "cell_type": "code",
   "execution_count": 19,
   "metadata": {},
   "outputs": [
    {
     "data": {
      "text/plain": [
       "{'acknowledged': True,\n",
       " 'index': 'duc_topic_modelling',\n",
       " 'shards_acknowledged': True}"
      ]
     },
     "execution_count": 19,
     "metadata": {},
     "output_type": "execute_result"
    }
   ],
   "source": [
    "from elasticsearch import Elasticsearch\n",
    "es = Elasticsearch('localhost')\n",
    "es.indices.delete(index='duc_topic_modelling', ignore=[400, 404])\n",
    "mappings_duc = {\n",
    "    'mappings':{\n",
    "        'words':{\n",
    "            'properties':{\n",
    "                'topic_id': {'type': 'text', 'index': 'false'},\n",
    "                'top_words': {'type': 'text', 'analyzer': 'english'},\n",
    "                'word_probs':{'type': 'text', 'analyzer': 'english'}\n",
    "            }\n",
    "        }\n",
    "    }\n",
    "}\n",
    "es.indices.create(index=\"duc_topic_modelling\", body=mappings_duc)"
   ]
  },
  {
   "cell_type": "code",
   "execution_count": 20,
   "metadata": {},
   "outputs": [],
   "source": [
    "topics = []\n",
    "for i in range(len(topic_words_dict)):\n",
    "    topics.append({\n",
    "        'topic_id' : str(i),\n",
    "        'top_words': topic_words_dict[i],\n",
    "        'word_probs': topic_words_prob_dict[i]\n",
    "    })"
   ]
  },
  {
   "cell_type": "code",
   "execution_count": 22,
   "metadata": {},
   "outputs": [],
   "source": [
    "for topic in topics:\n",
    "    es.index(index='duc_topic_modelling', doc_type='words', body=topic)"
   ]
  },
  {
   "cell_type": "code",
   "execution_count": 29,
   "metadata": {},
   "outputs": [
    {
     "data": {
      "text/plain": [
       "{'acknowledged': True, 'index': 'duc', 'shards_acknowledged': True}"
      ]
     },
     "execution_count": 29,
     "metadata": {},
     "output_type": "execute_result"
    }
   ],
   "source": [
    "es.indices.delete(index='duc', ignore=[400, 404])\n",
    "mappings_duc = {\n",
    "    'mappings':{\n",
    "        'document':{\n",
    "            'properties':{\n",
    "                'doc_id': {'type': 'text', 'index': 'false'},\n",
    "                'doc_text': {'type': 'text', 'analyzer': 'english'},\n",
    "                'gold_summary':{'type': 'text', 'analyzer': 'english'},\n",
    "#                 'kl_summary':{'type': 'text', 'analyzer': 'english'},\n",
    "                'doc_topics' : {'type': 'text', 'analyzer': 'english'}\n",
    "            }\n",
    "        }\n",
    "    }\n",
    "}\n",
    "es.indices.create(index=\"duc\", body=mappings_duc)"
   ]
  },
  {
   "cell_type": "code",
   "execution_count": 30,
   "metadata": {},
   "outputs": [],
   "source": [
    "for doc in docs:\n",
    "    es.index(index='duc', doc_type='document', body=doc)"
   ]
  },
  {
   "cell_type": "code",
   "execution_count": null,
   "metadata": {},
   "outputs": [],
   "source": []
  }
 ],
 "metadata": {
  "kernelspec": {
   "display_name": "Python 3",
   "language": "python",
   "name": "python3"
  },
  "language_info": {
   "codemirror_mode": {
    "name": "ipython",
    "version": 3
   },
   "file_extension": ".py",
   "mimetype": "text/x-python",
   "name": "python",
   "nbconvert_exporter": "python",
   "pygments_lexer": "ipython3",
   "version": "3.6.4"
  }
 },
 "nbformat": 4,
 "nbformat_minor": 2
}
